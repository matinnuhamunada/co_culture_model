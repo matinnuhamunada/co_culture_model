{
 "cells": [
  {
   "cell_type": "code",
   "execution_count": 1,
   "metadata": {},
   "outputs": [
    {
     "name": "stderr",
     "output_type": "stream",
     "text": [
      "/home/matinnu/anaconda3/envs/lab_rotation_3/lib/python3.7/site-packages/sympy/__init__.py:676: SymPyDeprecationWarning: \n",
      "\n",
      "importing sympy.core.singleton with 'from sympy import *' has been\n",
      "deprecated since SymPy 1.6. Use import sympy.core.singleton instead.\n",
      "See https://github.com/sympy/sympy/issues/18245 for more info.\n",
      "\n",
      "  deprecated_since_version=\"1.6\").warn()\n"
     ]
    }
   ],
   "source": [
    "from cameo import models\n",
    "from cameo import load_model\n",
    "import pandas as pd\n",
    "import numpy as np\n",
    "from cobra import Model, Reaction, Metabolite\n",
    "import cobra"
   ]
  },
  {
   "cell_type": "code",
   "execution_count": 2,
   "metadata": {},
   "outputs": [],
   "source": [
    "def evaluate_knockout(model, mutant, ko_list):\n",
    "    bound_knockout = []\n",
    "    for i in ko_list:\n",
    "        i_gene = str(model.genes[i])\n",
    "        i_uniprot = str(model.genes[i].annotation['uniprot'][0])\n",
    "        i_n_reactions = len(model.genes[i].reactions)\n",
    "        i_reactions = []\n",
    "        i_bounds_model = []\n",
    "        i_bounds_mutant = []\n",
    "        for x in model.genes[i].reactions:\n",
    "            x_reaction = [str(x.id), str(x.reaction)]\n",
    "            x_bounds = x.bounds\n",
    "            i_reactions.append(x_reaction)\n",
    "            i_bounds_model.append(x_bounds)\n",
    "        for y in mutant.genes[i].reactions:\n",
    "            y_bounds = y.bounds\n",
    "            i_bounds_mutant.append(y_bounds)\n",
    "        data = [i_gene, i_uniprot, i_n_reactions, i_reactions, i_bounds_model, i_bounds_mutant]\n",
    "        bound_knockout.append(data)\n",
    "\n",
    "    for i in bound_knockout:\n",
    "        print('gene: '+i[0])\n",
    "        print('uniprot: '+i[1])\n",
    "        print('number of reactions involved: '+str(i[2]))\n",
    "        for count, x in enumerate(i[3]):\n",
    "            print('* '+x[0]+' :', x[1])\n",
    "            print('bounds normal: '+str(i[4][count]))\n",
    "            print('bounds mutant: '+str(i[5][count]))\n",
    "        print('------------------------------------------------------------')\n",
    "    return"
   ]
  },
  {
   "cell_type": "code",
   "execution_count": 3,
   "metadata": {},
   "outputs": [
    {
     "name": "stdout",
     "output_type": "stream",
     "text": [
      "Using license file /home/matinnu/gurobi.lic\n",
      "Academic license - for non-commercial use only\n"
     ]
    },
    {
     "data": {
      "text/html": [
       "\n",
       "        <table>\n",
       "            <tr>\n",
       "                <td><strong>Name</strong></td>\n",
       "                <td>iML1515</td>\n",
       "            </tr><tr>\n",
       "                <td><strong>Memory address</strong></td>\n",
       "                <td>0x07ffa7856e410</td>\n",
       "            </tr><tr>\n",
       "                <td><strong>Number of metabolites</strong></td>\n",
       "                <td>1877</td>\n",
       "            </tr><tr>\n",
       "                <td><strong>Number of reactions</strong></td>\n",
       "                <td>2712</td>\n",
       "            </tr><tr>\n",
       "                <td><strong>Number of groups</strong></td>\n",
       "                <td>0</td>\n",
       "            </tr><tr>\n",
       "                <td><strong>Objective expression</strong></td>\n",
       "                <td>0.0 + 1.0*BIOMASS_Ec_iML1515_core_75p37M - 1.0*BIOMASS_Ec_iML1515_core_75p37M_reverse_35685</td>\n",
       "            </tr><tr>\n",
       "                <td><strong>Compartments</strong></td>\n",
       "                <td>cytosol, extracellular space, periplasm</td>\n",
       "            </tr>\n",
       "          </table>"
      ],
      "text/plain": [
       "<Model iML1515 at 0x7ffa7856e410>"
      ]
     },
     "execution_count": 3,
     "metadata": {},
     "output_type": "execute_result"
    }
   ],
   "source": [
    "model = load_model('iML1515')\n",
    "model.solver = 'gurobi'\n",
    "model"
   ]
  },
  {
   "cell_type": "markdown",
   "metadata": {},
   "source": [
    "# Xylitol strain knockout model"
   ]
  },
  {
   "cell_type": "code",
   "execution_count": 4,
   "metadata": {},
   "outputs": [
    {
     "name": "stdout",
     "output_type": "stream",
     "text": [
      "Read LP format model from file /tmp/tmpbqvbwdap.lp\n",
      "Reading time = 0.02 seconds\n",
      ": 1877 rows, 5424 columns, 21150 nonzeros\n",
      "Read LP format model from file /tmp/tmp_s3hpxif.lp\n",
      "Reading time = 0.02 seconds\n",
      ": 1877 rows, 5424 columns, 21150 nonzeros\n"
     ]
    }
   ],
   "source": [
    "# copy model to create mutant\n",
    "mutant_xylitol = model.copy()\n",
    "\n",
    "# create list of genes to KO\n",
    "ko_list = pd.read_csv('data/df_xylitol_knockouts.csv', index_col=0).dropna(subset = ['id_bigg'])\n",
    "ko_list.iML1515_idx = ko_list.iML1515_idx.astype(int)\n",
    "#ko_list"
   ]
  },
  {
   "cell_type": "code",
   "execution_count": 5,
   "metadata": {},
   "outputs": [
    {
     "name": "stdout",
     "output_type": "stream",
     "text": [
      "gene: b0904\n",
      "uniprot: P0AC23\n",
      "number of reactions involved: 2\n",
      "* FORt2pp : for_p + h_p --> for_c + h_c\n",
      "bounds normal: (0.0, 1000.0)\n",
      "bounds mutant: (0.0, 1000.0)\n",
      "* FORtppi : for_c --> for_p\n",
      "bounds normal: (0.0, 1000.0)\n",
      "bounds mutant: (0.0, 1000.0)\n",
      "------------------------------------------------------------\n",
      "gene: b0903\n",
      "uniprot: P09373\n",
      "number of reactions involved: 2\n",
      "* PFL : coa_c + pyr_c --> accoa_c + for_c\n",
      "bounds normal: (0.0, 1000.0)\n",
      "bounds mutant: (0.0, 1000.0)\n",
      "* OBTFL : 2obut_c + coa_c --> for_c + ppcoa_c\n",
      "bounds normal: (0.0, 1000.0)\n",
      "bounds mutant: (0.0, 1000.0)\n",
      "------------------------------------------------------------\n",
      "gene: b1380\n",
      "uniprot: P52643\n",
      "number of reactions involved: 1\n",
      "* LDH_D : lac__D_c + nad_c <=> h_c + nadh_c + pyr_c\n",
      "bounds normal: (-1000.0, 1000.0)\n",
      "bounds mutant: (0, 0)\n",
      "------------------------------------------------------------\n",
      "gene: b1241\n",
      "uniprot: P0A9Q7\n",
      "number of reactions involved: 3\n",
      "* ALCD19 : glyald_c + h_c + nadh_c <=> glyc_c + nad_c\n",
      "bounds normal: (-1000.0, 1000.0)\n",
      "bounds mutant: (-1000.0, 1000.0)\n",
      "* ACALD : acald_c + coa_c + nad_c <=> accoa_c + h_c + nadh_c\n",
      "bounds normal: (-1000.0, 1000.0)\n",
      "bounds mutant: (-1000.0, 1000.0)\n",
      "* ALCD2x : etoh_c + nad_c <=> acald_c + h_c + nadh_c\n",
      "bounds normal: (-1000.0, 1000.0)\n",
      "bounds mutant: (-1000.0, 1000.0)\n",
      "------------------------------------------------------------\n",
      "gene: b4154\n",
      "uniprot: P00363\n",
      "number of reactions involved: 2\n",
      "* FRD2 : fum_c + mql8_c --> mqn8_c + succ_c\n",
      "bounds normal: (0.0, 1000.0)\n",
      "bounds mutant: (0, 0)\n",
      "* FRD3 : 2dmmql8_c + fum_c --> 2dmmq8_c + succ_c\n",
      "bounds normal: (0.0, 1000.0)\n",
      "bounds mutant: (0, 0)\n",
      "------------------------------------------------------------\n",
      "gene: b0431\n",
      "uniprot: P0ABI8\n",
      "number of reactions involved: 1\n",
      "* CYTBO3_4pp : 4.0 h_c + 0.5 o2_c + q8h2_c --> h2o_c + 4.0 h_p + q8_c\n",
      "bounds normal: (0.0, 1000.0)\n",
      "bounds mutant: (0, 0)\n",
      "------------------------------------------------------------\n",
      "gene: b0979\n",
      "uniprot: P26458\n",
      "number of reactions involved: 2\n",
      "* CYTBDpp : 2.0 h_c + 0.5 o2_c + q8h2_c --> h2o_c + 2.0 h_p + q8_c\n",
      "bounds normal: (0.0, 1000.0)\n",
      "bounds mutant: (0.0, 1000.0)\n",
      "* CYTBD2pp : 2.0 h_c + mql8_c + 0.5 o2_c --> h2o_c + 2.0 h_p + mqn8_c\n",
      "bounds normal: (0.0, 1000.0)\n",
      "bounds mutant: (0, 0)\n",
      "------------------------------------------------------------\n"
     ]
    }
   ],
   "source": [
    "for i in ko_list.iML1515_idx:\n",
    "    mutant_xylitol.genes[i].knock_out()\n",
    "    \n",
    "#model = model\n",
    "#mutant = mutant_xylitol\n",
    "#ko_list = ko_list.iML1515_idx\n",
    "\n",
    "evaluate_knockout(model, mutant_xylitol, ko_list.iML1515_idx)"
   ]
  },
  {
   "cell_type": "markdown",
   "metadata": {},
   "source": [
    "# Isobutyric strain knockout model"
   ]
  },
  {
   "cell_type": "code",
   "execution_count": 6,
   "metadata": {},
   "outputs": [
    {
     "name": "stdout",
     "output_type": "stream",
     "text": [
      "Read LP format model from file /tmp/tmpbtrdq_i5.lp\n",
      "Reading time = 0.02 seconds\n",
      ": 1877 rows, 5424 columns, 21150 nonzeros\n",
      "Read LP format model from file /tmp/tmpkq8456_g.lp\n",
      "Reading time = 0.04 seconds\n",
      ": 1877 rows, 5424 columns, 21150 nonzeros\n"
     ]
    }
   ],
   "source": [
    "# copy model to create mutant\n",
    "mutant_isobutyric = model.copy()\n",
    "\n",
    "# create list of genes to KO\n",
    "ko_list = pd.read_csv('data/df_isobutyric_knockouts.csv', index_col=0).dropna(subset = ['id_bigg'])\n",
    "ko_list.iML1515_idx = ko_list.iML1515_idx.astype(int)\n",
    "#ko_list"
   ]
  },
  {
   "cell_type": "code",
   "execution_count": 7,
   "metadata": {},
   "outputs": [
    {
     "name": "stdout",
     "output_type": "stream",
     "text": [
      "gene: b0903\n",
      "uniprot: P09373\n",
      "number of reactions involved: 2\n",
      "* PFL : coa_c + pyr_c --> accoa_c + for_c\n",
      "bounds normal: (0.0, 1000.0)\n",
      "bounds mutant: (0, 0)\n",
      "* OBTFL : 2obut_c + coa_c --> for_c + ppcoa_c\n",
      "bounds normal: (0.0, 1000.0)\n",
      "bounds mutant: (0, 0)\n",
      "------------------------------------------------------------\n",
      "gene: b0871\n",
      "uniprot: P07003\n",
      "number of reactions involved: 1\n",
      "* POX : h2o_c + pyr_c + q8_c --> ac_c + co2_c + q8h2_c\n",
      "bounds normal: (0.0, 1000.0)\n",
      "bounds mutant: (0, 0)\n",
      "------------------------------------------------------------\n",
      "gene: b3114\n",
      "uniprot: P42632\n",
      "number of reactions involved: 2\n",
      "* PFL : coa_c + pyr_c --> accoa_c + for_c\n",
      "bounds normal: (0.0, 1000.0)\n",
      "bounds mutant: (0, 0)\n",
      "* OBTFL : 2obut_c + coa_c --> for_c + ppcoa_c\n",
      "bounds normal: (0.0, 1000.0)\n",
      "bounds mutant: (0, 0)\n",
      "------------------------------------------------------------\n",
      "gene: b3952\n",
      "uniprot: P32675\n",
      "number of reactions involved: 1\n",
      "* PFL : coa_c + pyr_c --> accoa_c + for_c\n",
      "bounds normal: (0.0, 1000.0)\n",
      "bounds mutant: (0, 0)\n",
      "------------------------------------------------------------\n",
      "gene: b4381\n",
      "uniprot: P0A6L0\n",
      "number of reactions involved: 1\n",
      "* DRPA : 2dr5p_c --> acald_c + g3p_c\n",
      "bounds normal: (0.0, 1000.0)\n",
      "bounds mutant: (0, 0)\n",
      "------------------------------------------------------------\n",
      "gene: b1378\n",
      "uniprot: P52647\n",
      "number of reactions involved: 1\n",
      "* POR5 : coa_c + 2.0 flxso_c + pyr_c <=> accoa_c + co2_c + 2.0 flxr_c + h_c\n",
      "bounds normal: (-1000.0, 1000.0)\n",
      "bounds mutant: (0, 0)\n",
      "------------------------------------------------------------\n",
      "gene: b3011\n",
      "uniprot: Q46856\n",
      "number of reactions involved: 3\n",
      "* 13PPDH2 : 3hppnl_c + h_c + nadph_c <=> 13ppd_c + nadp_c\n",
      "bounds normal: (-1000.0, 1000.0)\n",
      "bounds mutant: (0.0, 1000.0)\n",
      "* ALDD3y : h2o_c + nadp_c + ppal_c --> 2.0 h_c + nadph_c + ppa_c\n",
      "bounds normal: (0.0, 1000.0)\n",
      "bounds mutant: (0.0, 1000.0)\n",
      "* ALDD2y : acald_c + h2o_c + nadp_c --> ac_c + 2.0 h_c + nadph_c\n",
      "bounds normal: (0.0, 1000.0)\n",
      "bounds mutant: (0, 0)\n",
      "------------------------------------------------------------\n",
      "gene: b0063\n",
      "uniprot: P08204\n",
      "number of reactions involved: 3\n",
      "* XYLK : atp_c + xylu__D_c --> adp_c + h_c + xu5p__D_c\n",
      "bounds normal: (0.0, 1000.0)\n",
      "bounds mutant: (0, 0)\n",
      "* RBK_L1 : atp_c + rbl__L_c --> adp_c + h_c + ru5p__L_c\n",
      "bounds normal: (0.0, 1000.0)\n",
      "bounds mutant: (0, 0)\n",
      "* XYLK2 : atp_c + xylu__L_c --> adp_c + h_c + xu5p__L_c\n",
      "bounds normal: (0.0, 1000.0)\n",
      "bounds mutant: (0.0, 1000.0)\n",
      "------------------------------------------------------------\n",
      "gene: b0062\n",
      "uniprot: P08202\n",
      "number of reactions involved: 1\n",
      "* ARAI : arab__L_c <=> rbl__L_c\n",
      "bounds normal: (-1000.0, 1000.0)\n",
      "bounds mutant: (0, 0)\n",
      "------------------------------------------------------------\n",
      "gene: b3564\n",
      "uniprot: P09099\n",
      "number of reactions involved: 2\n",
      "* XYLK : atp_c + xylu__D_c --> adp_c + h_c + xu5p__D_c\n",
      "bounds normal: (0.0, 1000.0)\n",
      "bounds mutant: (0, 0)\n",
      "* DXYLK : atp_c + dxyl_c --> adp_c + dxyl5p_c + h_c\n",
      "bounds normal: (0.0, 1000.0)\n",
      "bounds mutant: (0, 0)\n",
      "------------------------------------------------------------\n"
     ]
    }
   ],
   "source": [
    "for i in ko_list.iML1515_idx:\n",
    "    mutant_isobutyric.genes[i].knock_out()\n",
    "\n",
    "    \n",
    "#model = model\n",
    "#mutant = mutant_isobutyric\n",
    "#ko_list = ko_list.iML1515_idx\n",
    "\n",
    "evaluate_knockout(model, mutant_isobutyric, ko_list.iML1515_idx)\n",
    "    "
   ]
  },
  {
   "cell_type": "markdown",
   "metadata": {},
   "source": [
    "# Add Reactions\n",
    "## Add Metabolites"
   ]
  },
  {
   "cell_type": "code",
   "execution_count": 22,
   "metadata": {},
   "outputs": [
    {
     "data": {
      "text/html": [
       "\n",
       "        <table>\n",
       "            <tr>\n",
       "                <td><strong>Name</strong></td>\n",
       "                <td>iMM904</td>\n",
       "            </tr><tr>\n",
       "                <td><strong>Memory address</strong></td>\n",
       "                <td>0x07ffa6c093cd0</td>\n",
       "            </tr><tr>\n",
       "                <td><strong>Number of metabolites</strong></td>\n",
       "                <td>1226</td>\n",
       "            </tr><tr>\n",
       "                <td><strong>Number of reactions</strong></td>\n",
       "                <td>1577</td>\n",
       "            </tr><tr>\n",
       "                <td><strong>Number of groups</strong></td>\n",
       "                <td>0</td>\n",
       "            </tr><tr>\n",
       "                <td><strong>Objective expression</strong></td>\n",
       "                <td>0.0 + 1.0*BIOMASS_SC5_notrace - 1.0*BIOMASS_SC5_notrace_reverse_93090</td>\n",
       "            </tr><tr>\n",
       "                <td><strong>Compartments</strong></td>\n",
       "                <td>cytosol, extracellular space, mitochondria, peroxisome/glyoxysome, endoplasmic reticulum, vacuole, golgi apparatus, nucleus</td>\n",
       "            </tr>\n",
       "          </table>"
      ],
      "text/plain": [
       "<Model iMM904 at 0x7ffa6c093cd0>"
      ]
     },
     "execution_count": 22,
     "metadata": {},
     "output_type": "execute_result"
    }
   ],
   "source": [
    "model_yeast = load_model('iMM904')\n",
    "model_yeast.solver = 'gurobi'\n",
    "model_yeast"
   ]
  },
  {
   "cell_type": "code",
   "execution_count": 29,
   "metadata": {},
   "outputs": [],
   "source": [
    "# add metabolites\n",
    "isobuta_c = Metabolite(\n",
    "    'isobuta_c',\n",
    "    formula='C4H8O2',\n",
    "    name='2-methylpropanoic-acid',\n",
    "    compartment='c')\n",
    "\n",
    "isobuta_e = Metabolite(\n",
    "    'isobuta_e',\n",
    "    formula='C4H8O2',\n",
    "    name='2-methylpropanoic-acid',\n",
    "    compartment='e')\n",
    "\n",
    "mppal_c = Metabolite(\n",
    "    '2mppal_c',\n",
    "    formula='C4H8O',\n",
    "    name='2-methylpropanal',\n",
    "    compartment='c')\n",
    "\n",
    "xylt_c = model_yeast.metabolites.xylt_c\n",
    "xylt_e = model_yeast.metabolites.xylt_e\n",
    "xyl__D_c = model.metabolites.xyl__D_c\n",
    "h_c = model.metabolites.h_c\n",
    "co2_c = model.metabolites.co2_c\n",
    "mob_c = model.metabolites.get_by_id('3mob_c')\n",
    "h2o_c = model.metabolites.h2o_c\n",
    "nad_c = model.metabolites.nad_c\n",
    "nadh_c = model.metabolites.nadh_c\n",
    "nadp_c = model.metabolites.nadp_c\n",
    "nadph_c = model.metabolites.nadph_c"
   ]
  },
  {
   "cell_type": "markdown",
   "metadata": {},
   "source": [
    "## Isobutyric Mutant\n",
    "### _Reaction 1: 3-Methyl-2-oxobutanoate => 2-methylpropanal_"
   ]
  },
  {
   "cell_type": "code",
   "execution_count": 9,
   "metadata": {},
   "outputs": [],
   "source": [
    "# define reaction\n",
    "reaction = Reaction('kivD_heterologous')\n",
    "reaction.name = 'alpha-ketoisovalerate-decarboxylase'\n",
    "reaction.subsystem = 'Alternate Carbon Metabolism'\n",
    "reaction.lower_bound = 0.  # This is the default\n",
    "reaction.upper_bound = 1000.  # This is the default"
   ]
  },
  {
   "cell_type": "code",
   "execution_count": 10,
   "metadata": {},
   "outputs": [
    {
     "data": {
      "text/plain": [
       "'3mob_c + h_c --> 2mppal_c + co2_c'"
      ]
     },
     "execution_count": 10,
     "metadata": {},
     "output_type": "execute_result"
    }
   ],
   "source": [
    "reaction.add_metabolites({\n",
    "    mob_c: -1.0,\n",
    "    h_c: -1.0,\n",
    "    co2_c: 1.0,\n",
    "    mppal_c: 1.0\n",
    "})\n",
    "\n",
    "reaction.reaction  "
   ]
  },
  {
   "cell_type": "code",
   "execution_count": 11,
   "metadata": {},
   "outputs": [
    {
     "data": {
      "text/plain": [
       "frozenset({<Gene kivD at 0x7ffa7a2c58d0>})"
      ]
     },
     "execution_count": 11,
     "metadata": {},
     "output_type": "execute_result"
    }
   ],
   "source": [
    "reaction.gene_reaction_rule = '( kivD )'\n",
    "reaction.genes"
   ]
  },
  {
   "cell_type": "code",
   "execution_count": 12,
   "metadata": {},
   "outputs": [],
   "source": [
    "mutant_isobutyric.add_reactions([reaction])"
   ]
  },
  {
   "cell_type": "markdown",
   "metadata": {},
   "source": [
    "### _Reaction 2: 2-methylpropanal =>  2-methylpropanoic-acid_"
   ]
  },
  {
   "cell_type": "code",
   "execution_count": 13,
   "metadata": {},
   "outputs": [],
   "source": [
    "# define reaction\n",
    "reaction = Reaction('ALDD19xr_mppal')\n",
    "reaction.name = 'Aldehyde dehydrogenase (2-methylpropanal, NAD)'\n",
    "reaction.subsystem = 'Alternate Carbon Metabolism'\n",
    "reaction.lower_bound = -1000.  # This is the default\n",
    "reaction.upper_bound = 1000.  # This is the default"
   ]
  },
  {
   "cell_type": "code",
   "execution_count": 14,
   "metadata": {},
   "outputs": [
    {
     "data": {
      "text/plain": [
       "'2mppal_c + h2o_c + nad_c <=> 2.0 h_c + isobuta_c + nadh_c'"
      ]
     },
     "execution_count": 14,
     "metadata": {},
     "output_type": "execute_result"
    }
   ],
   "source": [
    "reaction.add_metabolites({\n",
    "    h2o_c: -1.0,\n",
    "    nad_c: -1.0, \n",
    "    mppal_c: -1.0,\n",
    "    h_c: 2.0,\n",
    "    nadh_c: 1.0,\n",
    "    isobuta_c: 1.0\n",
    "})\n",
    "\n",
    "reaction.reaction  "
   ]
  },
  {
   "cell_type": "code",
   "execution_count": 15,
   "metadata": {},
   "outputs": [
    {
     "data": {
      "text/plain": [
       "frozenset({<Gene b1385 at 0x7ffa74ff3b10>})"
      ]
     },
     "execution_count": 15,
     "metadata": {},
     "output_type": "execute_result"
    }
   ],
   "source": [
    "reaction.gene_reaction_rule = '( b1385 )'\n",
    "reaction.genes"
   ]
  },
  {
   "cell_type": "code",
   "execution_count": 16,
   "metadata": {},
   "outputs": [],
   "source": [
    "mutant_isobutyric.add_reactions([reaction])"
   ]
  },
  {
   "cell_type": "markdown",
   "metadata": {},
   "source": [
    "### _Reaction 3: 2-methylpropanoic-acid => exchange_"
   ]
  },
  {
   "cell_type": "code",
   "execution_count": 17,
   "metadata": {},
   "outputs": [],
   "source": [
    "# define reaction\n",
    "reaction = Reaction('Ex_isobuta')\n",
    "reaction.name = '2-methylpropanoic-acid exchange'\n",
    "reaction.subsystem = 'Extracellular exchange'\n",
    "reaction.lower_bound = 0.  # This is the default\n",
    "reaction.upper_bound = 1000.  # This is the default"
   ]
  },
  {
   "cell_type": "code",
   "execution_count": 18,
   "metadata": {},
   "outputs": [
    {
     "data": {
      "text/plain": [
       "'isobuta_c --> isobuta_e'"
      ]
     },
     "execution_count": 18,
     "metadata": {},
     "output_type": "execute_result"
    }
   ],
   "source": [
    "reaction.add_metabolites({\n",
    "    isobuta_c: -1.0,\n",
    "    isobuta_e: 1.0\n",
    "})\n",
    "\n",
    "reaction.reaction  "
   ]
  },
  {
   "cell_type": "code",
   "execution_count": 19,
   "metadata": {},
   "outputs": [
    {
     "data": {
      "text/plain": [
       "frozenset({<Gene isobuta_transporter at 0x7ffa75003ad0>})"
      ]
     },
     "execution_count": 19,
     "metadata": {},
     "output_type": "execute_result"
    }
   ],
   "source": [
    "reaction.gene_reaction_rule = '( isobuta_transporter )'\n",
    "reaction.genes"
   ]
  },
  {
   "cell_type": "code",
   "execution_count": 20,
   "metadata": {},
   "outputs": [],
   "source": [
    "mutant_isobutyric.add_reactions([reaction])"
   ]
  },
  {
   "cell_type": "markdown",
   "metadata": {},
   "source": [
    "### Write Model"
   ]
  },
  {
   "cell_type": "code",
   "execution_count": 21,
   "metadata": {},
   "outputs": [],
   "source": [
    "cobra.io.write_sbml_model(mutant_isobutyric, \"result/iML1515_isobutyric_strain.xml\")"
   ]
  },
  {
   "cell_type": "markdown",
   "metadata": {},
   "source": [
    "## Xylitol Mutant\n",
    "### Reaction 1: "
   ]
  },
  {
   "cell_type": "code",
   "execution_count": 27,
   "metadata": {},
   "outputs": [],
   "source": [
    "# define reaction\n",
    "reaction = Reaction('XYL1')\n",
    "reaction.name = 'NADPH-dependent D-xylose reductase'\n",
    "reaction.subsystem = 'S_Xylose_Metabolism'\n",
    "reaction.lower_bound = 0.  # This is the default\n",
    "reaction.upper_bound = 1000.  # This is the default"
   ]
  },
  {
   "cell_type": "code",
   "execution_count": 31,
   "metadata": {},
   "outputs": [
    {
     "data": {
      "text/plain": [
       "'h_c + nadph_c + xyl__D_c --> nadp_c + xylt_c'"
      ]
     },
     "execution_count": 31,
     "metadata": {},
     "output_type": "execute_result"
    }
   ],
   "source": [
    "reaction.add_metabolites({\n",
    "    h_c: -1.0,\n",
    "    nadp_c: 1.0,\n",
    "    nadph_c: -1.0,\n",
    "    xyl__D_c: -1.0,\n",
    "    xylt_c: 1.0,\n",
    "})\n",
    "\n",
    "reaction.reaction  "
   ]
  },
  {
   "cell_type": "code",
   "execution_count": 32,
   "metadata": {},
   "outputs": [
    {
     "data": {
      "text/plain": [
       "frozenset({<Gene XYL1 at 0x7ffa74ff3950>})"
      ]
     },
     "execution_count": 32,
     "metadata": {},
     "output_type": "execute_result"
    }
   ],
   "source": [
    "reaction.gene_reaction_rule = '( XYL1 )'\n",
    "reaction.genes"
   ]
  },
  {
   "cell_type": "code",
   "execution_count": 34,
   "metadata": {},
   "outputs": [],
   "source": [
    "mutant_xylitol.add_reactions([reaction])"
   ]
  },
  {
   "cell_type": "code",
   "execution_count": 35,
   "metadata": {},
   "outputs": [],
   "source": [
    "cobra.io.write_sbml_model(mutant_xylitol, \"result/iML1515_xylitol_strain.xml\")"
   ]
  }
 ],
 "metadata": {
  "kernelspec": {
   "display_name": "Python 3",
   "language": "python",
   "name": "python3"
  },
  "language_info": {
   "codemirror_mode": {
    "name": "ipython",
    "version": 3
   },
   "file_extension": ".py",
   "mimetype": "text/x-python",
   "name": "python",
   "nbconvert_exporter": "python",
   "pygments_lexer": "ipython3",
   "version": "3.7.8"
  }
 },
 "nbformat": 4,
 "nbformat_minor": 4
}
