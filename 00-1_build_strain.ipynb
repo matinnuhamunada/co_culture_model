{
 "cells": [
  {
   "cell_type": "code",
   "execution_count": 1,
   "metadata": {},
   "outputs": [
    {
     "name": "stderr",
     "output_type": "stream",
     "text": [
      "/home/matinnu/anaconda3/envs/lab_rotation_3/lib/python3.7/site-packages/sympy/__init__.py:676: SymPyDeprecationWarning: \n",
      "\n",
      "importing sympy.core.singleton with 'from sympy import *' has been\n",
      "deprecated since SymPy 1.6. Use import sympy.core.singleton instead.\n",
      "See https://github.com/sympy/sympy/issues/18245 for more info.\n",
      "\n",
      "  deprecated_since_version=\"1.6\").warn()\n"
     ]
    }
   ],
   "source": [
    "from cameo import models\n",
    "from cameo import load_model\n",
    "import pandas as pd\n",
    "import numpy as np\n",
    "from cobra import Model, Reaction, Metabolite\n",
    "import cobra"
   ]
  },
  {
   "cell_type": "code",
   "execution_count": 2,
   "metadata": {},
   "outputs": [],
   "source": [
    "def evaluate_knockout(model, mutant, ko_list):\n",
    "    bound_knockout = []\n",
    "    for i in ko_list:\n",
    "        i_gene = str(model.genes[i])\n",
    "        i_uniprot = str(model.genes[i].annotation['uniprot'][0])\n",
    "        i_n_reactions = len(model.genes[i].reactions)\n",
    "        i_reactions = []\n",
    "        i_bounds_model = []\n",
    "        i_bounds_mutant = []\n",
    "        for x in model.genes[i].reactions:\n",
    "            x_reaction = [str(x.id), str(x.reaction)]\n",
    "            x_bounds = x.bounds\n",
    "            i_reactions.append(x_reaction)\n",
    "            i_bounds_model.append(x_bounds)\n",
    "        for y in mutant.genes[i].reactions:\n",
    "            y_bounds = y.bounds\n",
    "            i_bounds_mutant.append(y_bounds)\n",
    "        data = [i_gene, i_uniprot, i_n_reactions, i_reactions, i_bounds_model, i_bounds_mutant]\n",
    "        bound_knockout.append(data)\n",
    "\n",
    "    for i in bound_knockout:\n",
    "        print('gene: '+i[0], '| uniprot: '+i[1])\n",
    "        print('number of reactions involved: '+str(i[2]))\n",
    "        #for count, x in enumerate(i[3]):\n",
    "        #    print('* '+x[0]+' :', x[1])\n",
    "        #    print('bounds normal: '+str(i[4][count]))\n",
    "        #    print('bounds mutant: '+str(i[5][count]))\n",
    "        print('------------------------------------------------------------')\n",
    "    \n",
    "    gene_reaction_pair = []\n",
    "    for i in bound_knockout:\n",
    "        gene_id = i[0]\n",
    "        uniprot_id = i[1]\n",
    "        for count, x in enumerate(i[3]):\n",
    "            reaction_id = x[0]\n",
    "            reaction = x[1]\n",
    "            b_normal = i[4][count]\n",
    "            b_mutant = i[5][count]\n",
    "            if b_normal == b_mutant:\n",
    "                ko_result = False\n",
    "            else:\n",
    "                ko_result = True\n",
    "            pair = [uniprot_id, gene_id, reaction_id, reaction, b_normal, b_mutant, ko_result]\n",
    "            gene_reaction_pair.append(pair)\n",
    "    df = pd.DataFrame(data = gene_reaction_pair ,columns=[\"Entry\", \"id_BIGG\", \"reaction_id\", \"reaction\", \"normal_bound\", \"mutant_bound\", \"ko_result\"])\n",
    "    return df"
   ]
  },
  {
   "cell_type": "code",
   "execution_count": 3,
   "metadata": {},
   "outputs": [
    {
     "name": "stdout",
     "output_type": "stream",
     "text": [
      "Using license file /home/matinnu/gurobi.lic\n",
      "Academic license - for non-commercial use only\n"
     ]
    },
    {
     "data": {
      "text/html": [
       "\n",
       "        <table>\n",
       "            <tr>\n",
       "                <td><strong>Name</strong></td>\n",
       "                <td>iML1515</td>\n",
       "            </tr><tr>\n",
       "                <td><strong>Memory address</strong></td>\n",
       "                <td>0x07f26c890e5d0</td>\n",
       "            </tr><tr>\n",
       "                <td><strong>Number of metabolites</strong></td>\n",
       "                <td>1877</td>\n",
       "            </tr><tr>\n",
       "                <td><strong>Number of reactions</strong></td>\n",
       "                <td>2712</td>\n",
       "            </tr><tr>\n",
       "                <td><strong>Number of groups</strong></td>\n",
       "                <td>0</td>\n",
       "            </tr><tr>\n",
       "                <td><strong>Objective expression</strong></td>\n",
       "                <td>0.0 + 1.0*BIOMASS_Ec_iML1515_core_75p37M - 1.0*BIOMASS_Ec_iML1515_core_75p37M_reverse_35685</td>\n",
       "            </tr><tr>\n",
       "                <td><strong>Compartments</strong></td>\n",
       "                <td>cytosol, extracellular space, periplasm</td>\n",
       "            </tr>\n",
       "          </table>"
      ],
      "text/plain": [
       "<Model iML1515 at 0x7f26c890e5d0>"
      ]
     },
     "execution_count": 3,
     "metadata": {},
     "output_type": "execute_result"
    }
   ],
   "source": [
    "model = load_model('iML1515')\n",
    "model.solver = 'gurobi'\n",
    "model"
   ]
  },
  {
   "cell_type": "markdown",
   "metadata": {},
   "source": [
    "# Xylitol strain knockout model"
   ]
  },
  {
   "cell_type": "code",
   "execution_count": 4,
   "metadata": {},
   "outputs": [
    {
     "name": "stdout",
     "output_type": "stream",
     "text": [
      "Read LP format model from file /tmp/tmp0nlvvhxl.lp\n",
      "Reading time = 0.04 seconds\n",
      ": 1877 rows, 5424 columns, 21150 nonzeros\n",
      "Read LP format model from file /tmp/tmplf8l1_8z.lp\n",
      "Reading time = 0.04 seconds\n",
      ": 1877 rows, 5424 columns, 21150 nonzeros\n"
     ]
    }
   ],
   "source": [
    "# copy model to create mutant\n",
    "mutant_xylitol = model.copy()\n",
    "\n",
    "# create list of genes to KO\n",
    "ko_list = pd.read_csv('data/df_xylitol_knockouts.csv', index_col=0).dropna(subset = ['id_bigg'])\n",
    "ko_list.iML1515_idx = ko_list.iML1515_idx.astype(int)\n",
    "#ko_list"
   ]
  },
  {
   "cell_type": "code",
   "execution_count": 5,
   "metadata": {},
   "outputs": [
    {
     "name": "stdout",
     "output_type": "stream",
     "text": [
      "gene: b0904 | uniprot: P0AC23\n",
      "number of reactions involved: 2\n",
      "------------------------------------------------------------\n",
      "gene: b0903 | uniprot: P09373\n",
      "number of reactions involved: 2\n",
      "------------------------------------------------------------\n",
      "gene: b1380 | uniprot: P52643\n",
      "number of reactions involved: 1\n",
      "------------------------------------------------------------\n",
      "gene: b1241 | uniprot: P0A9Q7\n",
      "number of reactions involved: 3\n",
      "------------------------------------------------------------\n",
      "gene: b3564 | uniprot: P09099\n",
      "number of reactions involved: 2\n",
      "------------------------------------------------------------\n",
      "gene: b4154 | uniprot: P00363\n",
      "number of reactions involved: 2\n",
      "------------------------------------------------------------\n",
      "gene: b0431 | uniprot: P0ABI8\n",
      "number of reactions involved: 1\n",
      "------------------------------------------------------------\n",
      "gene: b0979 | uniprot: P26458\n",
      "number of reactions involved: 2\n",
      "------------------------------------------------------------\n"
     ]
    },
    {
     "data": {
      "text/html": [
       "<div>\n",
       "<style scoped>\n",
       "    .dataframe tbody tr th:only-of-type {\n",
       "        vertical-align: middle;\n",
       "    }\n",
       "\n",
       "    .dataframe tbody tr th {\n",
       "        vertical-align: top;\n",
       "    }\n",
       "\n",
       "    .dataframe thead th {\n",
       "        text-align: right;\n",
       "    }\n",
       "</style>\n",
       "<table border=\"1\" class=\"dataframe\">\n",
       "  <thead>\n",
       "    <tr style=\"text-align: right;\">\n",
       "      <th></th>\n",
       "      <th>Entry</th>\n",
       "      <th>id_BIGG</th>\n",
       "      <th>reaction_id</th>\n",
       "      <th>reaction</th>\n",
       "      <th>normal_bound</th>\n",
       "      <th>mutant_bound</th>\n",
       "      <th>ko_result</th>\n",
       "    </tr>\n",
       "  </thead>\n",
       "  <tbody>\n",
       "    <tr>\n",
       "      <th>0</th>\n",
       "      <td>P0AC23</td>\n",
       "      <td>b0904</td>\n",
       "      <td>FORt2pp</td>\n",
       "      <td>for_p + h_p --&gt; for_c + h_c</td>\n",
       "      <td>(0.0, 1000.0)</td>\n",
       "      <td>(0.0, 1000.0)</td>\n",
       "      <td>False</td>\n",
       "    </tr>\n",
       "    <tr>\n",
       "      <th>1</th>\n",
       "      <td>P0AC23</td>\n",
       "      <td>b0904</td>\n",
       "      <td>FORtppi</td>\n",
       "      <td>for_c --&gt; for_p</td>\n",
       "      <td>(0.0, 1000.0)</td>\n",
       "      <td>(0.0, 1000.0)</td>\n",
       "      <td>False</td>\n",
       "    </tr>\n",
       "    <tr>\n",
       "      <th>2</th>\n",
       "      <td>P09373</td>\n",
       "      <td>b0903</td>\n",
       "      <td>PFL</td>\n",
       "      <td>coa_c + pyr_c --&gt; accoa_c + for_c</td>\n",
       "      <td>(0.0, 1000.0)</td>\n",
       "      <td>(0.0, 1000.0)</td>\n",
       "      <td>False</td>\n",
       "    </tr>\n",
       "    <tr>\n",
       "      <th>3</th>\n",
       "      <td>P09373</td>\n",
       "      <td>b0903</td>\n",
       "      <td>OBTFL</td>\n",
       "      <td>2obut_c + coa_c --&gt; for_c + ppcoa_c</td>\n",
       "      <td>(0.0, 1000.0)</td>\n",
       "      <td>(0.0, 1000.0)</td>\n",
       "      <td>False</td>\n",
       "    </tr>\n",
       "    <tr>\n",
       "      <th>4</th>\n",
       "      <td>P52643</td>\n",
       "      <td>b1380</td>\n",
       "      <td>LDH_D</td>\n",
       "      <td>lac__D_c + nad_c &lt;=&gt; h_c + nadh_c + pyr_c</td>\n",
       "      <td>(-1000.0, 1000.0)</td>\n",
       "      <td>(0, 0)</td>\n",
       "      <td>True</td>\n",
       "    </tr>\n",
       "    <tr>\n",
       "      <th>5</th>\n",
       "      <td>P0A9Q7</td>\n",
       "      <td>b1241</td>\n",
       "      <td>ALCD19</td>\n",
       "      <td>glyald_c + h_c + nadh_c &lt;=&gt; glyc_c + nad_c</td>\n",
       "      <td>(-1000.0, 1000.0)</td>\n",
       "      <td>(-1000.0, 1000.0)</td>\n",
       "      <td>False</td>\n",
       "    </tr>\n",
       "    <tr>\n",
       "      <th>6</th>\n",
       "      <td>P0A9Q7</td>\n",
       "      <td>b1241</td>\n",
       "      <td>ALCD2x</td>\n",
       "      <td>etoh_c + nad_c &lt;=&gt; acald_c + h_c + nadh_c</td>\n",
       "      <td>(-1000.0, 1000.0)</td>\n",
       "      <td>(-1000.0, 1000.0)</td>\n",
       "      <td>False</td>\n",
       "    </tr>\n",
       "    <tr>\n",
       "      <th>7</th>\n",
       "      <td>P0A9Q7</td>\n",
       "      <td>b1241</td>\n",
       "      <td>ACALD</td>\n",
       "      <td>acald_c + coa_c + nad_c &lt;=&gt; accoa_c + h_c + na...</td>\n",
       "      <td>(-1000.0, 1000.0)</td>\n",
       "      <td>(-1000.0, 1000.0)</td>\n",
       "      <td>False</td>\n",
       "    </tr>\n",
       "    <tr>\n",
       "      <th>8</th>\n",
       "      <td>P09099</td>\n",
       "      <td>b3564</td>\n",
       "      <td>DXYLK</td>\n",
       "      <td>atp_c + dxyl_c --&gt; adp_c + dxyl5p_c + h_c</td>\n",
       "      <td>(0.0, 1000.0)</td>\n",
       "      <td>(0.0, 1000.0)</td>\n",
       "      <td>False</td>\n",
       "    </tr>\n",
       "    <tr>\n",
       "      <th>9</th>\n",
       "      <td>P09099</td>\n",
       "      <td>b3564</td>\n",
       "      <td>XYLK</td>\n",
       "      <td>atp_c + xylu__D_c --&gt; adp_c + h_c + xu5p__D_c</td>\n",
       "      <td>(0.0, 1000.0)</td>\n",
       "      <td>(0, 0)</td>\n",
       "      <td>True</td>\n",
       "    </tr>\n",
       "    <tr>\n",
       "      <th>10</th>\n",
       "      <td>P00363</td>\n",
       "      <td>b4154</td>\n",
       "      <td>FRD2</td>\n",
       "      <td>fum_c + mql8_c --&gt; mqn8_c + succ_c</td>\n",
       "      <td>(0.0, 1000.0)</td>\n",
       "      <td>(0, 0)</td>\n",
       "      <td>True</td>\n",
       "    </tr>\n",
       "    <tr>\n",
       "      <th>11</th>\n",
       "      <td>P00363</td>\n",
       "      <td>b4154</td>\n",
       "      <td>FRD3</td>\n",
       "      <td>2dmmql8_c + fum_c --&gt; 2dmmq8_c + succ_c</td>\n",
       "      <td>(0.0, 1000.0)</td>\n",
       "      <td>(0, 0)</td>\n",
       "      <td>True</td>\n",
       "    </tr>\n",
       "    <tr>\n",
       "      <th>12</th>\n",
       "      <td>P0ABI8</td>\n",
       "      <td>b0431</td>\n",
       "      <td>CYTBO3_4pp</td>\n",
       "      <td>4.0 h_c + 0.5 o2_c + q8h2_c --&gt; h2o_c + 4.0 h_...</td>\n",
       "      <td>(0.0, 1000.0)</td>\n",
       "      <td>(0, 0)</td>\n",
       "      <td>True</td>\n",
       "    </tr>\n",
       "    <tr>\n",
       "      <th>13</th>\n",
       "      <td>P26458</td>\n",
       "      <td>b0979</td>\n",
       "      <td>CYTBDpp</td>\n",
       "      <td>2.0 h_c + 0.5 o2_c + q8h2_c --&gt; h2o_c + 2.0 h_...</td>\n",
       "      <td>(0.0, 1000.0)</td>\n",
       "      <td>(0.0, 1000.0)</td>\n",
       "      <td>False</td>\n",
       "    </tr>\n",
       "    <tr>\n",
       "      <th>14</th>\n",
       "      <td>P26458</td>\n",
       "      <td>b0979</td>\n",
       "      <td>CYTBD2pp</td>\n",
       "      <td>2.0 h_c + mql8_c + 0.5 o2_c --&gt; h2o_c + 2.0 h_...</td>\n",
       "      <td>(0.0, 1000.0)</td>\n",
       "      <td>(0, 0)</td>\n",
       "      <td>True</td>\n",
       "    </tr>\n",
       "  </tbody>\n",
       "</table>\n",
       "</div>"
      ],
      "text/plain": [
       "     Entry id_BIGG reaction_id  \\\n",
       "0   P0AC23   b0904     FORt2pp   \n",
       "1   P0AC23   b0904     FORtppi   \n",
       "2   P09373   b0903         PFL   \n",
       "3   P09373   b0903       OBTFL   \n",
       "4   P52643   b1380       LDH_D   \n",
       "5   P0A9Q7   b1241      ALCD19   \n",
       "6   P0A9Q7   b1241      ALCD2x   \n",
       "7   P0A9Q7   b1241       ACALD   \n",
       "8   P09099   b3564       DXYLK   \n",
       "9   P09099   b3564        XYLK   \n",
       "10  P00363   b4154        FRD2   \n",
       "11  P00363   b4154        FRD3   \n",
       "12  P0ABI8   b0431  CYTBO3_4pp   \n",
       "13  P26458   b0979     CYTBDpp   \n",
       "14  P26458   b0979    CYTBD2pp   \n",
       "\n",
       "                                             reaction       normal_bound  \\\n",
       "0                         for_p + h_p --> for_c + h_c      (0.0, 1000.0)   \n",
       "1                                     for_c --> for_p      (0.0, 1000.0)   \n",
       "2                   coa_c + pyr_c --> accoa_c + for_c      (0.0, 1000.0)   \n",
       "3                 2obut_c + coa_c --> for_c + ppcoa_c      (0.0, 1000.0)   \n",
       "4           lac__D_c + nad_c <=> h_c + nadh_c + pyr_c  (-1000.0, 1000.0)   \n",
       "5          glyald_c + h_c + nadh_c <=> glyc_c + nad_c  (-1000.0, 1000.0)   \n",
       "6           etoh_c + nad_c <=> acald_c + h_c + nadh_c  (-1000.0, 1000.0)   \n",
       "7   acald_c + coa_c + nad_c <=> accoa_c + h_c + na...  (-1000.0, 1000.0)   \n",
       "8           atp_c + dxyl_c --> adp_c + dxyl5p_c + h_c      (0.0, 1000.0)   \n",
       "9       atp_c + xylu__D_c --> adp_c + h_c + xu5p__D_c      (0.0, 1000.0)   \n",
       "10                 fum_c + mql8_c --> mqn8_c + succ_c      (0.0, 1000.0)   \n",
       "11            2dmmql8_c + fum_c --> 2dmmq8_c + succ_c      (0.0, 1000.0)   \n",
       "12  4.0 h_c + 0.5 o2_c + q8h2_c --> h2o_c + 4.0 h_...      (0.0, 1000.0)   \n",
       "13  2.0 h_c + 0.5 o2_c + q8h2_c --> h2o_c + 2.0 h_...      (0.0, 1000.0)   \n",
       "14  2.0 h_c + mql8_c + 0.5 o2_c --> h2o_c + 2.0 h_...      (0.0, 1000.0)   \n",
       "\n",
       "         mutant_bound  ko_result  \n",
       "0       (0.0, 1000.0)      False  \n",
       "1       (0.0, 1000.0)      False  \n",
       "2       (0.0, 1000.0)      False  \n",
       "3       (0.0, 1000.0)      False  \n",
       "4              (0, 0)       True  \n",
       "5   (-1000.0, 1000.0)      False  \n",
       "6   (-1000.0, 1000.0)      False  \n",
       "7   (-1000.0, 1000.0)      False  \n",
       "8       (0.0, 1000.0)      False  \n",
       "9              (0, 0)       True  \n",
       "10             (0, 0)       True  \n",
       "11             (0, 0)       True  \n",
       "12             (0, 0)       True  \n",
       "13      (0.0, 1000.0)      False  \n",
       "14             (0, 0)       True  "
      ]
     },
     "execution_count": 5,
     "metadata": {},
     "output_type": "execute_result"
    }
   ],
   "source": [
    "for i in ko_list.iML1515_idx:\n",
    "    mutant_xylitol.genes[i].knock_out()\n",
    "\n",
    "xylitol_gene_ko = evaluate_knockout(model, mutant_xylitol, ko_list.iML1515_idx)\n",
    "xylitol_gene_ko.to_csv('result/iML1515_xylitol_strain_ko_result.csv')\n",
    "xylitol_gene_ko"
   ]
  },
  {
   "cell_type": "code",
   "execution_count": 6,
   "metadata": {},
   "outputs": [
    {
     "data": {
      "text/html": [
       "\n",
       "        <table>\n",
       "            <tr>\n",
       "                <td><strong>Gene identifier</strong></td><td>b0063</td>\n",
       "            </tr><tr>\n",
       "                <td><strong>Name</strong></td><td>araB</td>\n",
       "            </tr><tr>\n",
       "                <td><strong>Memory address</strong></td>\n",
       "                <td>0x07f26c81a4910</td>\n",
       "            </tr><tr>\n",
       "                <td><strong>Functional</strong></td><td>True</td>\n",
       "            </tr><tr>\n",
       "                <td><strong>In 3 reaction(s)</strong></td><td>\n",
       "                    XYLK2, XYLK, RBK_L1</td>\n",
       "            </tr>\n",
       "        </table>"
      ],
      "text/plain": [
       "<Gene b0063 at 0x7f26c81a4910>"
      ]
     },
     "execution_count": 6,
     "metadata": {},
     "output_type": "execute_result"
    }
   ],
   "source": [
    "mutant_xylitol.genes.b0063"
   ]
  },
  {
   "cell_type": "markdown",
   "metadata": {},
   "source": [
    "mutant_xylitol.gene"
   ]
  },
  {
   "cell_type": "code",
   "execution_count": 7,
   "metadata": {},
   "outputs": [
    {
     "name": "stdout",
     "output_type": "stream",
     "text": [
      "Read LP format model from file /tmp/tmpj7a_yzll.lp\n",
      "Reading time = 0.05 seconds\n",
      ": 1877 rows, 5424 columns, 21150 nonzeros\n",
      "Read LP format model from file /tmp/tmpz2z2tzh0.lp\n",
      "Reading time = 0.04 seconds\n",
      ": 1877 rows, 5424 columns, 21150 nonzeros\n"
     ]
    }
   ],
   "source": [
    "# copy model to create mutant\n",
    "mutant_isobutyric = model.copy()\n",
    "\n",
    "# create list of genes to KO\n",
    "ko_list = pd.read_csv('data/df_isobutyric_knockouts.csv', index_col=0).dropna(subset = ['id_bigg'])\n",
    "ko_list.iML1515_idx = ko_list.iML1515_idx.astype(int)\n",
    "#ko_list"
   ]
  },
  {
   "cell_type": "code",
   "execution_count": 8,
   "metadata": {},
   "outputs": [
    {
     "name": "stdout",
     "output_type": "stream",
     "text": [
      "gene: b0903 | uniprot: P09373\n",
      "number of reactions involved: 2\n",
      "------------------------------------------------------------\n",
      "gene: b0871 | uniprot: P07003\n",
      "number of reactions involved: 1\n",
      "------------------------------------------------------------\n",
      "gene: b3114 | uniprot: P42632\n",
      "number of reactions involved: 2\n",
      "------------------------------------------------------------\n",
      "gene: b3952 | uniprot: P32675\n",
      "number of reactions involved: 1\n",
      "------------------------------------------------------------\n",
      "gene: b4381 | uniprot: P0A6L0\n",
      "number of reactions involved: 1\n",
      "------------------------------------------------------------\n",
      "gene: b1378 | uniprot: P52647\n",
      "number of reactions involved: 1\n",
      "------------------------------------------------------------\n",
      "gene: b3011 | uniprot: Q46856\n",
      "number of reactions involved: 3\n",
      "------------------------------------------------------------\n",
      "gene: b0063 | uniprot: P08204\n",
      "number of reactions involved: 3\n",
      "------------------------------------------------------------\n",
      "gene: b0062 | uniprot: P08202\n",
      "number of reactions involved: 1\n",
      "------------------------------------------------------------\n",
      "gene: b3564 | uniprot: P09099\n",
      "number of reactions involved: 2\n",
      "------------------------------------------------------------\n"
     ]
    },
    {
     "data": {
      "text/html": [
       "<div>\n",
       "<style scoped>\n",
       "    .dataframe tbody tr th:only-of-type {\n",
       "        vertical-align: middle;\n",
       "    }\n",
       "\n",
       "    .dataframe tbody tr th {\n",
       "        vertical-align: top;\n",
       "    }\n",
       "\n",
       "    .dataframe thead th {\n",
       "        text-align: right;\n",
       "    }\n",
       "</style>\n",
       "<table border=\"1\" class=\"dataframe\">\n",
       "  <thead>\n",
       "    <tr style=\"text-align: right;\">\n",
       "      <th></th>\n",
       "      <th>Entry</th>\n",
       "      <th>id_BIGG</th>\n",
       "      <th>reaction_id</th>\n",
       "      <th>reaction</th>\n",
       "      <th>normal_bound</th>\n",
       "      <th>mutant_bound</th>\n",
       "      <th>ko_result</th>\n",
       "    </tr>\n",
       "  </thead>\n",
       "  <tbody>\n",
       "    <tr>\n",
       "      <th>0</th>\n",
       "      <td>P09373</td>\n",
       "      <td>b0903</td>\n",
       "      <td>PFL</td>\n",
       "      <td>coa_c + pyr_c --&gt; accoa_c + for_c</td>\n",
       "      <td>(0.0, 1000.0)</td>\n",
       "      <td>(0, 0)</td>\n",
       "      <td>True</td>\n",
       "    </tr>\n",
       "    <tr>\n",
       "      <th>1</th>\n",
       "      <td>P09373</td>\n",
       "      <td>b0903</td>\n",
       "      <td>OBTFL</td>\n",
       "      <td>2obut_c + coa_c --&gt; for_c + ppcoa_c</td>\n",
       "      <td>(0.0, 1000.0)</td>\n",
       "      <td>(0, 0)</td>\n",
       "      <td>True</td>\n",
       "    </tr>\n",
       "    <tr>\n",
       "      <th>2</th>\n",
       "      <td>P07003</td>\n",
       "      <td>b0871</td>\n",
       "      <td>POX</td>\n",
       "      <td>h2o_c + pyr_c + q8_c --&gt; ac_c + co2_c + q8h2_c</td>\n",
       "      <td>(0.0, 1000.0)</td>\n",
       "      <td>(0, 0)</td>\n",
       "      <td>True</td>\n",
       "    </tr>\n",
       "    <tr>\n",
       "      <th>3</th>\n",
       "      <td>P42632</td>\n",
       "      <td>b3114</td>\n",
       "      <td>PFL</td>\n",
       "      <td>coa_c + pyr_c --&gt; accoa_c + for_c</td>\n",
       "      <td>(0.0, 1000.0)</td>\n",
       "      <td>(0, 0)</td>\n",
       "      <td>True</td>\n",
       "    </tr>\n",
       "    <tr>\n",
       "      <th>4</th>\n",
       "      <td>P42632</td>\n",
       "      <td>b3114</td>\n",
       "      <td>OBTFL</td>\n",
       "      <td>2obut_c + coa_c --&gt; for_c + ppcoa_c</td>\n",
       "      <td>(0.0, 1000.0)</td>\n",
       "      <td>(0, 0)</td>\n",
       "      <td>True</td>\n",
       "    </tr>\n",
       "    <tr>\n",
       "      <th>5</th>\n",
       "      <td>P32675</td>\n",
       "      <td>b3952</td>\n",
       "      <td>PFL</td>\n",
       "      <td>coa_c + pyr_c --&gt; accoa_c + for_c</td>\n",
       "      <td>(0.0, 1000.0)</td>\n",
       "      <td>(0, 0)</td>\n",
       "      <td>True</td>\n",
       "    </tr>\n",
       "    <tr>\n",
       "      <th>6</th>\n",
       "      <td>P0A6L0</td>\n",
       "      <td>b4381</td>\n",
       "      <td>DRPA</td>\n",
       "      <td>2dr5p_c --&gt; acald_c + g3p_c</td>\n",
       "      <td>(0.0, 1000.0)</td>\n",
       "      <td>(0, 0)</td>\n",
       "      <td>True</td>\n",
       "    </tr>\n",
       "    <tr>\n",
       "      <th>7</th>\n",
       "      <td>P52647</td>\n",
       "      <td>b1378</td>\n",
       "      <td>POR5</td>\n",
       "      <td>coa_c + 2.0 flxso_c + pyr_c &lt;=&gt; accoa_c + co2_...</td>\n",
       "      <td>(-1000.0, 1000.0)</td>\n",
       "      <td>(0, 0)</td>\n",
       "      <td>True</td>\n",
       "    </tr>\n",
       "    <tr>\n",
       "      <th>8</th>\n",
       "      <td>Q46856</td>\n",
       "      <td>b3011</td>\n",
       "      <td>ALDD2y</td>\n",
       "      <td>acald_c + h2o_c + nadp_c --&gt; ac_c + 2.0 h_c + ...</td>\n",
       "      <td>(0.0, 1000.0)</td>\n",
       "      <td>(0, 0)</td>\n",
       "      <td>True</td>\n",
       "    </tr>\n",
       "    <tr>\n",
       "      <th>9</th>\n",
       "      <td>Q46856</td>\n",
       "      <td>b3011</td>\n",
       "      <td>13PPDH2</td>\n",
       "      <td>3hppnl_c + h_c + nadph_c &lt;=&gt; 13ppd_c + nadp_c</td>\n",
       "      <td>(-1000.0, 1000.0)</td>\n",
       "      <td>(0.0, 1000.0)</td>\n",
       "      <td>True</td>\n",
       "    </tr>\n",
       "    <tr>\n",
       "      <th>10</th>\n",
       "      <td>Q46856</td>\n",
       "      <td>b3011</td>\n",
       "      <td>ALDD3y</td>\n",
       "      <td>h2o_c + nadp_c + ppal_c --&gt; 2.0 h_c + nadph_c ...</td>\n",
       "      <td>(0.0, 1000.0)</td>\n",
       "      <td>(0.0, 1000.0)</td>\n",
       "      <td>False</td>\n",
       "    </tr>\n",
       "    <tr>\n",
       "      <th>11</th>\n",
       "      <td>P08204</td>\n",
       "      <td>b0063</td>\n",
       "      <td>RBK_L1</td>\n",
       "      <td>atp_c + rbl__L_c --&gt; adp_c + h_c + ru5p__L_c</td>\n",
       "      <td>(0.0, 1000.0)</td>\n",
       "      <td>(0, 0)</td>\n",
       "      <td>True</td>\n",
       "    </tr>\n",
       "    <tr>\n",
       "      <th>12</th>\n",
       "      <td>P08204</td>\n",
       "      <td>b0063</td>\n",
       "      <td>XYLK2</td>\n",
       "      <td>atp_c + xylu__L_c --&gt; adp_c + h_c + xu5p__L_c</td>\n",
       "      <td>(0.0, 1000.0)</td>\n",
       "      <td>(0, 0)</td>\n",
       "      <td>True</td>\n",
       "    </tr>\n",
       "    <tr>\n",
       "      <th>13</th>\n",
       "      <td>P08204</td>\n",
       "      <td>b0063</td>\n",
       "      <td>XYLK</td>\n",
       "      <td>atp_c + xylu__D_c --&gt; adp_c + h_c + xu5p__D_c</td>\n",
       "      <td>(0.0, 1000.0)</td>\n",
       "      <td>(0.0, 1000.0)</td>\n",
       "      <td>False</td>\n",
       "    </tr>\n",
       "    <tr>\n",
       "      <th>14</th>\n",
       "      <td>P08202</td>\n",
       "      <td>b0062</td>\n",
       "      <td>ARAI</td>\n",
       "      <td>arab__L_c &lt;=&gt; rbl__L_c</td>\n",
       "      <td>(-1000.0, 1000.0)</td>\n",
       "      <td>(0, 0)</td>\n",
       "      <td>True</td>\n",
       "    </tr>\n",
       "    <tr>\n",
       "      <th>15</th>\n",
       "      <td>P09099</td>\n",
       "      <td>b3564</td>\n",
       "      <td>DXYLK</td>\n",
       "      <td>atp_c + dxyl_c --&gt; adp_c + dxyl5p_c + h_c</td>\n",
       "      <td>(0.0, 1000.0)</td>\n",
       "      <td>(0, 0)</td>\n",
       "      <td>True</td>\n",
       "    </tr>\n",
       "    <tr>\n",
       "      <th>16</th>\n",
       "      <td>P09099</td>\n",
       "      <td>b3564</td>\n",
       "      <td>XYLK</td>\n",
       "      <td>atp_c + xylu__D_c --&gt; adp_c + h_c + xu5p__D_c</td>\n",
       "      <td>(0.0, 1000.0)</td>\n",
       "      <td>(0, 0)</td>\n",
       "      <td>True</td>\n",
       "    </tr>\n",
       "  </tbody>\n",
       "</table>\n",
       "</div>"
      ],
      "text/plain": [
       "     Entry id_BIGG reaction_id  \\\n",
       "0   P09373   b0903         PFL   \n",
       "1   P09373   b0903       OBTFL   \n",
       "2   P07003   b0871         POX   \n",
       "3   P42632   b3114         PFL   \n",
       "4   P42632   b3114       OBTFL   \n",
       "5   P32675   b3952         PFL   \n",
       "6   P0A6L0   b4381        DRPA   \n",
       "7   P52647   b1378        POR5   \n",
       "8   Q46856   b3011      ALDD2y   \n",
       "9   Q46856   b3011     13PPDH2   \n",
       "10  Q46856   b3011      ALDD3y   \n",
       "11  P08204   b0063      RBK_L1   \n",
       "12  P08204   b0063       XYLK2   \n",
       "13  P08204   b0063        XYLK   \n",
       "14  P08202   b0062        ARAI   \n",
       "15  P09099   b3564       DXYLK   \n",
       "16  P09099   b3564        XYLK   \n",
       "\n",
       "                                             reaction       normal_bound  \\\n",
       "0                   coa_c + pyr_c --> accoa_c + for_c      (0.0, 1000.0)   \n",
       "1                 2obut_c + coa_c --> for_c + ppcoa_c      (0.0, 1000.0)   \n",
       "2      h2o_c + pyr_c + q8_c --> ac_c + co2_c + q8h2_c      (0.0, 1000.0)   \n",
       "3                   coa_c + pyr_c --> accoa_c + for_c      (0.0, 1000.0)   \n",
       "4                 2obut_c + coa_c --> for_c + ppcoa_c      (0.0, 1000.0)   \n",
       "5                   coa_c + pyr_c --> accoa_c + for_c      (0.0, 1000.0)   \n",
       "6                         2dr5p_c --> acald_c + g3p_c      (0.0, 1000.0)   \n",
       "7   coa_c + 2.0 flxso_c + pyr_c <=> accoa_c + co2_...  (-1000.0, 1000.0)   \n",
       "8   acald_c + h2o_c + nadp_c --> ac_c + 2.0 h_c + ...      (0.0, 1000.0)   \n",
       "9       3hppnl_c + h_c + nadph_c <=> 13ppd_c + nadp_c  (-1000.0, 1000.0)   \n",
       "10  h2o_c + nadp_c + ppal_c --> 2.0 h_c + nadph_c ...      (0.0, 1000.0)   \n",
       "11       atp_c + rbl__L_c --> adp_c + h_c + ru5p__L_c      (0.0, 1000.0)   \n",
       "12      atp_c + xylu__L_c --> adp_c + h_c + xu5p__L_c      (0.0, 1000.0)   \n",
       "13      atp_c + xylu__D_c --> adp_c + h_c + xu5p__D_c      (0.0, 1000.0)   \n",
       "14                             arab__L_c <=> rbl__L_c  (-1000.0, 1000.0)   \n",
       "15          atp_c + dxyl_c --> adp_c + dxyl5p_c + h_c      (0.0, 1000.0)   \n",
       "16      atp_c + xylu__D_c --> adp_c + h_c + xu5p__D_c      (0.0, 1000.0)   \n",
       "\n",
       "     mutant_bound  ko_result  \n",
       "0          (0, 0)       True  \n",
       "1          (0, 0)       True  \n",
       "2          (0, 0)       True  \n",
       "3          (0, 0)       True  \n",
       "4          (0, 0)       True  \n",
       "5          (0, 0)       True  \n",
       "6          (0, 0)       True  \n",
       "7          (0, 0)       True  \n",
       "8          (0, 0)       True  \n",
       "9   (0.0, 1000.0)       True  \n",
       "10  (0.0, 1000.0)      False  \n",
       "11         (0, 0)       True  \n",
       "12         (0, 0)       True  \n",
       "13  (0.0, 1000.0)      False  \n",
       "14         (0, 0)       True  \n",
       "15         (0, 0)       True  \n",
       "16         (0, 0)       True  "
      ]
     },
     "execution_count": 8,
     "metadata": {},
     "output_type": "execute_result"
    }
   ],
   "source": [
    "for i in ko_list.iML1515_idx:\n",
    "    mutant_isobutyric.genes[i].knock_out()\n",
    "\n",
    "isobutyric_gene_ko = evaluate_knockout(model, mutant_isobutyric, ko_list.iML1515_idx)\n",
    "isobutyric_gene_ko.to_csv('result/iML1515_isobutyric_strain_ko_result.csv')   \n",
    "isobutyric_gene_ko"
   ]
  },
  {
   "cell_type": "markdown",
   "metadata": {},
   "source": [
    "# Add Reactions\n",
    "## Add Metabolites"
   ]
  },
  {
   "cell_type": "code",
   "execution_count": 9,
   "metadata": {},
   "outputs": [
    {
     "data": {
      "text/html": [
       "\n",
       "        <table>\n",
       "            <tr>\n",
       "                <td><strong>Name</strong></td>\n",
       "                <td>iMM904</td>\n",
       "            </tr><tr>\n",
       "                <td><strong>Memory address</strong></td>\n",
       "                <td>0x07f26c42ef590</td>\n",
       "            </tr><tr>\n",
       "                <td><strong>Number of metabolites</strong></td>\n",
       "                <td>1226</td>\n",
       "            </tr><tr>\n",
       "                <td><strong>Number of reactions</strong></td>\n",
       "                <td>1577</td>\n",
       "            </tr><tr>\n",
       "                <td><strong>Number of groups</strong></td>\n",
       "                <td>0</td>\n",
       "            </tr><tr>\n",
       "                <td><strong>Objective expression</strong></td>\n",
       "                <td>0.0 + 1.0*BIOMASS_SC5_notrace - 1.0*BIOMASS_SC5_notrace_reverse_93090</td>\n",
       "            </tr><tr>\n",
       "                <td><strong>Compartments</strong></td>\n",
       "                <td>cytosol, extracellular space, mitochondria, peroxisome/glyoxysome, endoplasmic reticulum, vacuole, golgi apparatus, nucleus</td>\n",
       "            </tr>\n",
       "          </table>"
      ],
      "text/plain": [
       "<Model iMM904 at 0x7f26c42ef590>"
      ]
     },
     "execution_count": 9,
     "metadata": {},
     "output_type": "execute_result"
    }
   ],
   "source": [
    "model_yeast = load_model('iMM904')\n",
    "model_yeast.solver = 'gurobi'\n",
    "model_yeast"
   ]
  },
  {
   "cell_type": "code",
   "execution_count": 10,
   "metadata": {},
   "outputs": [],
   "source": [
    "# add metabolites\n",
    "isobuta_c = Metabolite(\n",
    "    'isobuta_c',\n",
    "    formula='C4H8O2',\n",
    "    name='2-methylpropanoic-acid',\n",
    "    compartment='c')\n",
    "\n",
    "isobuta_e = Metabolite(\n",
    "    'isobuta_e',\n",
    "    formula='C4H8O2',\n",
    "    name='2-methylpropanoic-acid',\n",
    "    compartment='e')\n",
    "\n",
    "mppal_c = Metabolite(\n",
    "    '2mppal_c',\n",
    "    formula='C4H8O',\n",
    "    name='2-methylpropanal',\n",
    "    compartment='c')\n",
    "\n",
    "xylt_c = model_yeast.metabolites.xylt_c\n",
    "xylt_e = model_yeast.metabolites.xylt_e\n",
    "xyl__D_c = model.metabolites.xyl__D_c\n",
    "h_c = model.metabolites.h_c\n",
    "co2_c = model.metabolites.co2_c\n",
    "mob_c = model.metabolites.get_by_id('3mob_c')\n",
    "h2o_c = model.metabolites.h2o_c\n",
    "nad_c = model.metabolites.nad_c\n",
    "nadh_c = model.metabolites.nadh_c\n",
    "nadp_c = model.metabolites.nadp_c\n",
    "nadph_c = model.metabolites.nadph_c"
   ]
  },
  {
   "cell_type": "markdown",
   "metadata": {},
   "source": [
    "## Isobutyric Mutant\n",
    "### _Reaction 1: 3-Methyl-2-oxobutanoate => 2-methylpropanal_"
   ]
  },
  {
   "cell_type": "code",
   "execution_count": 11,
   "metadata": {},
   "outputs": [],
   "source": [
    "# define reaction\n",
    "reaction = Reaction('kivD_heterologous')\n",
    "reaction.name = 'alpha-ketoisovalerate-decarboxylase'\n",
    "reaction.subsystem = 'Alternate Carbon Metabolism'\n",
    "reaction.lower_bound = 0.  # This is the default\n",
    "reaction.upper_bound = 1000.  # This is the default"
   ]
  },
  {
   "cell_type": "code",
   "execution_count": 12,
   "metadata": {},
   "outputs": [
    {
     "data": {
      "text/plain": [
       "'3mob_c + h_c --> 2mppal_c + co2_c'"
      ]
     },
     "execution_count": 12,
     "metadata": {},
     "output_type": "execute_result"
    }
   ],
   "source": [
    "reaction.add_metabolites({\n",
    "    mob_c: -1.0,\n",
    "    h_c: -1.0,\n",
    "    co2_c: 1.0,\n",
    "    mppal_c: 1.0\n",
    "})\n",
    "\n",
    "reaction.reaction  "
   ]
  },
  {
   "cell_type": "code",
   "execution_count": 13,
   "metadata": {},
   "outputs": [
    {
     "data": {
      "text/plain": [
       "frozenset({<Gene kivD at 0x7f26c486ad10>})"
      ]
     },
     "execution_count": 13,
     "metadata": {},
     "output_type": "execute_result"
    }
   ],
   "source": [
    "reaction.gene_reaction_rule = '( kivD )'\n",
    "reaction.genes"
   ]
  },
  {
   "cell_type": "code",
   "execution_count": 14,
   "metadata": {},
   "outputs": [],
   "source": [
    "mutant_isobutyric.add_reactions([reaction])"
   ]
  },
  {
   "cell_type": "markdown",
   "metadata": {},
   "source": [
    "### _Reaction 2: 2-methylpropanal =>  2-methylpropanoic-acid_"
   ]
  },
  {
   "cell_type": "code",
   "execution_count": 15,
   "metadata": {},
   "outputs": [],
   "source": [
    "# define reaction\n",
    "reaction = Reaction('ALDD19xr_mppal')\n",
    "reaction.name = 'Aldehyde dehydrogenase (2-methylpropanal, NAD)'\n",
    "reaction.subsystem = 'Alternate Carbon Metabolism'\n",
    "reaction.lower_bound = -1000.  # This is the default\n",
    "reaction.upper_bound = 1000.  # This is the default"
   ]
  },
  {
   "cell_type": "code",
   "execution_count": 16,
   "metadata": {},
   "outputs": [
    {
     "data": {
      "text/plain": [
       "'2mppal_c + h2o_c + nad_c <=> 2.0 h_c + isobuta_c + nadh_c'"
      ]
     },
     "execution_count": 16,
     "metadata": {},
     "output_type": "execute_result"
    }
   ],
   "source": [
    "reaction.add_metabolites({\n",
    "    h2o_c: -1.0,\n",
    "    nad_c: -1.0, \n",
    "    mppal_c: -1.0,\n",
    "    h_c: 2.0,\n",
    "    nadh_c: 1.0,\n",
    "    isobuta_c: 1.0\n",
    "})\n",
    "\n",
    "reaction.reaction  "
   ]
  },
  {
   "cell_type": "code",
   "execution_count": 17,
   "metadata": {},
   "outputs": [
    {
     "data": {
      "text/plain": [
       "frozenset({<Gene b1385 at 0x7f26c4879c90>})"
      ]
     },
     "execution_count": 17,
     "metadata": {},
     "output_type": "execute_result"
    }
   ],
   "source": [
    "reaction.gene_reaction_rule = '( b1385 )'\n",
    "reaction.genes"
   ]
  },
  {
   "cell_type": "code",
   "execution_count": 18,
   "metadata": {},
   "outputs": [],
   "source": [
    "mutant_isobutyric.add_reactions([reaction])"
   ]
  },
  {
   "cell_type": "markdown",
   "metadata": {},
   "source": [
    "### _Reaction 3: 2-methylpropanoic-acid transport_"
   ]
  },
  {
   "cell_type": "code",
   "execution_count": 19,
   "metadata": {},
   "outputs": [],
   "source": [
    "# define reaction\n",
    "reaction = Reaction('isobutat')\n",
    "reaction.name = '2-methylpropanoic-acid transport'\n",
    "reaction.subsystem = 'Transport, Extracellular' #TRANSPORT\n",
    "reaction.lower_bound = -1000.  # This is the default\n",
    "reaction.upper_bound = 1000.  # This is the default"
   ]
  },
  {
   "cell_type": "code",
   "execution_count": 20,
   "metadata": {},
   "outputs": [
    {
     "data": {
      "text/plain": [
       "'isobuta_c <=> isobuta_e'"
      ]
     },
     "execution_count": 20,
     "metadata": {},
     "output_type": "execute_result"
    }
   ],
   "source": [
    "reaction.add_metabolites({\n",
    "    isobuta_c: -1.0,\n",
    "    isobuta_e: 1.0\n",
    "})\n",
    "\n",
    "reaction.reaction  "
   ]
  },
  {
   "cell_type": "code",
   "execution_count": 21,
   "metadata": {},
   "outputs": [
    {
     "data": {
      "text/plain": [
       "frozenset({<Gene isobuta_transporter at 0x7f26c3dd82d0>})"
      ]
     },
     "execution_count": 21,
     "metadata": {},
     "output_type": "execute_result"
    }
   ],
   "source": [
    "reaction.gene_reaction_rule = '( isobuta_transporter )'\n",
    "reaction.genes"
   ]
  },
  {
   "cell_type": "code",
   "execution_count": 22,
   "metadata": {},
   "outputs": [],
   "source": [
    "mutant_isobutyric.add_reactions([reaction])"
   ]
  },
  {
   "cell_type": "markdown",
   "metadata": {},
   "source": [
    "### _Reaction 4: 2-methylpropanoic-acid => exchange_"
   ]
  },
  {
   "cell_type": "code",
   "execution_count": 23,
   "metadata": {},
   "outputs": [],
   "source": [
    "# define reaction\n",
    "reaction = Reaction('EX_isobuta_e')\n",
    "reaction.name = '2-methylpropanoic-acid exchange'\n",
    "reaction.subsystem = 'Extracellular exchange'\n",
    "reaction.lower_bound = 0.  # This is the default\n",
    "reaction.upper_bound = 1000.  # This is the default"
   ]
  },
  {
   "cell_type": "code",
   "execution_count": 24,
   "metadata": {},
   "outputs": [
    {
     "data": {
      "text/plain": [
       "'isobuta_e --> '"
      ]
     },
     "execution_count": 24,
     "metadata": {},
     "output_type": "execute_result"
    }
   ],
   "source": [
    "reaction.add_metabolites({\n",
    "    isobuta_e: -1.0\n",
    "})\n",
    "\n",
    "reaction.reaction  "
   ]
  },
  {
   "cell_type": "code",
   "execution_count": 25,
   "metadata": {},
   "outputs": [],
   "source": [
    "mutant_isobutyric.add_reactions([reaction])"
   ]
  },
  {
   "cell_type": "markdown",
   "metadata": {},
   "source": [
    "### _Reaction 4: Acetate Transporter_\n",
    "#For some reason, we did not find acetate transporter in iML1515 http://bigg.ucsd.edu/universal/reactions/ACtr"
   ]
  },
  {
   "cell_type": "code",
   "execution_count": 26,
   "metadata": {},
   "outputs": [],
   "source": [
    "#reaction = model_yeast.reactions.ACtr\n",
    "#mutant_isobutyric.add_reactions([reaction])\n",
    "#mutant_isobutyric.reactions.ACtr.bounds = (-1000.0, 1000.0)"
   ]
  },
  {
   "cell_type": "markdown",
   "metadata": {},
   "source": [
    "### Write Model"
   ]
  },
  {
   "cell_type": "code",
   "execution_count": 27,
   "metadata": {},
   "outputs": [],
   "source": [
    "cobra.io.write_sbml_model(mutant_isobutyric, \"result/iML1515_isobutyric_strain.xml\")\n",
    "cobra.io.save_json_model(mutant_isobutyric, \"result/iML1515_isobutyric_strain.json\")"
   ]
  },
  {
   "cell_type": "markdown",
   "metadata": {},
   "source": [
    "## Xylitol Mutant\n",
    "### _Reaction 1: NADPH-dependent D-xylose reductase_"
   ]
  },
  {
   "cell_type": "raw",
   "metadata": {},
   "source": [
    "# define reaction\n",
    "# https://www.uniprot.org/uniprot/Q8X195 from Candida boidinii (Yeast)\n",
    "# model reaction modified from http://bigg.ucsd.edu/models/iMM904/reactions/XYLR\n",
    "# need to check if its the same with uniprot http://bigg.ucsd.edu/models/iMM904/genes/YHR104W\n",
    "reaction = Reaction('XYLR')\n",
    "reaction.name = 'NADPH-dependent D-xylose reductase'\n",
    "reaction.subsystem = 'S_Xylose_Metabolism'\n",
    "reaction.lower_bound = 0.  # This is the default\n",
    "reaction.upper_bound = 1000.  # This is the default"
   ]
  },
  {
   "cell_type": "raw",
   "metadata": {},
   "source": [
    "reaction.add_metabolites({\n",
    "    h_c: -1.0,\n",
    "    nadp_c: 1.0,\n",
    "    nadph_c: -1.0,\n",
    "    xyl__D_c: -1.0,\n",
    "    xylt_c: 1.0,\n",
    "})\n",
    "\n",
    "reaction.reaction  "
   ]
  },
  {
   "cell_type": "raw",
   "metadata": {},
   "source": [
    "reaction.gene_reaction_rule = '( XYL1 )'\n",
    "reaction.genes"
   ]
  },
  {
   "cell_type": "code",
   "execution_count": 28,
   "metadata": {},
   "outputs": [],
   "source": [
    "reaction = model_yeast.reactions.XYLR"
   ]
  },
  {
   "cell_type": "code",
   "execution_count": 29,
   "metadata": {},
   "outputs": [],
   "source": [
    "mutant_xylitol.add_reactions([reaction])\n",
    "mutant_xylitol.reactions.XYLR.bounds = (0.0, 1000.0)"
   ]
  },
  {
   "cell_type": "markdown",
   "metadata": {},
   "source": [
    "### _Reaction 2: Xylitol transport via passive diffusion_"
   ]
  },
  {
   "cell_type": "code",
   "execution_count": 30,
   "metadata": {},
   "outputs": [
    {
     "data": {
      "text/plain": [
       "'xylt_e <=> xylt_c'"
      ]
     },
     "execution_count": 30,
     "metadata": {},
     "output_type": "execute_result"
    }
   ],
   "source": [
    "reaction = model_yeast.reactions.XYLTt\n",
    "reaction.reaction"
   ]
  },
  {
   "cell_type": "code",
   "execution_count": 31,
   "metadata": {},
   "outputs": [],
   "source": [
    "mutant_xylitol.add_reactions([reaction])\n",
    "mutant_xylitol.reactions.XYLTt.bounds = (-1000.0, 1000.0)"
   ]
  },
  {
   "cell_type": "markdown",
   "metadata": {},
   "source": [
    "### _Reaction 3: Xylitol Exchange_"
   ]
  },
  {
   "cell_type": "code",
   "execution_count": 32,
   "metadata": {},
   "outputs": [],
   "source": [
    "# define reaction\n",
    "reaction = Reaction('EX_xylt_e')\n",
    "reaction.name = 'Xylitol Exchange'\n",
    "reaction.subsystem = 'Extracellular exchange'\n",
    "reaction.lower_bound = 0.  # This is the default\n",
    "reaction.upper_bound = 1000.  # This is the default"
   ]
  },
  {
   "cell_type": "code",
   "execution_count": 33,
   "metadata": {},
   "outputs": [
    {
     "data": {
      "text/plain": [
       "'xylt_e --> '"
      ]
     },
     "execution_count": 33,
     "metadata": {},
     "output_type": "execute_result"
    }
   ],
   "source": [
    "reaction.add_metabolites({\n",
    "    xylt_e: -1.0\n",
    "})\n",
    "\n",
    "reaction.reaction "
   ]
  },
  {
   "cell_type": "code",
   "execution_count": 34,
   "metadata": {},
   "outputs": [],
   "source": [
    "mutant_xylitol.add_reactions([reaction])"
   ]
  },
  {
   "cell_type": "markdown",
   "metadata": {},
   "source": [
    "### Write Model"
   ]
  },
  {
   "cell_type": "code",
   "execution_count": 35,
   "metadata": {},
   "outputs": [],
   "source": [
    "cobra.io.write_sbml_model(mutant_xylitol, \"result/iML1515_xylitol_strain.xml\")\n",
    "cobra.io.save_json_model(mutant_xylitol, \"result/iML1515_xylitol_strain.json\")"
   ]
  }
 ],
 "metadata": {
  "kernelspec": {
   "display_name": "Python 3",
   "language": "python",
   "name": "python3"
  },
  "language_info": {
   "codemirror_mode": {
    "name": "ipython",
    "version": 3
   },
   "file_extension": ".py",
   "mimetype": "text/x-python",
   "name": "python",
   "nbconvert_exporter": "python",
   "pygments_lexer": "ipython3",
   "version": "3.7.8"
  }
 },
 "nbformat": 4,
 "nbformat_minor": 4
}
