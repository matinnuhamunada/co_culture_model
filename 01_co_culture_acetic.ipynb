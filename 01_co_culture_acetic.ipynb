{
 "cells": [
  {
   "cell_type": "markdown",
   "metadata": {},
   "source": [
    "# Import Model"
   ]
  },
  {
   "cell_type": "code",
   "execution_count": 1,
   "metadata": {},
   "outputs": [
    {
     "name": "stderr",
     "output_type": "stream",
     "text": [
      "/home/matinnu/anaconda3/envs/lab_rotation_3/lib/python3.7/site-packages/sympy/__init__.py:676: SymPyDeprecationWarning: \n",
      "\n",
      "importing sympy.core.singleton with 'from sympy import *' has been\n",
      "deprecated since SymPy 1.6. Use import sympy.core.singleton instead.\n",
      "See https://github.com/sympy/sympy/issues/18245 for more info.\n",
      "\n",
      "  deprecated_since_version=\"1.6\").warn()\n"
     ]
    }
   ],
   "source": [
    "from cameo import models\n",
    "from cameo import load_model\n",
    "from cameo import fba\n",
    "from escher import Builder\n",
    "import pandas as pd\n",
    "import numpy as np"
   ]
  },
  {
   "cell_type": "markdown",
   "metadata": {},
   "source": [
    "# Simulate Model"
   ]
  },
  {
   "cell_type": "code",
   "execution_count": 2,
   "metadata": {},
   "outputs": [
    {
     "name": "stdout",
     "output_type": "stream",
     "text": [
      "Using license file /home/matinnu/gurobi.lic\n",
      "Academic license - for non-commercial use only\n"
     ]
    },
    {
     "data": {
      "text/html": [
       "\n",
       "        <table>\n",
       "            <tr>\n",
       "                <td><strong>Name</strong></td>\n",
       "                <td>iML1515</td>\n",
       "            </tr><tr>\n",
       "                <td><strong>Memory address</strong></td>\n",
       "                <td>0x07f632926ca10</td>\n",
       "            </tr><tr>\n",
       "                <td><strong>Number of metabolites</strong></td>\n",
       "                <td>1877</td>\n",
       "            </tr><tr>\n",
       "                <td><strong>Number of reactions</strong></td>\n",
       "                <td>2712</td>\n",
       "            </tr><tr>\n",
       "                <td><strong>Number of groups</strong></td>\n",
       "                <td>0</td>\n",
       "            </tr><tr>\n",
       "                <td><strong>Objective expression</strong></td>\n",
       "                <td>0.0 + 1.0*BIOMASS_Ec_iML1515_core_75p37M - 1.0*BIOMASS_Ec_iML1515_core_75p37M_reverse_35685</td>\n",
       "            </tr><tr>\n",
       "                <td><strong>Compartments</strong></td>\n",
       "                <td>cytosol, extracellular space, periplasm</td>\n",
       "            </tr>\n",
       "          </table>"
      ],
      "text/plain": [
       "<Model iML1515 at 0x7f632926ca10>"
      ]
     },
     "execution_count": 2,
     "metadata": {},
     "output_type": "execute_result"
    }
   ],
   "source": [
    "model = load_model('iML1515')\n",
    "model"
   ]
  },
  {
   "cell_type": "code",
   "execution_count": 3,
   "metadata": {},
   "outputs": [],
   "source": [
    "model.solver = 'gurobi'"
   ]
  },
  {
   "cell_type": "code",
   "execution_count": 4,
   "metadata": {},
   "outputs": [
    {
     "name": "stdout",
     "output_type": "stream",
     "text": [
      "CPU times: user 219 ms, sys: 46.9 ms, total: 266 ms\n",
      "Wall time: 254 ms\n"
     ]
    }
   ],
   "source": [
    "%time fba_result = fba(model)"
   ]
  },
  {
   "cell_type": "code",
   "execution_count": 5,
   "metadata": {},
   "outputs": [],
   "source": [
    "#fba_result.display_on_map(\"iJO1366.Central metabolism\") #seems cameo not updated with escher yet"
   ]
  },
  {
   "cell_type": "code",
   "execution_count": 6,
   "metadata": {},
   "outputs": [
    {
     "data": {
      "text/plain": [
       "0.8769972144269728"
      ]
     },
     "execution_count": 6,
     "metadata": {},
     "output_type": "execute_result"
    }
   ],
   "source": [
    "fba_result[model.reactions.BIOMASS_Ec_iML1515_core_75p37M]"
   ]
  },
  {
   "cell_type": "code",
   "execution_count": 7,
   "metadata": {},
   "outputs": [
    {
     "name": "stdout",
     "output_type": "stream",
     "text": [
      "Downloading Map from https://escher.github.io/1-0-0/6/maps/Escherichia%20coli/e_coli_core.Core%20metabolism.json\n"
     ]
    },
    {
     "data": {
      "application/vnd.jupyter.widget-view+json": {
       "model_id": "fc0cce7d760d470092726e6ed468fc9b",
       "version_major": 2,
       "version_minor": 0
      },
      "text/plain": [
       "Builder(reaction_data={'CYTDK2': 0.0, 'XPPT': 0.0, 'HXPRT': 0.0, 'NDPK5': -0.022947509112696166, 'SHK3Dr': 0.3…"
      ]
     },
     "metadata": {},
     "output_type": "display_data"
    }
   ],
   "source": [
    "builder = Builder(\n",
    "    map_name='e_coli_core.Core metabolism',\n",
    "    reaction_data=fba_result.fluxes,\n",
    ")\n",
    "builder"
   ]
  },
  {
   "cell_type": "markdown",
   "metadata": {},
   "source": [
    "# Xylitol strain knockout model"
   ]
  },
  {
   "cell_type": "code",
   "execution_count": 8,
   "metadata": {},
   "outputs": [
    {
     "name": "stdout",
     "output_type": "stream",
     "text": [
      "Read LP format model from file /tmp/tmpkcwn1ck5.lp\n",
      "Reading time = 0.02 seconds\n",
      ": 1877 rows, 5424 columns, 21150 nonzeros\n",
      "Read LP format model from file /tmp/tmphgigdd9z.lp\n",
      "Reading time = 0.03 seconds\n",
      ": 1877 rows, 5424 columns, 21150 nonzeros\n"
     ]
    }
   ],
   "source": [
    "# copy model to create mutant\n",
    "mutant_xylitol = model.copy()"
   ]
  },
  {
   "cell_type": "code",
   "execution_count": 9,
   "metadata": {},
   "outputs": [
    {
     "data": {
      "text/html": [
       "<div>\n",
       "<style scoped>\n",
       "    .dataframe tbody tr th:only-of-type {\n",
       "        vertical-align: middle;\n",
       "    }\n",
       "\n",
       "    .dataframe tbody tr th {\n",
       "        vertical-align: top;\n",
       "    }\n",
       "\n",
       "    .dataframe thead th {\n",
       "        text-align: right;\n",
       "    }\n",
       "</style>\n",
       "<table border=\"1\" class=\"dataframe\">\n",
       "  <thead>\n",
       "    <tr style=\"text-align: right;\">\n",
       "      <th></th>\n",
       "      <th>gene</th>\n",
       "      <th>uniprot</th>\n",
       "      <th>strain</th>\n",
       "      <th>Entry</th>\n",
       "      <th>Entry name</th>\n",
       "      <th>Gene names  (primary )</th>\n",
       "      <th>Gene names  (synonym )</th>\n",
       "      <th>Protein names</th>\n",
       "      <th>Gene ontology (molecular function)</th>\n",
       "      <th>Catalytic activity</th>\n",
       "      <th>Reaction</th>\n",
       "      <th>id_bigg</th>\n",
       "      <th>iML1515_idx</th>\n",
       "    </tr>\n",
       "  </thead>\n",
       "  <tbody>\n",
       "    <tr>\n",
       "      <th>0</th>\n",
       "      <td>focA</td>\n",
       "      <td>https://www.uniprot.org/uniprot/P0AC23</td>\n",
       "      <td>xylytol_mutant</td>\n",
       "      <td>P0AC23</td>\n",
       "      <td>FOCA_ECOLI</td>\n",
       "      <td>focA</td>\n",
       "      <td>ycaE</td>\n",
       "      <td>Probable formate transporter 1 (Formate channe...</td>\n",
       "      <td>formate transmembrane transporter activity [GO...</td>\n",
       "      <td>NaN</td>\n",
       "      <td>NaN</td>\n",
       "      <td>b0904</td>\n",
       "      <td>1023</td>\n",
       "    </tr>\n",
       "    <tr>\n",
       "      <th>1</th>\n",
       "      <td>pflB</td>\n",
       "      <td>https://www.uniprot.org/uniprot/P09373</td>\n",
       "      <td>xylytol_mutant</td>\n",
       "      <td>P09373</td>\n",
       "      <td>PFLB_ECOLI</td>\n",
       "      <td>pflB</td>\n",
       "      <td>pfl</td>\n",
       "      <td>Formate acetyltransferase 1 (EC 2.3.1.54) (Pyr...</td>\n",
       "      <td>formate C-acetyltransferase activity [GO:0008861]</td>\n",
       "      <td>CATALYTIC ACTIVITY: Reaction=acetyl-CoA + form...</td>\n",
       "      <td>acetyl-CoA + formate = CoA + pyruvate</td>\n",
       "      <td>b0903</td>\n",
       "      <td>162</td>\n",
       "    </tr>\n",
       "    <tr>\n",
       "      <th>2</th>\n",
       "      <td>ldhA</td>\n",
       "      <td>https://www.uniprot.org/uniprot/P52643</td>\n",
       "      <td>xylytol_mutant</td>\n",
       "      <td>P52643</td>\n",
       "      <td>LDHD_ECOLI</td>\n",
       "      <td>ldhA</td>\n",
       "      <td>hslI htpH</td>\n",
       "      <td>D-lactate dehydrogenase (D-LDH) (EC 1.1.1.28) ...</td>\n",
       "      <td>D-lactate dehydrogenase activity [GO:0008720];...</td>\n",
       "      <td>CATALYTIC ACTIVITY: Reaction=(R)-lactate + NAD...</td>\n",
       "      <td>(R)-lactate + NAD(+) = H(+) + NADH + pyruvate</td>\n",
       "      <td>b1380</td>\n",
       "      <td>1135</td>\n",
       "    </tr>\n",
       "    <tr>\n",
       "      <th>3</th>\n",
       "      <td>adhE</td>\n",
       "      <td>https://www.uniprot.org/uniprot/P0A9Q7</td>\n",
       "      <td>xylytol_mutant</td>\n",
       "      <td>P0A9Q7</td>\n",
       "      <td>ADHE_ECOLI</td>\n",
       "      <td>adhE</td>\n",
       "      <td>ana</td>\n",
       "      <td>Aldehyde-alcohol dehydrogenase [Includes: Alco...</td>\n",
       "      <td>acetaldehyde dehydrogenase (acetylating) activ...</td>\n",
       "      <td>CATALYTIC ACTIVITY: Reaction=a primary alcohol...</td>\n",
       "      <td>a primary alcohol + NAD(+) = an aldehyde + H(+...</td>\n",
       "      <td>b1241</td>\n",
       "      <td>100</td>\n",
       "    </tr>\n",
       "    <tr>\n",
       "      <th>5</th>\n",
       "      <td>frdA</td>\n",
       "      <td>https://www.uniprot.org/uniprot/P00363</td>\n",
       "      <td>xylytol_mutant</td>\n",
       "      <td>P00363</td>\n",
       "      <td>FRDA_ECOLI</td>\n",
       "      <td>frdA</td>\n",
       "      <td>NaN</td>\n",
       "      <td>Fumarate reductase flavoprotein subunit (EC 1....</td>\n",
       "      <td>electron transfer activity [GO:0009055]; FAD b...</td>\n",
       "      <td>CATALYTIC ACTIVITY: Reaction=a quinone + succi...</td>\n",
       "      <td>a quinone + succinate = a quinol + fumarate</td>\n",
       "      <td>b4154</td>\n",
       "      <td>171</td>\n",
       "    </tr>\n",
       "    <tr>\n",
       "      <th>6</th>\n",
       "      <td>cyoB</td>\n",
       "      <td>https://www.uniprot.org/uniprot/P0ABI8</td>\n",
       "      <td>xylytol_mutant</td>\n",
       "      <td>P0ABI8</td>\n",
       "      <td>CYOB_ECOLI</td>\n",
       "      <td>cyoB</td>\n",
       "      <td>NaN</td>\n",
       "      <td>Cytochrome bo(3) ubiquinol oxidase subunit 1 (...</td>\n",
       "      <td>copper ion binding [GO:0005507]; cytochrome bo...</td>\n",
       "      <td>CATALYTIC ACTIVITY: Reaction=2 a ubiquinol + n...</td>\n",
       "      <td>2 a ubiquinol + n H(+)(in) + O2 = 2 a ubiquino...</td>\n",
       "      <td>b0431</td>\n",
       "      <td>1216</td>\n",
       "    </tr>\n",
       "    <tr>\n",
       "      <th>7</th>\n",
       "      <td>appB</td>\n",
       "      <td>https://www.uniprot.org/uniprot/P26458</td>\n",
       "      <td>xylytol_mutant</td>\n",
       "      <td>P26458</td>\n",
       "      <td>APPB_ECOLI</td>\n",
       "      <td>appB</td>\n",
       "      <td>cbdB cyxB</td>\n",
       "      <td>Cytochrome bd-II ubiquinol oxidase subunit 2 (...</td>\n",
       "      <td>electron transfer activity [GO:0009055]; metal...</td>\n",
       "      <td>CATALYTIC ACTIVITY: Reaction=2 a ubiquinol + n...</td>\n",
       "      <td>2 a ubiquinol + n H(+)(in) + O2 = 2 a ubiquino...</td>\n",
       "      <td>b0979</td>\n",
       "      <td>799</td>\n",
       "    </tr>\n",
       "  </tbody>\n",
       "</table>\n",
       "</div>"
      ],
      "text/plain": [
       "   gene                                  uniprot          strain   Entry  \\\n",
       "0  focA   https://www.uniprot.org/uniprot/P0AC23  xylytol_mutant  P0AC23   \n",
       "1  pflB   https://www.uniprot.org/uniprot/P09373  xylytol_mutant  P09373   \n",
       "2  ldhA   https://www.uniprot.org/uniprot/P52643  xylytol_mutant  P52643   \n",
       "3  adhE   https://www.uniprot.org/uniprot/P0A9Q7  xylytol_mutant  P0A9Q7   \n",
       "5  frdA   https://www.uniprot.org/uniprot/P00363  xylytol_mutant  P00363   \n",
       "6  cyoB   https://www.uniprot.org/uniprot/P0ABI8  xylytol_mutant  P0ABI8   \n",
       "7  appB   https://www.uniprot.org/uniprot/P26458  xylytol_mutant  P26458   \n",
       "\n",
       "   Entry name Gene names  (primary ) Gene names  (synonym )  \\\n",
       "0  FOCA_ECOLI                   focA                   ycaE   \n",
       "1  PFLB_ECOLI                   pflB                    pfl   \n",
       "2  LDHD_ECOLI                   ldhA              hslI htpH   \n",
       "3  ADHE_ECOLI                   adhE                    ana   \n",
       "5  FRDA_ECOLI                   frdA                    NaN   \n",
       "6  CYOB_ECOLI                   cyoB                    NaN   \n",
       "7  APPB_ECOLI                   appB              cbdB cyxB   \n",
       "\n",
       "                                       Protein names  \\\n",
       "0  Probable formate transporter 1 (Formate channe...   \n",
       "1  Formate acetyltransferase 1 (EC 2.3.1.54) (Pyr...   \n",
       "2  D-lactate dehydrogenase (D-LDH) (EC 1.1.1.28) ...   \n",
       "3  Aldehyde-alcohol dehydrogenase [Includes: Alco...   \n",
       "5  Fumarate reductase flavoprotein subunit (EC 1....   \n",
       "6  Cytochrome bo(3) ubiquinol oxidase subunit 1 (...   \n",
       "7  Cytochrome bd-II ubiquinol oxidase subunit 2 (...   \n",
       "\n",
       "                  Gene ontology (molecular function)  \\\n",
       "0  formate transmembrane transporter activity [GO...   \n",
       "1  formate C-acetyltransferase activity [GO:0008861]   \n",
       "2  D-lactate dehydrogenase activity [GO:0008720];...   \n",
       "3  acetaldehyde dehydrogenase (acetylating) activ...   \n",
       "5  electron transfer activity [GO:0009055]; FAD b...   \n",
       "6  copper ion binding [GO:0005507]; cytochrome bo...   \n",
       "7  electron transfer activity [GO:0009055]; metal...   \n",
       "\n",
       "                                  Catalytic activity  \\\n",
       "0                                                NaN   \n",
       "1  CATALYTIC ACTIVITY: Reaction=acetyl-CoA + form...   \n",
       "2  CATALYTIC ACTIVITY: Reaction=(R)-lactate + NAD...   \n",
       "3  CATALYTIC ACTIVITY: Reaction=a primary alcohol...   \n",
       "5  CATALYTIC ACTIVITY: Reaction=a quinone + succi...   \n",
       "6  CATALYTIC ACTIVITY: Reaction=2 a ubiquinol + n...   \n",
       "7  CATALYTIC ACTIVITY: Reaction=2 a ubiquinol + n...   \n",
       "\n",
       "                                            Reaction id_bigg  iML1515_idx  \n",
       "0                                                NaN   b0904         1023  \n",
       "1              acetyl-CoA + formate = CoA + pyruvate   b0903          162  \n",
       "2      (R)-lactate + NAD(+) = H(+) + NADH + pyruvate   b1380         1135  \n",
       "3  a primary alcohol + NAD(+) = an aldehyde + H(+...   b1241          100  \n",
       "5        a quinone + succinate = a quinol + fumarate   b4154          171  \n",
       "6  2 a ubiquinol + n H(+)(in) + O2 = 2 a ubiquino...   b0431         1216  \n",
       "7  2 a ubiquinol + n H(+)(in) + O2 = 2 a ubiquino...   b0979          799  "
      ]
     },
     "execution_count": 9,
     "metadata": {},
     "output_type": "execute_result"
    }
   ],
   "source": [
    "# create list of genes to KO\n",
    "ko_list = pd.read_csv('data/df_xylitol_knockouts.csv', index_col=0).dropna(subset = ['id_bigg'])\n",
    "ko_list.iML1515_idx = ko_list.iML1515_idx.astype(int)\n",
    "ko_list"
   ]
  },
  {
   "cell_type": "code",
   "execution_count": 10,
   "metadata": {},
   "outputs": [],
   "source": [
    "for i in ko_list.iML1515_idx:\n",
    "    mutant_xylitol.genes[i].knock_out()"
   ]
  },
  {
   "cell_type": "code",
   "execution_count": 11,
   "metadata": {},
   "outputs": [
    {
     "name": "stdout",
     "output_type": "stream",
     "text": [
      "b0904\n",
      "model : FORt2pp: for_p + h_p --> for_c + h_c\n",
      "(0.0, 1000.0)\n",
      "model : FORtppi: for_c --> for_p\n",
      "(0.0, 1000.0)\n",
      "mutant : FORt2pp\n",
      "(0.0, 1000.0)\n",
      "mutant : FORtppi\n",
      "(0.0, 1000.0)\n",
      "___________________________\n",
      "b0903\n",
      "model : PFL: coa_c + pyr_c --> accoa_c + for_c\n",
      "(0.0, 1000.0)\n",
      "model : OBTFL: 2obut_c + coa_c --> for_c + ppcoa_c\n",
      "(0.0, 1000.0)\n",
      "mutant : PFL\n",
      "(0.0, 1000.0)\n",
      "mutant : OBTFL\n",
      "(0.0, 1000.0)\n",
      "___________________________\n",
      "b1380\n",
      "model : LDH_D: lac__D_c + nad_c <=> h_c + nadh_c + pyr_c\n",
      "(-1000.0, 1000.0)\n",
      "mutant : LDH_D\n",
      "(0, 0)\n",
      "___________________________\n",
      "b1241\n",
      "model : ALCD19: glyald_c + h_c + nadh_c <=> glyc_c + nad_c\n",
      "(-1000.0, 1000.0)\n",
      "model : ALCD2x: etoh_c + nad_c <=> acald_c + h_c + nadh_c\n",
      "(-1000.0, 1000.0)\n",
      "model : ACALD: acald_c + coa_c + nad_c <=> accoa_c + h_c + nadh_c\n",
      "(-1000.0, 1000.0)\n",
      "mutant : ACALD\n",
      "(-1000.0, 1000.0)\n",
      "mutant : ALCD2x\n",
      "(-1000.0, 1000.0)\n",
      "mutant : ALCD19\n",
      "(-1000.0, 1000.0)\n",
      "___________________________\n",
      "b4154\n",
      "model : FRD2: fum_c + mql8_c --> mqn8_c + succ_c\n",
      "(0.0, 1000.0)\n",
      "model : FRD3: 2dmmql8_c + fum_c --> 2dmmq8_c + succ_c\n",
      "(0.0, 1000.0)\n",
      "mutant : FRD2\n",
      "(0, 0)\n",
      "mutant : FRD3\n",
      "(0, 0)\n",
      "___________________________\n",
      "b0431\n",
      "model : CYTBO3_4pp: 4.0 h_c + 0.5 o2_c + q8h2_c --> h2o_c + 4.0 h_p + q8_c\n",
      "(0.0, 1000.0)\n",
      "mutant : CYTBO3_4pp\n",
      "(0, 0)\n",
      "___________________________\n",
      "b0979\n",
      "model : CYTBDpp: 2.0 h_c + 0.5 o2_c + q8h2_c --> h2o_c + 2.0 h_p + q8_c\n",
      "(0.0, 1000.0)\n",
      "model : CYTBD2pp: 2.0 h_c + mql8_c + 0.5 o2_c --> h2o_c + 2.0 h_p + mqn8_c\n",
      "(0.0, 1000.0)\n",
      "mutant : CYTBDpp\n",
      "(0.0, 1000.0)\n",
      "mutant : CYTBD2pp\n",
      "(0, 0)\n",
      "___________________________\n"
     ]
    }
   ],
   "source": [
    "for i in ko_list.iML1515_idx:\n",
    "    print(mutant_xylitol.genes[i])\n",
    "    for x in model.genes[i].reactions:\n",
    "        print('model : '+str(x))\n",
    "        print(x.bounds)\n",
    "    for x in mutant_xylitol.genes[i].reactions:\n",
    "        print('mutant : '+str(x.id))\n",
    "        print(x.bounds)\n",
    "    print(\"___________________________\")"
   ]
  },
  {
   "cell_type": "code",
   "execution_count": 12,
   "metadata": {},
   "outputs": [
    {
     "name": "stdout",
     "output_type": "stream",
     "text": [
      "CPU times: user 406 ms, sys: 31.2 ms, total: 438 ms\n",
      "Wall time: 545 ms\n"
     ]
    },
    {
     "data": {
      "text/plain": [
       "0.7776142830847718"
      ]
     },
     "execution_count": 12,
     "metadata": {},
     "output_type": "execute_result"
    }
   ],
   "source": [
    "%time fba_knockout_xylitol = fba(mutant_xylitol)\n",
    "fba_knockout_xylitol[mutant_xylitol.reactions.BIOMASS_Ec_iML1515_core_75p37M]"
   ]
  },
  {
   "cell_type": "code",
   "execution_count": 13,
   "metadata": {},
   "outputs": [
    {
     "name": "stdout",
     "output_type": "stream",
     "text": [
      "Downloading Map from https://escher.github.io/1-0-0/6/maps/Escherichia%20coli/e_coli_core.Core%20metabolism.json\n"
     ]
    },
    {
     "data": {
      "application/vnd.jupyter.widget-view+json": {
       "model_id": "af8dd30504ed4969819ad8c13accc2f4",
       "version_major": 2,
       "version_minor": 0
      },
      "text/plain": [
       "Builder(reaction_data={'CYTDK2': 0.0, 'XPPT': 0.0, 'HXPRT': 0.0, 'NDPK5': 0.0, 'SHK3Dr': 0.29636357795498514, …"
      ]
     },
     "metadata": {},
     "output_type": "display_data"
    }
   ],
   "source": [
    "builder = Builder(\n",
    "    map_name='e_coli_core.Core metabolism',\n",
    "    reaction_data=fba_knockout_xylitol.fluxes,\n",
    ")\n",
    "builder"
   ]
  },
  {
   "cell_type": "markdown",
   "metadata": {},
   "source": [
    "# Isobutyric strain knockout model"
   ]
  },
  {
   "cell_type": "code",
   "execution_count": 14,
   "metadata": {},
   "outputs": [
    {
     "name": "stdout",
     "output_type": "stream",
     "text": [
      "Read LP format model from file /tmp/tmpr8gl0ob1.lp\n",
      "Reading time = 0.06 seconds\n",
      ": 1877 rows, 5424 columns, 21150 nonzeros\n",
      "Read LP format model from file /tmp/tmpmyohphog.lp\n",
      "Reading time = 0.02 seconds\n",
      ": 1877 rows, 5424 columns, 21150 nonzeros\n"
     ]
    }
   ],
   "source": [
    "# copy model to create mutant\n",
    "mutant_isobutyric = model.copy()"
   ]
  },
  {
   "cell_type": "code",
   "execution_count": 15,
   "metadata": {},
   "outputs": [
    {
     "data": {
      "text/html": [
       "<div>\n",
       "<style scoped>\n",
       "    .dataframe tbody tr th:only-of-type {\n",
       "        vertical-align: middle;\n",
       "    }\n",
       "\n",
       "    .dataframe tbody tr th {\n",
       "        vertical-align: top;\n",
       "    }\n",
       "\n",
       "    .dataframe thead th {\n",
       "        text-align: right;\n",
       "    }\n",
       "</style>\n",
       "<table border=\"1\" class=\"dataframe\">\n",
       "  <thead>\n",
       "    <tr style=\"text-align: right;\">\n",
       "      <th></th>\n",
       "      <th>gene</th>\n",
       "      <th>uniprot</th>\n",
       "      <th>strain</th>\n",
       "      <th>Entry</th>\n",
       "      <th>Entry name</th>\n",
       "      <th>Gene names  (primary )</th>\n",
       "      <th>Gene names  (synonym )</th>\n",
       "      <th>Protein names</th>\n",
       "      <th>Gene ontology (molecular function)</th>\n",
       "      <th>Catalytic activity</th>\n",
       "      <th>Reaction</th>\n",
       "      <th>id_bigg</th>\n",
       "      <th>iML1515_idx</th>\n",
       "    </tr>\n",
       "  </thead>\n",
       "  <tbody>\n",
       "    <tr>\n",
       "      <th>0</th>\n",
       "      <td>pflB</td>\n",
       "      <td>https://www.uniprot.org/uniprot/P09373</td>\n",
       "      <td>isobutyric_mutant</td>\n",
       "      <td>P09373</td>\n",
       "      <td>PFLB_ECOLI</td>\n",
       "      <td>pflB</td>\n",
       "      <td>pfl</td>\n",
       "      <td>Formate acetyltransferase 1 (EC 2.3.1.54) (Pyr...</td>\n",
       "      <td>formate C-acetyltransferase activity [GO:0008861]</td>\n",
       "      <td>CATALYTIC ACTIVITY: Reaction=acetyl-CoA + form...</td>\n",
       "      <td>acetyl-CoA + formate = CoA + pyruvate</td>\n",
       "      <td>b0903</td>\n",
       "      <td>162</td>\n",
       "    </tr>\n",
       "    <tr>\n",
       "      <th>2</th>\n",
       "      <td>poxB</td>\n",
       "      <td>https://www.uniprot.org/uniprot/P07003</td>\n",
       "      <td>isobutyric_mutant</td>\n",
       "      <td>P07003</td>\n",
       "      <td>POXB_ECOLI</td>\n",
       "      <td>poxB</td>\n",
       "      <td>NaN</td>\n",
       "      <td>Pyruvate dehydrogenase [ubiquinone] (EC 1.2.5....</td>\n",
       "      <td>flavin adenine dinucleotide binding [GO:005066...</td>\n",
       "      <td>CATALYTIC ACTIVITY: Reaction=a ubiquinone + H2...</td>\n",
       "      <td>a ubiquinone + H2O + pyruvate = a ubiquinol + ...</td>\n",
       "      <td>b0871</td>\n",
       "      <td>175</td>\n",
       "    </tr>\n",
       "    <tr>\n",
       "      <th>3</th>\n",
       "      <td>tdcE</td>\n",
       "      <td>https://www.uniprot.org/uniprot/P42632</td>\n",
       "      <td>isobutyric_mutant</td>\n",
       "      <td>P42632</td>\n",
       "      <td>TDCE_ECOLI</td>\n",
       "      <td>tdcE</td>\n",
       "      <td>yhaS</td>\n",
       "      <td>PFL-like enzyme TdcE (Keto-acid formate acetyl...</td>\n",
       "      <td>2-ketobutyrate formate-lyase activity [GO:0043...</td>\n",
       "      <td>CATALYTIC ACTIVITY: Reaction=2-oxobutanoate + ...</td>\n",
       "      <td>2-oxobutanoate + CoA = formate + propanoyl-CoA</td>\n",
       "      <td>b3114</td>\n",
       "      <td>147</td>\n",
       "    </tr>\n",
       "    <tr>\n",
       "      <th>4</th>\n",
       "      <td>pflDC</td>\n",
       "      <td>https://www.uniprot.org/uniprot/P32675</td>\n",
       "      <td>isobutyric_mutant</td>\n",
       "      <td>P32675</td>\n",
       "      <td>PFLC_ECOLI</td>\n",
       "      <td>pflC</td>\n",
       "      <td>yijM</td>\n",
       "      <td>Pyruvate formate-lyase 2-activating enzyme (EC...</td>\n",
       "      <td>[formate-C-acetyltransferase]-activating enzym...</td>\n",
       "      <td>CATALYTIC ACTIVITY: Reaction=glycyl-[formate C...</td>\n",
       "      <td>glycyl-[formate C-acetyltransferase] + reduced...</td>\n",
       "      <td>b3952</td>\n",
       "      <td>154</td>\n",
       "    </tr>\n",
       "    <tr>\n",
       "      <th>5</th>\n",
       "      <td>deoC</td>\n",
       "      <td>https://www.uniprot.org/uniprot/P0A6L0</td>\n",
       "      <td>isobutyric_mutant</td>\n",
       "      <td>P0A6L0</td>\n",
       "      <td>DEOC_ECOLI</td>\n",
       "      <td>deoC</td>\n",
       "      <td>dra thyR</td>\n",
       "      <td>Deoxyribose-phosphate aldolase (DERA) (EC 4.1....</td>\n",
       "      <td>deoxyribose-phosphate aldolase activity [GO:00...</td>\n",
       "      <td>CATALYTIC ACTIVITY: Reaction=2-deoxy-D-ribose ...</td>\n",
       "      <td>2-deoxy-D-ribose 5-phosphate = acetaldehyde + ...</td>\n",
       "      <td>b4381</td>\n",
       "      <td>678</td>\n",
       "    </tr>\n",
       "    <tr>\n",
       "      <th>6</th>\n",
       "      <td>ydbK</td>\n",
       "      <td>https://www.uniprot.org/uniprot/P52647</td>\n",
       "      <td>isobutyric_mutant</td>\n",
       "      <td>P52647</td>\n",
       "      <td>NIFJ_ECOLI</td>\n",
       "      <td>ydbK</td>\n",
       "      <td>NaN</td>\n",
       "      <td>Probable pyruvate-flavodoxin oxidoreductase (E...</td>\n",
       "      <td>4 iron, 4 sulfur cluster binding [GO:0051539];...</td>\n",
       "      <td>CATALYTIC ACTIVITY: Reaction=CoA + 2 H(+) + ox...</td>\n",
       "      <td>CoA + 2 H(+) + oxidized [flavodoxin] + pyruvat...</td>\n",
       "      <td>b1378</td>\n",
       "      <td>1428</td>\n",
       "    </tr>\n",
       "    <tr>\n",
       "      <th>7</th>\n",
       "      <td>yqhD</td>\n",
       "      <td>https://www.uniprot.org/uniprot/Q46856</td>\n",
       "      <td>isobutyric_mutant</td>\n",
       "      <td>Q46856</td>\n",
       "      <td>YQHD_ECOLI</td>\n",
       "      <td>yqhD</td>\n",
       "      <td>NaN</td>\n",
       "      <td>Alcohol dehydrogenase YqhD (EC 1.1.1.-)</td>\n",
       "      <td>alcohol dehydrogenase (NADP+) activity [GO:000...</td>\n",
       "      <td>CATALYTIC ACTIVITY: Reaction=a primary alcohol...</td>\n",
       "      <td>a primary alcohol + NADP(+) = an aldehyde + H(...</td>\n",
       "      <td>b3011</td>\n",
       "      <td>77</td>\n",
       "    </tr>\n",
       "    <tr>\n",
       "      <th>8</th>\n",
       "      <td>araB</td>\n",
       "      <td>https://www.uniprot.org/uniprot/P08204</td>\n",
       "      <td>isobutyric_mutant</td>\n",
       "      <td>P08204</td>\n",
       "      <td>ARAB_ECOLI</td>\n",
       "      <td>araB</td>\n",
       "      <td>NaN</td>\n",
       "      <td>Ribulokinase (EC 2.7.1.16)</td>\n",
       "      <td>ATP binding [GO:0005524]; phosphotransferase a...</td>\n",
       "      <td>CATALYTIC ACTIVITY: Reaction=ATP + D-ribulose ...</td>\n",
       "      <td>ATP + D-ribulose = ADP + D-ribulose 5-phosphat...</td>\n",
       "      <td>b0063</td>\n",
       "      <td>131</td>\n",
       "    </tr>\n",
       "    <tr>\n",
       "      <th>9</th>\n",
       "      <td>araA</td>\n",
       "      <td>https://www.uniprot.org/uniprot/P08202</td>\n",
       "      <td>isobutyric_mutant</td>\n",
       "      <td>P08202</td>\n",
       "      <td>ARAA_ECOLI</td>\n",
       "      <td>araA</td>\n",
       "      <td>NaN</td>\n",
       "      <td>L-arabinose isomerase (EC 5.3.1.4)</td>\n",
       "      <td>L-arabinose isomerase activity [GO:0008733]; m...</td>\n",
       "      <td>CATALYTIC ACTIVITY: Reaction=L-arabinose = L-r...</td>\n",
       "      <td>L-arabinose = L-ribulose</td>\n",
       "      <td>b0062</td>\n",
       "      <td>525</td>\n",
       "    </tr>\n",
       "  </tbody>\n",
       "</table>\n",
       "</div>"
      ],
      "text/plain": [
       "    gene                                  uniprot             strain   Entry  \\\n",
       "0   pflB   https://www.uniprot.org/uniprot/P09373  isobutyric_mutant  P09373   \n",
       "2   poxB   https://www.uniprot.org/uniprot/P07003  isobutyric_mutant  P07003   \n",
       "3   tdcE   https://www.uniprot.org/uniprot/P42632  isobutyric_mutant  P42632   \n",
       "4  pflDC   https://www.uniprot.org/uniprot/P32675  isobutyric_mutant  P32675   \n",
       "5   deoC   https://www.uniprot.org/uniprot/P0A6L0  isobutyric_mutant  P0A6L0   \n",
       "6   ydbK   https://www.uniprot.org/uniprot/P52647  isobutyric_mutant  P52647   \n",
       "7   yqhD   https://www.uniprot.org/uniprot/Q46856  isobutyric_mutant  Q46856   \n",
       "8   araB   https://www.uniprot.org/uniprot/P08204  isobutyric_mutant  P08204   \n",
       "9   araA   https://www.uniprot.org/uniprot/P08202  isobutyric_mutant  P08202   \n",
       "\n",
       "   Entry name Gene names  (primary ) Gene names  (synonym )  \\\n",
       "0  PFLB_ECOLI                   pflB                    pfl   \n",
       "2  POXB_ECOLI                   poxB                    NaN   \n",
       "3  TDCE_ECOLI                   tdcE                   yhaS   \n",
       "4  PFLC_ECOLI                   pflC                   yijM   \n",
       "5  DEOC_ECOLI                   deoC               dra thyR   \n",
       "6  NIFJ_ECOLI                   ydbK                    NaN   \n",
       "7  YQHD_ECOLI                   yqhD                    NaN   \n",
       "8  ARAB_ECOLI                   araB                    NaN   \n",
       "9  ARAA_ECOLI                   araA                    NaN   \n",
       "\n",
       "                                       Protein names  \\\n",
       "0  Formate acetyltransferase 1 (EC 2.3.1.54) (Pyr...   \n",
       "2  Pyruvate dehydrogenase [ubiquinone] (EC 1.2.5....   \n",
       "3  PFL-like enzyme TdcE (Keto-acid formate acetyl...   \n",
       "4  Pyruvate formate-lyase 2-activating enzyme (EC...   \n",
       "5  Deoxyribose-phosphate aldolase (DERA) (EC 4.1....   \n",
       "6  Probable pyruvate-flavodoxin oxidoreductase (E...   \n",
       "7            Alcohol dehydrogenase YqhD (EC 1.1.1.-)   \n",
       "8                         Ribulokinase (EC 2.7.1.16)   \n",
       "9                 L-arabinose isomerase (EC 5.3.1.4)   \n",
       "\n",
       "                  Gene ontology (molecular function)  \\\n",
       "0  formate C-acetyltransferase activity [GO:0008861]   \n",
       "2  flavin adenine dinucleotide binding [GO:005066...   \n",
       "3  2-ketobutyrate formate-lyase activity [GO:0043...   \n",
       "4  [formate-C-acetyltransferase]-activating enzym...   \n",
       "5  deoxyribose-phosphate aldolase activity [GO:00...   \n",
       "6  4 iron, 4 sulfur cluster binding [GO:0051539];...   \n",
       "7  alcohol dehydrogenase (NADP+) activity [GO:000...   \n",
       "8  ATP binding [GO:0005524]; phosphotransferase a...   \n",
       "9  L-arabinose isomerase activity [GO:0008733]; m...   \n",
       "\n",
       "                                  Catalytic activity  \\\n",
       "0  CATALYTIC ACTIVITY: Reaction=acetyl-CoA + form...   \n",
       "2  CATALYTIC ACTIVITY: Reaction=a ubiquinone + H2...   \n",
       "3  CATALYTIC ACTIVITY: Reaction=2-oxobutanoate + ...   \n",
       "4  CATALYTIC ACTIVITY: Reaction=glycyl-[formate C...   \n",
       "5  CATALYTIC ACTIVITY: Reaction=2-deoxy-D-ribose ...   \n",
       "6  CATALYTIC ACTIVITY: Reaction=CoA + 2 H(+) + ox...   \n",
       "7  CATALYTIC ACTIVITY: Reaction=a primary alcohol...   \n",
       "8  CATALYTIC ACTIVITY: Reaction=ATP + D-ribulose ...   \n",
       "9  CATALYTIC ACTIVITY: Reaction=L-arabinose = L-r...   \n",
       "\n",
       "                                            Reaction id_bigg  iML1515_idx  \n",
       "0              acetyl-CoA + formate = CoA + pyruvate   b0903          162  \n",
       "2  a ubiquinone + H2O + pyruvate = a ubiquinol + ...   b0871          175  \n",
       "3     2-oxobutanoate + CoA = formate + propanoyl-CoA   b3114          147  \n",
       "4  glycyl-[formate C-acetyltransferase] + reduced...   b3952          154  \n",
       "5  2-deoxy-D-ribose 5-phosphate = acetaldehyde + ...   b4381          678  \n",
       "6  CoA + 2 H(+) + oxidized [flavodoxin] + pyruvat...   b1378         1428  \n",
       "7  a primary alcohol + NADP(+) = an aldehyde + H(...   b3011           77  \n",
       "8  ATP + D-ribulose = ADP + D-ribulose 5-phosphat...   b0063          131  \n",
       "9                           L-arabinose = L-ribulose   b0062          525  "
      ]
     },
     "execution_count": 15,
     "metadata": {},
     "output_type": "execute_result"
    }
   ],
   "source": [
    "# create list of genes to KO\n",
    "ko_list = pd.read_csv('data/df_isobutyric_knockouts.csv', index_col=0).dropna(subset = ['id_bigg'])\n",
    "ko_list.iML1515_idx = ko_list.iML1515_idx.astype(int)\n",
    "ko_list"
   ]
  },
  {
   "cell_type": "code",
   "execution_count": 16,
   "metadata": {},
   "outputs": [],
   "source": [
    "for i in ko_list.iML1515_idx:\n",
    "    mutant_isobutyric.genes[i].knock_out()"
   ]
  },
  {
   "cell_type": "code",
   "execution_count": 17,
   "metadata": {},
   "outputs": [
    {
     "name": "stdout",
     "output_type": "stream",
     "text": [
      "b0903\n",
      "model : PFL: coa_c + pyr_c --> accoa_c + for_c\n",
      "(0.0, 1000.0)\n",
      "model : OBTFL: 2obut_c + coa_c --> for_c + ppcoa_c\n",
      "(0.0, 1000.0)\n",
      "mutant : PFL\n",
      "(0, 0)\n",
      "mutant : OBTFL\n",
      "(0, 0)\n",
      "___________________________\n",
      "b0871\n",
      "model : POX: h2o_c + pyr_c + q8_c --> ac_c + co2_c + q8h2_c\n",
      "(0.0, 1000.0)\n",
      "mutant : POX\n",
      "(0, 0)\n",
      "___________________________\n",
      "b3114\n",
      "model : PFL: coa_c + pyr_c --> accoa_c + for_c\n",
      "(0.0, 1000.0)\n",
      "model : OBTFL: 2obut_c + coa_c --> for_c + ppcoa_c\n",
      "(0.0, 1000.0)\n",
      "mutant : PFL\n",
      "(0, 0)\n",
      "mutant : OBTFL\n",
      "(0, 0)\n",
      "___________________________\n",
      "b3952\n",
      "model : PFL: coa_c + pyr_c --> accoa_c + for_c\n",
      "(0.0, 1000.0)\n",
      "mutant : PFL\n",
      "(0, 0)\n",
      "___________________________\n",
      "b4381\n",
      "model : DRPA: 2dr5p_c --> acald_c + g3p_c\n",
      "(0.0, 1000.0)\n",
      "mutant : DRPA\n",
      "(0, 0)\n",
      "___________________________\n",
      "b1378\n",
      "model : POR5: coa_c + 2.0 flxso_c + pyr_c <=> accoa_c + co2_c + 2.0 flxr_c + h_c\n",
      "(-1000.0, 1000.0)\n",
      "mutant : POR5\n",
      "(0, 0)\n",
      "___________________________\n",
      "b3011\n",
      "model : 13PPDH2: 3hppnl_c + h_c + nadph_c <=> 13ppd_c + nadp_c\n",
      "(-1000.0, 1000.0)\n",
      "model : ALDD3y: h2o_c + nadp_c + ppal_c --> 2.0 h_c + nadph_c + ppa_c\n",
      "(0.0, 1000.0)\n",
      "model : ALDD2y: acald_c + h2o_c + nadp_c --> ac_c + 2.0 h_c + nadph_c\n",
      "(0.0, 1000.0)\n",
      "mutant : ALDD2y\n",
      "(0.0, 1000.0)\n",
      "mutant : 13PPDH2\n",
      "(0, 0)\n",
      "mutant : ALDD3y\n",
      "(0.0, 1000.0)\n",
      "___________________________\n",
      "b0063\n",
      "model : XYLK2: atp_c + xylu__L_c --> adp_c + h_c + xu5p__L_c\n",
      "(0.0, 1000.0)\n",
      "model : RBK_L1: atp_c + rbl__L_c --> adp_c + h_c + ru5p__L_c\n",
      "(0.0, 1000.0)\n",
      "model : XYLK: atp_c + xylu__D_c --> adp_c + h_c + xu5p__D_c\n",
      "(0.0, 1000.0)\n",
      "mutant : XYLK\n",
      "(0.0, 1000.0)\n",
      "mutant : XYLK2\n",
      "(0.0, 1000.0)\n",
      "mutant : RBK_L1\n",
      "(0, 0)\n",
      "___________________________\n",
      "b0062\n",
      "model : ARAI: arab__L_c <=> rbl__L_c\n",
      "(-1000.0, 1000.0)\n",
      "mutant : ARAI\n",
      "(0, 0)\n",
      "___________________________\n"
     ]
    }
   ],
   "source": [
    "for i in ko_list.iML1515_idx:\n",
    "    print(mutant_isobutyric.genes[i])\n",
    "    for x in model.genes[i].reactions:\n",
    "        print('model : '+str(x))\n",
    "        print(x.bounds)\n",
    "    for x in mutant_isobutyric.genes[i].reactions:\n",
    "        print('mutant : '+str(x.id))\n",
    "        print(x.bounds)\n",
    "    print(\"___________________________\")"
   ]
  },
  {
   "cell_type": "code",
   "execution_count": 18,
   "metadata": {},
   "outputs": [
    {
     "name": "stdout",
     "output_type": "stream",
     "text": [
      "CPU times: user 297 ms, sys: 15.6 ms, total: 312 ms\n",
      "Wall time: 360 ms\n"
     ]
    },
    {
     "data": {
      "text/plain": [
       "0.876907528466843"
      ]
     },
     "execution_count": 18,
     "metadata": {},
     "output_type": "execute_result"
    }
   ],
   "source": [
    "%time fba_knockout_isobutyric = fba(mutant_isobutyric)\n",
    "fba_knockout_isobutyric[mutant_isobutyric.reactions.BIOMASS_Ec_iML1515_core_75p37M]"
   ]
  },
  {
   "cell_type": "code",
   "execution_count": 19,
   "metadata": {},
   "outputs": [
    {
     "name": "stdout",
     "output_type": "stream",
     "text": [
      "Downloading Map from https://escher.github.io/1-0-0/6/maps/Escherichia%20coli/e_coli_core.Core%20metabolism.json\n"
     ]
    },
    {
     "data": {
      "application/vnd.jupyter.widget-view+json": {
       "model_id": "edb6ca760f9847419a3c568ccbacb9c1",
       "version_major": 2,
       "version_minor": 0
      },
      "text/plain": [
       "Builder(reaction_data={'CYTDK2': 0.0, 'XPPT': 0.0, 'HXPRT': 0.0, 'NDPK5': 0.0, 'SHK3Dr': 0.33420612034175473, …"
      ]
     },
     "metadata": {},
     "output_type": "display_data"
    }
   ],
   "source": [
    "builder = Builder(\n",
    "    map_name='e_coli_core.Core metabolism',\n",
    "    reaction_data=fba_knockout_isobutyric.fluxes,\n",
    ")\n",
    "builder"
   ]
  },
  {
   "cell_type": "markdown",
   "metadata": {},
   "source": [
    "# Compare"
   ]
  },
  {
   "cell_type": "code",
   "execution_count": 20,
   "metadata": {},
   "outputs": [
    {
     "name": "stdout",
     "output_type": "stream",
     "text": [
      "Downloading Map from https://escher.github.io/1-0-0/6/maps/Escherichia%20coli/e_coli_core.Core%20metabolism.json\n"
     ]
    },
    {
     "data": {
      "application/vnd.jupyter.widget-view+json": {
       "model_id": "2f1455760bdb45dc8993e5974c23a451",
       "version_major": 2,
       "version_minor": 0
      },
      "text/plain": [
       "Builder(reaction_data={'CYTDK2': 0.0, 'XPPT': 0.0, 'HXPRT': 0.0, 'NDPK5': -0.022947509112696166, 'SHK3Dr': 0.3…"
      ]
     },
     "metadata": {},
     "output_type": "display_data"
    }
   ],
   "source": [
    "builder = Builder(\n",
    "    map_name='e_coli_core.Core metabolism',\n",
    "    reaction_data=fba_result.fluxes,\n",
    ")\n",
    "builder"
   ]
  },
  {
   "cell_type": "code",
   "execution_count": 21,
   "metadata": {},
   "outputs": [
    {
     "name": "stdout",
     "output_type": "stream",
     "text": [
      "Downloading Map from https://escher.github.io/1-0-0/6/maps/Escherichia%20coli/e_coli_core.Core%20metabolism.json\n"
     ]
    },
    {
     "data": {
      "application/vnd.jupyter.widget-view+json": {
       "model_id": "c79ea0794b9a486e8e6810e6fea32e2a",
       "version_major": 2,
       "version_minor": 0
      },
      "text/plain": [
       "Builder(reaction_data={'CYTDK2': 0.0, 'XPPT': 0.0, 'HXPRT': 0.0, 'NDPK5': 0.0, 'SHK3Dr': 0.29636357795498514, …"
      ]
     },
     "metadata": {},
     "output_type": "display_data"
    }
   ],
   "source": [
    "builder = Builder(\n",
    "    map_name='e_coli_core.Core metabolism',\n",
    "    reaction_data=fba_knockout_xylitol.fluxes,\n",
    ")\n",
    "builder"
   ]
  },
  {
   "cell_type": "code",
   "execution_count": 22,
   "metadata": {},
   "outputs": [
    {
     "name": "stdout",
     "output_type": "stream",
     "text": [
      "Downloading Map from https://escher.github.io/1-0-0/6/maps/Escherichia%20coli/e_coli_core.Core%20metabolism.json\n"
     ]
    },
    {
     "data": {
      "application/vnd.jupyter.widget-view+json": {
       "model_id": "7e0272f70ebf4a83917f04a855c5e2c3",
       "version_major": 2,
       "version_minor": 0
      },
      "text/plain": [
       "Builder(reaction_data={'CYTDK2': 0.0, 'XPPT': 0.0, 'HXPRT': 0.0, 'NDPK5': 0.0, 'SHK3Dr': 0.33420612034175473, …"
      ]
     },
     "metadata": {},
     "output_type": "display_data"
    }
   ],
   "source": [
    "builder = Builder(\n",
    "    map_name='e_coli_core.Core metabolism',\n",
    "    reaction_data=fba_knockout_isobutyric.fluxes,\n",
    ")\n",
    "builder"
   ]
  },
  {
   "cell_type": "code",
   "execution_count": 23,
   "metadata": {},
   "outputs": [],
   "source": [
    "normal_flux = fba_result.fluxes.to_frame()\n",
    "normal_flux = normal_flux.rename(columns={'fluxes':'normal'})"
   ]
  },
  {
   "cell_type": "code",
   "execution_count": 24,
   "metadata": {},
   "outputs": [],
   "source": [
    "xylitol_flux = fba_knockout_xylitol.fluxes.to_frame()\n",
    "xylitol_flux = xylitol_flux.rename(columns={'fluxes':'xylitol'})"
   ]
  },
  {
   "cell_type": "code",
   "execution_count": 25,
   "metadata": {},
   "outputs": [],
   "source": [
    "isobutyric_flux = fba_knockout_isobutyric.fluxes.to_frame()\n",
    "isobutyric_flux = isobutyric_flux.rename(columns={'fluxes':'isobutyric'})"
   ]
  },
  {
   "cell_type": "code",
   "execution_count": 26,
   "metadata": {},
   "outputs": [
    {
     "data": {
      "text/html": [
       "<div>\n",
       "<style scoped>\n",
       "    .dataframe tbody tr th:only-of-type {\n",
       "        vertical-align: middle;\n",
       "    }\n",
       "\n",
       "    .dataframe tbody tr th {\n",
       "        vertical-align: top;\n",
       "    }\n",
       "\n",
       "    .dataframe thead th {\n",
       "        text-align: right;\n",
       "    }\n",
       "</style>\n",
       "<table border=\"1\" class=\"dataframe\">\n",
       "  <thead>\n",
       "    <tr style=\"text-align: right;\">\n",
       "      <th></th>\n",
       "      <th>normal</th>\n",
       "      <th>xylitol</th>\n",
       "      <th>isobutyric</th>\n",
       "    </tr>\n",
       "  </thead>\n",
       "  <tbody>\n",
       "    <tr>\n",
       "      <th>CYTDK2</th>\n",
       "      <td>0.000000</td>\n",
       "      <td>0.000000</td>\n",
       "      <td>0.000000</td>\n",
       "    </tr>\n",
       "    <tr>\n",
       "      <th>XPPT</th>\n",
       "      <td>0.000000</td>\n",
       "      <td>0.000000</td>\n",
       "      <td>0.000000</td>\n",
       "    </tr>\n",
       "    <tr>\n",
       "      <th>HXPRT</th>\n",
       "      <td>0.000000</td>\n",
       "      <td>0.000000</td>\n",
       "      <td>0.000000</td>\n",
       "    </tr>\n",
       "    <tr>\n",
       "      <th>NDPK5</th>\n",
       "      <td>-0.022948</td>\n",
       "      <td>0.000000</td>\n",
       "      <td>0.000000</td>\n",
       "    </tr>\n",
       "    <tr>\n",
       "      <th>SHK3Dr</th>\n",
       "      <td>0.334240</td>\n",
       "      <td>0.296364</td>\n",
       "      <td>0.334206</td>\n",
       "    </tr>\n",
       "    <tr>\n",
       "      <th>...</th>\n",
       "      <td>...</td>\n",
       "      <td>...</td>\n",
       "      <td>...</td>\n",
       "    </tr>\n",
       "    <tr>\n",
       "      <th>MPTS</th>\n",
       "      <td>0.000000</td>\n",
       "      <td>0.000000</td>\n",
       "      <td>0.000000</td>\n",
       "    </tr>\n",
       "    <tr>\n",
       "      <th>MOCOS</th>\n",
       "      <td>0.000000</td>\n",
       "      <td>0.000000</td>\n",
       "      <td>0.000000</td>\n",
       "    </tr>\n",
       "    <tr>\n",
       "      <th>BMOGDS2</th>\n",
       "      <td>0.000000</td>\n",
       "      <td>0.000000</td>\n",
       "      <td>0.000000</td>\n",
       "    </tr>\n",
       "    <tr>\n",
       "      <th>FESD2s</th>\n",
       "      <td>0.000000</td>\n",
       "      <td>0.000000</td>\n",
       "      <td>0.000000</td>\n",
       "    </tr>\n",
       "    <tr>\n",
       "      <th>OCTNLL</th>\n",
       "      <td>0.000000</td>\n",
       "      <td>0.000000</td>\n",
       "      <td>0.000000</td>\n",
       "    </tr>\n",
       "  </tbody>\n",
       "</table>\n",
       "<p>2712 rows × 3 columns</p>\n",
       "</div>"
      ],
      "text/plain": [
       "           normal   xylitol  isobutyric\n",
       "CYTDK2   0.000000  0.000000    0.000000\n",
       "XPPT     0.000000  0.000000    0.000000\n",
       "HXPRT    0.000000  0.000000    0.000000\n",
       "NDPK5   -0.022948  0.000000    0.000000\n",
       "SHK3Dr   0.334240  0.296364    0.334206\n",
       "...           ...       ...         ...\n",
       "MPTS     0.000000  0.000000    0.000000\n",
       "MOCOS    0.000000  0.000000    0.000000\n",
       "BMOGDS2  0.000000  0.000000    0.000000\n",
       "FESD2s   0.000000  0.000000    0.000000\n",
       "OCTNLL   0.000000  0.000000    0.000000\n",
       "\n",
       "[2712 rows x 3 columns]"
      ]
     },
     "execution_count": 26,
     "metadata": {},
     "output_type": "execute_result"
    }
   ],
   "source": [
    "result = normal_flux.join(xylitol_flux)\n",
    "result = result.join(isobutyric_flux)\n",
    "result"
   ]
  },
  {
   "cell_type": "code",
   "execution_count": 27,
   "metadata": {},
   "outputs": [
    {
     "name": "stderr",
     "output_type": "stream",
     "text": [
      "/home/matinnu/anaconda3/envs/lab_rotation_3/lib/python3.7/site-packages/ipykernel_launcher.py:3: SettingWithCopyWarning:\n",
      "\n",
      "\n",
      "A value is trying to be set on a copy of a slice from a DataFrame.\n",
      "Try using .loc[row_indexer,col_indexer] = value instead\n",
      "\n",
      "See the caveats in the documentation: https://pandas.pydata.org/pandas-docs/stable/user_guide/indexing.html#returning-a-view-versus-a-copy\n",
      "\n",
      "/home/matinnu/anaconda3/envs/lab_rotation_3/lib/python3.7/site-packages/ipykernel_launcher.py:4: SettingWithCopyWarning:\n",
      "\n",
      "\n",
      "A value is trying to be set on a copy of a slice from a DataFrame.\n",
      "Try using .loc[row_indexer,col_indexer] = value instead\n",
      "\n",
      "See the caveats in the documentation: https://pandas.pydata.org/pandas-docs/stable/user_guide/indexing.html#returning-a-view-versus-a-copy\n",
      "\n"
     ]
    },
    {
     "data": {
      "text/html": [
       "<div>\n",
       "<style scoped>\n",
       "    .dataframe tbody tr th:only-of-type {\n",
       "        vertical-align: middle;\n",
       "    }\n",
       "\n",
       "    .dataframe tbody tr th {\n",
       "        vertical-align: top;\n",
       "    }\n",
       "\n",
       "    .dataframe thead th {\n",
       "        text-align: right;\n",
       "    }\n",
       "</style>\n",
       "<table border=\"1\" class=\"dataframe\">\n",
       "  <thead>\n",
       "    <tr style=\"text-align: right;\">\n",
       "      <th></th>\n",
       "      <th>normal</th>\n",
       "      <th>xylitol</th>\n",
       "      <th>isobutyric</th>\n",
       "      <th>d_xylitol</th>\n",
       "      <th>d_isobutyric</th>\n",
       "    </tr>\n",
       "  </thead>\n",
       "  <tbody>\n",
       "    <tr>\n",
       "      <th>NDPK5</th>\n",
       "      <td>-0.022948</td>\n",
       "      <td>0.000000</td>\n",
       "      <td>0.000000</td>\n",
       "      <td>0.022948</td>\n",
       "      <td>2.294751e-02</td>\n",
       "    </tr>\n",
       "    <tr>\n",
       "      <th>SHK3Dr</th>\n",
       "      <td>0.334240</td>\n",
       "      <td>0.296364</td>\n",
       "      <td>0.334206</td>\n",
       "      <td>-0.037877</td>\n",
       "      <td>-3.418102e-05</td>\n",
       "    </tr>\n",
       "    <tr>\n",
       "      <th>NDPK8</th>\n",
       "      <td>0.000000</td>\n",
       "      <td>-0.020347</td>\n",
       "      <td>-0.022945</td>\n",
       "      <td>-0.020347</td>\n",
       "      <td>-2.294516e-02</td>\n",
       "    </tr>\n",
       "    <tr>\n",
       "      <th>DHORTS</th>\n",
       "      <td>-0.290106</td>\n",
       "      <td>-0.257231</td>\n",
       "      <td>-0.290077</td>\n",
       "      <td>0.032875</td>\n",
       "      <td>2.966767e-05</td>\n",
       "    </tr>\n",
       "    <tr>\n",
       "      <th>OMPDC</th>\n",
       "      <td>0.290106</td>\n",
       "      <td>0.257231</td>\n",
       "      <td>0.290077</td>\n",
       "      <td>-0.032875</td>\n",
       "      <td>-2.966767e-05</td>\n",
       "    </tr>\n",
       "    <tr>\n",
       "      <th>...</th>\n",
       "      <td>...</td>\n",
       "      <td>...</td>\n",
       "      <td>...</td>\n",
       "      <td>...</td>\n",
       "      <td>...</td>\n",
       "    </tr>\n",
       "    <tr>\n",
       "      <th>TYRL</th>\n",
       "      <td>0.000196</td>\n",
       "      <td>0.000173</td>\n",
       "      <td>0.000196</td>\n",
       "      <td>-0.000022</td>\n",
       "      <td>-1.999997e-08</td>\n",
       "    </tr>\n",
       "    <tr>\n",
       "      <th>THZPSN3</th>\n",
       "      <td>0.000196</td>\n",
       "      <td>0.000173</td>\n",
       "      <td>0.000196</td>\n",
       "      <td>-0.000022</td>\n",
       "      <td>-1.999997e-08</td>\n",
       "    </tr>\n",
       "    <tr>\n",
       "      <th>PAI2T</th>\n",
       "      <td>0.000393</td>\n",
       "      <td>0.000348</td>\n",
       "      <td>0.000393</td>\n",
       "      <td>-0.000045</td>\n",
       "      <td>-4.017931e-08</td>\n",
       "    </tr>\n",
       "    <tr>\n",
       "      <th>4HTHRK</th>\n",
       "      <td>0.000587</td>\n",
       "      <td>0.000520</td>\n",
       "      <td>0.000587</td>\n",
       "      <td>-0.000066</td>\n",
       "      <td>-5.999991e-08</td>\n",
       "    </tr>\n",
       "    <tr>\n",
       "      <th>BIOMASS_Ec_iML1515_core_75p37M</th>\n",
       "      <td>0.876997</td>\n",
       "      <td>0.777614</td>\n",
       "      <td>0.876908</td>\n",
       "      <td>-0.099383</td>\n",
       "      <td>-8.968596e-05</td>\n",
       "    </tr>\n",
       "  </tbody>\n",
       "</table>\n",
       "<p>461 rows × 5 columns</p>\n",
       "</div>"
      ],
      "text/plain": [
       "                                  normal   xylitol  isobutyric  d_xylitol  \\\n",
       "NDPK5                          -0.022948  0.000000    0.000000   0.022948   \n",
       "SHK3Dr                          0.334240  0.296364    0.334206  -0.037877   \n",
       "NDPK8                           0.000000 -0.020347   -0.022945  -0.020347   \n",
       "DHORTS                         -0.290106 -0.257231   -0.290077   0.032875   \n",
       "OMPDC                           0.290106  0.257231    0.290077  -0.032875   \n",
       "...                                  ...       ...         ...        ...   \n",
       "TYRL                            0.000196  0.000173    0.000196  -0.000022   \n",
       "THZPSN3                         0.000196  0.000173    0.000196  -0.000022   \n",
       "PAI2T                           0.000393  0.000348    0.000393  -0.000045   \n",
       "4HTHRK                          0.000587  0.000520    0.000587  -0.000066   \n",
       "BIOMASS_Ec_iML1515_core_75p37M  0.876997  0.777614    0.876908  -0.099383   \n",
       "\n",
       "                                d_isobutyric  \n",
       "NDPK5                           2.294751e-02  \n",
       "SHK3Dr                         -3.418102e-05  \n",
       "NDPK8                          -2.294516e-02  \n",
       "DHORTS                          2.966767e-05  \n",
       "OMPDC                          -2.966767e-05  \n",
       "...                                      ...  \n",
       "TYRL                           -1.999997e-08  \n",
       "THZPSN3                        -1.999997e-08  \n",
       "PAI2T                          -4.017931e-08  \n",
       "4HTHRK                         -5.999991e-08  \n",
       "BIOMASS_Ec_iML1515_core_75p37M -8.968596e-05  \n",
       "\n",
       "[461 rows x 5 columns]"
      ]
     },
     "execution_count": 27,
     "metadata": {},
     "output_type": "execute_result"
    }
   ],
   "source": [
    "flux_no_zeroes = (result != 0).any(axis=1)\n",
    "flux_no_zeroes = result.loc[flux_no_zeroes]\n",
    "flux_no_zeroes['d_xylitol'] = flux_no_zeroes['xylitol'] - flux_no_zeroes['normal']\n",
    "flux_no_zeroes['d_isobutyric'] = flux_no_zeroes['isobutyric'] - flux_no_zeroes['normal']\n",
    "flux_no_zeroes"
   ]
  },
  {
   "cell_type": "code",
   "execution_count": 28,
   "metadata": {},
   "outputs": [],
   "source": [
    "delta_flux = flux_no_zeroes.drop(columns=['normal','xylitol','isobutyric'])"
   ]
  },
  {
   "cell_type": "code",
   "execution_count": 29,
   "metadata": {},
   "outputs": [
    {
     "data": {
      "text/plain": [
       "<AxesSubplot:>"
      ]
     },
     "execution_count": 29,
     "metadata": {},
     "output_type": "execute_result"
    },
    {
     "data": {
      "image/png": "[encoded data removed]",
      "text/plain": [
       "<Figure size 432x288 with 1 Axes>"
      ]
     },
     "metadata": {
      "needs_background": "light"
     },
     "output_type": "display_data"
    }
   ],
   "source": [
    "delta_flux.plot()"
   ]
  },
  {
   "cell_type": "code",
   "execution_count": 30,
   "metadata": {},
   "outputs": [
    {
     "data": {
      "text/plain": [
       "CYTBDpp     52.839704\n",
       "NADH16pp    44.570045\n",
       "O2tpp        4.291298\n",
       "O2tex        4.291298\n",
       "EX_co2_e     4.079213\n",
       "AKGDH        2.043186\n",
       "MDH          1.939550\n",
       "FUM          1.939550\n",
       "CS           1.936330\n",
       "ICDHyr       1.936330\n",
       "ACONTb       1.936330\n",
       "ACONTa       1.936330\n",
       "PGI          1.626776\n",
       "PDH          1.621671\n",
       "EX_h2o_e     1.454784\n",
       "EX_nh4_e     1.073327\n",
       "DHAPT        1.018247\n",
       "F6PA         1.018247\n",
       "ENO          0.952028\n",
       "Htex         0.913170\n",
       "GLUDy        0.849856\n",
       "PPM          0.818017\n",
       "GAPD         0.781305\n",
       "PRPPS        0.725258\n",
       "ADK3         0.715788\n",
       "Name: d_xylitol, dtype: float64"
      ]
     },
     "execution_count": 30,
     "metadata": {},
     "output_type": "execute_result"
    }
   ],
   "source": [
    "delta_flux.d_xylitol.nlargest(25)"
   ]
  },
  {
   "cell_type": "code",
   "execution_count": 31,
   "metadata": {},
   "outputs": [
    {
     "data": {
      "text/plain": [
       "FBA         2.869230\n",
       "PFK         2.869230\n",
       "PYK2        2.099216\n",
       "ALATA_L     0.881387\n",
       "PPM         0.817950\n",
       "PRPPS       0.817866\n",
       "ADK1        0.817641\n",
       "TALA        0.630524\n",
       "PYK4        0.158723\n",
       "FLDR2       0.095368\n",
       "PDH         0.077758\n",
       "PGL         0.055753\n",
       "GND         0.055753\n",
       "G6PDH2r     0.055753\n",
       "RPE         0.037238\n",
       "ATPS4rpp    0.026737\n",
       "FRD3        0.025005\n",
       "NADH18pp    0.025005\n",
       "ADK3        0.023018\n",
       "NDPK5       0.022948\n",
       "PUNP3       0.022948\n",
       "DGK1        0.022948\n",
       "PUNP2       0.022945\n",
       "NTD6        0.022945\n",
       "ADNK1       0.022945\n",
       "Name: d_isobutyric, dtype: float64"
      ]
     },
     "execution_count": 31,
     "metadata": {},
     "output_type": "execute_result"
    }
   ],
   "source": [
    "delta_flux.d_isobutyric.nlargest(25)"
   ]
  },
  {
   "cell_type": "code",
   "execution_count": 32,
   "metadata": {},
   "outputs": [],
   "source": [
    "import seaborn as sns\n",
    "import matplotlib.pyplot as plt"
   ]
  },
  {
   "cell_type": "code",
   "execution_count": 33,
   "metadata": {},
   "outputs": [
    {
     "data": {
      "text/plain": [
       "<AxesSubplot:>"
      ]
     },
     "execution_count": 33,
     "metadata": {},
     "output_type": "execute_result"
    },
    {
     "data": {
      "image/png": "[encoded data removed]",
      "text/plain": [
       "<Figure size 432x288 with 2 Axes>"
      ]
     },
     "metadata": {
      "needs_background": "light"
     },
     "output_type": "display_data"
    }
   ],
   "source": [
    "sns.heatmap(delta_flux)"
   ]
  },
  {
   "cell_type": "code",
   "execution_count": null,
   "metadata": {},
   "outputs": [],
   "source": []
  }
 ],
 "metadata": {
  "kernelspec": {
   "display_name": "Python 3",
   "language": "python",
   "name": "python3"
  },
  "language_info": {
   "codemirror_mode": {
    "name": "ipython",
    "version": 3
   },
   "file_extension": ".py",
   "mimetype": "text/x-python",
   "name": "python",
   "nbconvert_exporter": "python",
   "pygments_lexer": "ipython3",
   "version": "3.7.8"
  }
 },
 "nbformat": 4,
 "nbformat_minor": 4
}
