{
 "cells": [
  {
   "cell_type": "markdown",
   "metadata": {},
   "source": [
    "#### _Matin's Lab Rotation 3 - BCFO_ | [NEXT](03_community_dFBA_growth_objective) | [PREVIOUS](01-0_simulation_xylitol_strain.ipynb)\n",
    "# 03. Simulation of the Xylitol Producing Strain\n",
    "In this section, we would like to see if the model can:\n",
    "* Uptake Carbon: Glucose and Xylose\n",
    "* Grow: Biomass & ATP\n",
    "* Produce: Acetate & Xylitol\n",
    "\n",
    "## Load Library"
   ]
  },
  {
   "cell_type": "code",
   "execution_count": 1,
   "metadata": {},
   "outputs": [
    {
     "name": "stderr",
     "output_type": "stream",
     "text": [
      "/home/matinnu/anaconda3/envs/lab_rotation_3/lib/python3.7/site-packages/sympy/__init__.py:676: SymPyDeprecationWarning: \n",
      "\n",
      "importing sympy.core.singleton with 'from sympy import *' has been\n",
      "deprecated since SymPy 1.6. Use import sympy.core.singleton instead.\n",
      "See https://github.com/sympy/sympy/issues/18245 for more info.\n",
      "\n",
      "  deprecated_since_version=\"1.6\").warn()\n"
     ]
    }
   ],
   "source": [
    "from cameo import load_model\n",
    "from cameo import fba\n",
    "from escher import Builder\n",
    "import pandas as pd\n",
    "import cobra"
   ]
  },
  {
   "cell_type": "code",
   "execution_count": 2,
   "metadata": {},
   "outputs": [],
   "source": [
    "def simulate_model(experiment_id, model, objective, target, metabolite):\n",
    "    model.objective = objective\n",
    "    solution = fba(model)\n",
    "    f_data = solution.fluxes\n",
    "    f_data = f_data.rename(experiment_id)\n",
    "    solution_result = []\n",
    "    for i in target:\n",
    "        flux = solution.fluxes.get(i)\n",
    "        solution_result.append(flux)\n",
    "    data = [experiment_id] + solution_result\n",
    "    #print(data)\n",
    "    df_target = pd.DataFrame(columns=[[\"Model\"]+target], data=[data])\n",
    "    print(\"experiment:\", experiment_id, \"| evaluate compound:\", model.metabolites.get_by_id(metabolite).summary())\n",
    "    return df_target, f_data\n",
    "\n",
    "def run_series_simulation(experiment, model, mutant, target, metabolite):\n",
    "    solution_fluxes = pd.DataFrame()\n",
    "    df = pd.DataFrame()\n",
    "    for i in experiment.index:\n",
    "        experiment_id = experiment.loc[i, \"experiment_id\"]\n",
    "        if experiment.loc[i, \"model_id\"] != \"model\":\n",
    "            m = mutant\n",
    "        else:\n",
    "            m = model\n",
    "        objective = experiment.loc[i, \"objective\"]\n",
    "        data, sol = simulate_model(experiment_id, m, objective, target, metabolite)\n",
    "        solution_fluxes = solution_fluxes.append(sol)\n",
    "        df = df.append(data)\n",
    "        print(\"****************************************\", \"\\n\")\n",
    "    return df, solution_fluxes\n",
    "\n",
    "def visualize_flux(model, objective, map_data='map/iJO1366.Central metabolism_rotation3.json'):\n",
    "    model.objective = objective\n",
    "    flux = fba(model).fluxes\n",
    "    builder = Builder(\n",
    "        map_json = map_data,\n",
    "        reaction_data = flux\n",
    "    )\n",
    "    return builder"
   ]
  },
  {
   "cell_type": "markdown",
   "metadata": {},
   "source": [
    "## Load Model"
   ]
  },
  {
   "cell_type": "code",
   "execution_count": 3,
   "metadata": {},
   "outputs": [
    {
     "name": "stdout",
     "output_type": "stream",
     "text": [
      "Using license file /home/matinnu/gurobi.lic\n",
      "Academic license - for non-commercial use only\n"
     ]
    },
    {
     "data": {
      "text/html": [
       "\n",
       "        <table>\n",
       "            <tr>\n",
       "                <td><strong>Name</strong></td>\n",
       "                <td>iML1515</td>\n",
       "            </tr><tr>\n",
       "                <td><strong>Memory address</strong></td>\n",
       "                <td>0x07f6d11840b50</td>\n",
       "            </tr><tr>\n",
       "                <td><strong>Number of metabolites</strong></td>\n",
       "                <td>1877</td>\n",
       "            </tr><tr>\n",
       "                <td><strong>Number of reactions</strong></td>\n",
       "                <td>2712</td>\n",
       "            </tr><tr>\n",
       "                <td><strong>Number of groups</strong></td>\n",
       "                <td>0</td>\n",
       "            </tr><tr>\n",
       "                <td><strong>Objective expression</strong></td>\n",
       "                <td>0.0 + 1.0*BIOMASS_Ec_iML1515_core_75p37M - 1.0*BIOMASS_Ec_iML1515_core_75p37M_reverse_35685</td>\n",
       "            </tr><tr>\n",
       "                <td><strong>Compartments</strong></td>\n",
       "                <td>cytosol, extracellular space, periplasm</td>\n",
       "            </tr>\n",
       "          </table>"
      ],
      "text/plain": [
       "<Model iML1515 at 0x7f6d11840b50>"
      ]
     },
     "execution_count": 3,
     "metadata": {},
     "output_type": "execute_result"
    }
   ],
   "source": [
    "# WT for comparison\n",
    "model1 = load_model('iML1515')\n",
    "model1.solver = 'gurobi'\n",
    "model1"
   ]
  },
  {
   "cell_type": "code",
   "execution_count": 4,
   "metadata": {},
   "outputs": [
    {
     "data": {
      "text/html": [
       "\n",
       "        <table>\n",
       "            <tr>\n",
       "                <td><strong>Name</strong></td>\n",
       "                <td>iML1515_iso_obj</td>\n",
       "            </tr><tr>\n",
       "                <td><strong>Memory address</strong></td>\n",
       "                <td>0x07f6d124841d0</td>\n",
       "            </tr><tr>\n",
       "                <td><strong>Number of metabolites</strong></td>\n",
       "                <td>1881</td>\n",
       "            </tr><tr>\n",
       "                <td><strong>Number of reactions</strong></td>\n",
       "                <td>2716</td>\n",
       "            </tr><tr>\n",
       "                <td><strong>Number of groups</strong></td>\n",
       "                <td>0</td>\n",
       "            </tr><tr>\n",
       "                <td><strong>Objective expression</strong></td>\n",
       "                <td>0.0 + 1.0*BIOMASS_Ec_iML1515_core_75p37M - 1.0*BIOMASS_Ec_iML1515_core_75p37M_reverse_35685</td>\n",
       "            </tr><tr>\n",
       "                <td><strong>Compartments</strong></td>\n",
       "                <td>cytosol, extracellular space, periplasm</td>\n",
       "            </tr>\n",
       "          </table>"
      ],
      "text/plain": [
       "<Model iML1515_iso_obj at 0x7f6d124841d0>"
      ]
     },
     "execution_count": 4,
     "metadata": {},
     "output_type": "execute_result"
    }
   ],
   "source": [
    "# load mutant\n",
    "mutant = load_model('result/iML1515_isobutyric_strain.xml')\n",
    "mutant.solver = 'gurobi'\n",
    "mutant"
   ]
  },
  {
   "cell_type": "markdown",
   "metadata": {},
   "source": [
    "## Define Media: Glucose & Xylose"
   ]
  },
  {
   "cell_type": "code",
   "execution_count": 16,
   "metadata": {},
   "outputs": [],
   "source": [
    "# define media composition\n",
    "media_components = [[\"EX_xyl__D_e\", 75],\n",
    "                    [\"EX_glc__D_e\", 75],\n",
    "                    [\"EX_ac_e\", 75],\n",
    "                    [\"EX_o2_e\", 1000]\n",
    "                   ]\n",
    "\n",
    "# change the media in the model\n",
    "medium = model1.medium\n",
    "for i in media_components:\n",
    "    medium[i[0]] = i[1]\n",
    "    model1.medium = medium\n",
    "#print(model.medium)\n",
    "\n",
    "# change the media in the mutant\n",
    "medium = mutant.medium\n",
    "for i in media_components:\n",
    "    medium[i[0]] = i[1]\n",
    "    mutant.medium = medium\n",
    "#print(mutant.medium)"
   ]
  },
  {
   "cell_type": "markdown",
   "metadata": {},
   "source": [
    "# WT Grow on Glu & Xyl"
   ]
  },
  {
   "cell_type": "markdown",
   "metadata": {},
   "source": [
    "## WT Biomass Objective"
   ]
  },
  {
   "cell_type": "code",
   "execution_count": 17,
   "metadata": {},
   "outputs": [
    {
     "data": {
      "application/vnd.jupyter.widget-view+json": {
       "model_id": "f0a38fcc11b544e7bd981e0b5c84b5ae",
       "version_major": 2,
       "version_minor": 0
      },
      "text/plain": [
       "Builder(reaction_data={'CYTDK2': 0.0, 'XPPT': 0.0, 'HXPRT': 0.0, 'NDPK5': 0.0, 'SHK3Dr': 5.056570408279506, 'N…"
      ]
     },
     "metadata": {},
     "output_type": "display_data"
    }
   ],
   "source": [
    "visualize_flux(model1, \"BIOMASS_Ec_iML1515_core_75p37M\")"
   ]
  },
  {
   "cell_type": "markdown",
   "metadata": {},
   "source": [
    "## WT under Anaerobic Condition"
   ]
  },
  {
   "cell_type": "code",
   "execution_count": 18,
   "metadata": {},
   "outputs": [
    {
     "data": {
      "application/vnd.jupyter.widget-view+json": {
       "model_id": "e9bb5f3988814661b045bf588f604efc",
       "version_major": 2,
       "version_minor": 0
      },
      "text/plain": [
       "Builder(reaction_data={'CYTDK2': 0.0, 'XPPT': 0.0, 'HXPRT': 0.0, 'NDPK5': 0.0, 'SHK3Dr': 1.053008630690547, 'N…"
      ]
     },
     "metadata": {},
     "output_type": "display_data"
    }
   ],
   "source": [
    "media_components = [[\"EX_o2_e\", 0]]\n",
    "medium = model1.medium\n",
    "for i in media_components:\n",
    "    medium[i[0]] = i[1]\n",
    "    model1.medium = medium\n",
    "visualize_flux(model1, \"BIOMASS_Ec_iML1515_core_75p37M\")"
   ]
  },
  {
   "cell_type": "markdown",
   "metadata": {},
   "source": [
    "# Mutant Growth on Glu & Xyl\n",
    "## Mt Growth Objective"
   ]
  },
  {
   "cell_type": "code",
   "execution_count": 19,
   "metadata": {},
   "outputs": [
    {
     "data": {
      "application/vnd.jupyter.widget-view+json": {
       "model_id": "23175582bdef4d08ac4d2a310d8a3881",
       "version_major": 2,
       "version_minor": 0
      },
      "text/plain": [
       "Builder(reaction_data={'CYTDK2': 0.0, 'XPPT': 0.0, 'HXPRT': 0.0, 'NDPK5': 0.2317559358800193, 'SHK3Dr': 3.2692…"
      ]
     },
     "metadata": {},
     "output_type": "display_data"
    }
   ],
   "source": [
    "visualize_flux(mutant, \"BIOMASS_Ec_iML1515_core_75p37M\")"
   ]
  },
  {
   "cell_type": "markdown",
   "metadata": {},
   "source": [
    "## Mt Xylitol Objective"
   ]
  },
  {
   "cell_type": "code",
   "execution_count": 29,
   "metadata": {},
   "outputs": [
    {
     "data": {
      "application/vnd.jupyter.widget-view+json": {
       "model_id": "c0cb75537c7542759525294851f4574e",
       "version_major": 2,
       "version_minor": 0
      },
      "text/plain": [
       "Builder(reaction_data={'CYTDK2': 0.0, 'XPPT': 0.0, 'HXPRT': 0.0, 'NDPK5': 0.0, 'SHK3Dr': 1.972716780363308, 'N…"
      ]
     },
     "metadata": {},
     "output_type": "display_data"
    }
   ],
   "source": [
    "reaction_1 = mutant.reactions.get_by_id('BIOMASS_Ec_iML1515_core_75p37M')\n",
    "#reaction_1 = mutant.reactions.get_by_id('ATPM')\n",
    "reaction_2 = mutant.reactions.get_by_id('EX_isobuta_e')\n",
    "\n",
    "new_objective = {reaction_1: 0.93, reaction_2:0.07}\n",
    "visualize_flux(mutant, new_objective)"
   ]
  },
  {
   "cell_type": "code",
   "execution_count": 21,
   "metadata": {},
   "outputs": [
    {
     "data": {
      "text/html": [
       "<h3>Objective</h3><p>0.98 BIOMASS_Ec_iML1515_core_75p37M + 0.02 EX_isobuta_e = 8.406589079558035</p><h4>Uptake</h4><table border=\"1\" class=\"dataframe\">\n",
       "  <thead>\n",
       "    <tr style=\"text-align: right;\">\n",
       "      <th>Metabolite</th>\n",
       "      <th>Reaction</th>\n",
       "      <th>Flux</th>\n",
       "      <th>C-Number</th>\n",
       "      <th>C-Flux</th>\n",
       "    </tr>\n",
       "  </thead>\n",
       "  <tbody>\n",
       "    <tr>\n",
       "      <td>ac_e</td>\n",
       "      <td>EX_ac_e</td>\n",
       "      <td>75</td>\n",
       "      <td>2</td>\n",
       "      <td>25.00%</td>\n",
       "    </tr>\n",
       "    <tr>\n",
       "      <td>ca2_e</td>\n",
       "      <td>EX_ca2_e</td>\n",
       "      <td>0.04465</td>\n",
       "      <td>0</td>\n",
       "      <td>0.00%</td>\n",
       "    </tr>\n",
       "    <tr>\n",
       "      <td>cl_e</td>\n",
       "      <td>EX_cl_e</td>\n",
       "      <td>0.04465</td>\n",
       "      <td>0</td>\n",
       "      <td>0.00%</td>\n",
       "    </tr>\n",
       "    <tr>\n",
       "      <td>cobalt2_e</td>\n",
       "      <td>EX_cobalt2_e</td>\n",
       "      <td>0.0002145</td>\n",
       "      <td>0</td>\n",
       "      <td>0.00%</td>\n",
       "    </tr>\n",
       "    <tr>\n",
       "      <td>cu2_e</td>\n",
       "      <td>EX_cu2_e</td>\n",
       "      <td>0.006082</td>\n",
       "      <td>0</td>\n",
       "      <td>0.00%</td>\n",
       "    </tr>\n",
       "    <tr>\n",
       "      <td>fe2_e</td>\n",
       "      <td>EX_fe2_e</td>\n",
       "      <td>0.1378</td>\n",
       "      <td>0</td>\n",
       "      <td>0.00%</td>\n",
       "    </tr>\n",
       "    <tr>\n",
       "      <td>glc__D_e</td>\n",
       "      <td>EX_glc__D_e</td>\n",
       "      <td>75</td>\n",
       "      <td>6</td>\n",
       "      <td>75.00%</td>\n",
       "    </tr>\n",
       "    <tr>\n",
       "      <td>k_e</td>\n",
       "      <td>EX_k_e</td>\n",
       "      <td>1.674</td>\n",
       "      <td>0</td>\n",
       "      <td>0.00%</td>\n",
       "    </tr>\n",
       "    <tr>\n",
       "      <td>mg2_e</td>\n",
       "      <td>EX_mg2_e</td>\n",
       "      <td>0.07442</td>\n",
       "      <td>0</td>\n",
       "      <td>0.00%</td>\n",
       "    </tr>\n",
       "    <tr>\n",
       "      <td>mn2_e</td>\n",
       "      <td>EX_mn2_e</td>\n",
       "      <td>0.005928</td>\n",
       "      <td>0</td>\n",
       "      <td>0.00%</td>\n",
       "    </tr>\n",
       "    <tr>\n",
       "      <td>mobd_e</td>\n",
       "      <td>EX_mobd_e</td>\n",
       "      <td>6.005E-05</td>\n",
       "      <td>0</td>\n",
       "      <td>0.00%</td>\n",
       "    </tr>\n",
       "    <tr>\n",
       "      <td>nh4_e</td>\n",
       "      <td>EX_nh4_e</td>\n",
       "      <td>92.64</td>\n",
       "      <td>0</td>\n",
       "      <td>0.00%</td>\n",
       "    </tr>\n",
       "    <tr>\n",
       "      <td>ni2_e</td>\n",
       "      <td>EX_ni2_e</td>\n",
       "      <td>0.002771</td>\n",
       "      <td>0</td>\n",
       "      <td>0.00%</td>\n",
       "    </tr>\n",
       "    <tr>\n",
       "      <td>o2_e</td>\n",
       "      <td>EX_o2_e</td>\n",
       "      <td>229.6</td>\n",
       "      <td>0</td>\n",
       "      <td>0.00%</td>\n",
       "    </tr>\n",
       "    <tr>\n",
       "      <td>pi_e</td>\n",
       "      <td>EX_pi_e</td>\n",
       "      <td>8.275</td>\n",
       "      <td>0</td>\n",
       "      <td>0.00%</td>\n",
       "    </tr>\n",
       "    <tr>\n",
       "      <td>so4_e</td>\n",
       "      <td>EX_so4_e</td>\n",
       "      <td>2.16</td>\n",
       "      <td>0</td>\n",
       "      <td>0.00%</td>\n",
       "    </tr>\n",
       "    <tr>\n",
       "      <td>zn2_e</td>\n",
       "      <td>EX_zn2_e</td>\n",
       "      <td>0.002925</td>\n",
       "      <td>0</td>\n",
       "      <td>0.00%</td>\n",
       "    </tr>\n",
       "  </tbody>\n",
       "</table><h4>Secretion</h4><table border=\"1\" class=\"dataframe\">\n",
       "  <thead>\n",
       "    <tr style=\"text-align: right;\">\n",
       "      <th>Metabolite</th>\n",
       "      <th>Reaction</th>\n",
       "      <th>Flux</th>\n",
       "      <th>C-Number</th>\n",
       "      <th>C-Flux</th>\n",
       "    </tr>\n",
       "  </thead>\n",
       "  <tbody>\n",
       "    <tr>\n",
       "      <td>4crsol_c</td>\n",
       "      <td>DM_4crsol_c</td>\n",
       "      <td>-0.001913</td>\n",
       "      <td>7</td>\n",
       "      <td>0.01%</td>\n",
       "    </tr>\n",
       "    <tr>\n",
       "      <td>5drib_c</td>\n",
       "      <td>DM_5drib_c</td>\n",
       "      <td>-0.00193</td>\n",
       "      <td>5</td>\n",
       "      <td>0.00%</td>\n",
       "    </tr>\n",
       "    <tr>\n",
       "      <td>amob_c</td>\n",
       "      <td>DM_amob_c</td>\n",
       "      <td>-1.716E-05</td>\n",
       "      <td>15</td>\n",
       "      <td>0.00%</td>\n",
       "    </tr>\n",
       "    <tr>\n",
       "      <td>co2_e</td>\n",
       "      <td>EX_co2_e</td>\n",
       "      <td>-247.9</td>\n",
       "      <td>1</td>\n",
       "      <td>99.99%</td>\n",
       "    </tr>\n",
       "    <tr>\n",
       "      <td>h2o_e</td>\n",
       "      <td>EX_h2o_e</td>\n",
       "      <td>-474.4</td>\n",
       "      <td>0</td>\n",
       "      <td>0.00%</td>\n",
       "    </tr>\n",
       "    <tr>\n",
       "      <td>h_e</td>\n",
       "      <td>EX_h_e</td>\n",
       "      <td>-3.819</td>\n",
       "      <td>0</td>\n",
       "      <td>0.00%</td>\n",
       "    </tr>\n",
       "    <tr>\n",
       "      <td>meoh_e</td>\n",
       "      <td>EX_meoh_e</td>\n",
       "      <td>-1.716E-05</td>\n",
       "      <td>1</td>\n",
       "      <td>0.00%</td>\n",
       "    </tr>\n",
       "  </tbody>\n",
       "</table>"
      ],
      "text/plain": [
       "<cobra.summary.model_summary.ModelSummary at 0x7f6d12f252d0>"
      ]
     },
     "execution_count": 21,
     "metadata": {},
     "output_type": "execute_result"
    }
   ],
   "source": [
    "mutant.summary()"
   ]
  },
  {
   "cell_type": "code",
   "execution_count": 22,
   "metadata": {},
   "outputs": [
    {
     "data": {
      "text/html": [
       "<h3>ac_c</h3><p>C2H3O2</p><h4>Producing Reactions</h4><table border=\"1\" class=\"dataframe\">\n",
       "  <thead>\n",
       "    <tr style=\"text-align: right;\">\n",
       "      <th>Percent</th>\n",
       "      <th>Flux</th>\n",
       "      <th>Reaction</th>\n",
       "      <th>Definition</th>\n",
       "    </tr>\n",
       "  </thead>\n",
       "  <tbody>\n",
       "    <tr>\n",
       "      <td>3.17%</td>\n",
       "      <td>2.537</td>\n",
       "      <td>ACODA</td>\n",
       "      <td>acorn_c + h2o_c --&gt; ac_c + orn_c</td>\n",
       "    </tr>\n",
       "    <tr>\n",
       "      <td>93.70%</td>\n",
       "      <td>74.96</td>\n",
       "      <td>ACt2rpp</td>\n",
       "      <td>ac_p + h_p &lt;=&gt; ac_c + h_c</td>\n",
       "    </tr>\n",
       "    <tr>\n",
       "      <td>0.06%</td>\n",
       "      <td>0.04465</td>\n",
       "      <td>ACt4pp</td>\n",
       "      <td>ac_p + na1_p --&gt; ac_c + na1_c</td>\n",
       "    </tr>\n",
       "    <tr>\n",
       "      <td>2.65%</td>\n",
       "      <td>2.123</td>\n",
       "      <td>CYSS</td>\n",
       "      <td>acser_c + h2s_c --&gt; ac_c + cys__L_c + h_c</td>\n",
       "    </tr>\n",
       "    <tr>\n",
       "      <td>0.42%</td>\n",
       "      <td>0.3338</td>\n",
       "      <td>UHGADA</td>\n",
       "      <td>h2o_c + u3aga_c --&gt; ac_c + u3hga_c</td>\n",
       "    </tr>\n",
       "  </tbody>\n",
       "</table><h4>Consuming Reactions</h4><table border=\"1\" class=\"dataframe\">\n",
       "  <thead>\n",
       "    <tr style=\"text-align: right;\">\n",
       "      <th>Percent</th>\n",
       "      <th>Flux</th>\n",
       "      <th>Reaction</th>\n",
       "      <th>Definition</th>\n",
       "    </tr>\n",
       "  </thead>\n",
       "  <tbody>\n",
       "    <tr>\n",
       "      <td>100.00%</td>\n",
       "      <td>-79.99</td>\n",
       "      <td>ACKr</td>\n",
       "      <td>ac_c + atp_c &lt;=&gt; actp_c + adp_c</td>\n",
       "    </tr>\n",
       "  </tbody>\n",
       "</table>"
      ],
      "text/plain": [
       "<cobra.summary.metabolite_summary.MetaboliteSummary at 0x7f6d0f930e10>"
      ]
     },
     "execution_count": 22,
     "metadata": {},
     "output_type": "execute_result"
    }
   ],
   "source": [
    "mutant.id = mutant.id+\"_xy_strain_crispr_off\"\n",
    "cobra.io.write_sbml_model(mutant, \"result/model_for_consortia/iML1515_xylitol_strain_crispr_off.xml\")\n",
    "cobra.io.save_json_model(mutant, \"result/model_for_consortia/iML1515_xylitol_strain_crispr_off.json\")\n",
    "mutant.metabolites.ac_c.summary()"
   ]
  },
  {
   "cell_type": "code",
   "execution_count": 23,
   "metadata": {},
   "outputs": [
    {
     "ename": "NameError",
     "evalue": "name 'crispri' is not defined",
     "output_type": "error",
     "traceback": [
      "\u001b[0;31m---------------------------------------------------------------------------\u001b[0m",
      "\u001b[0;31mNameError\u001b[0m                                 Traceback (most recent call last)",
      "\u001b[0;32m<ipython-input-23-75e5fb94eddd>\u001b[0m in \u001b[0;36m<module>\u001b[0;34m()\u001b[0m\n\u001b[0;32m----> 1\u001b[0;31m \u001b[0mvisualize_flux\u001b[0m\u001b[0;34m(\u001b[0m\u001b[0mcrispri\u001b[0m\u001b[0;34m(\u001b[0m\u001b[0mmutant\u001b[0m\u001b[0;34m,\u001b[0m \u001b[0;34m\"on\"\u001b[0m\u001b[0;34m)\u001b[0m\u001b[0;34m,\u001b[0m \u001b[0mnew_objective\u001b[0m\u001b[0;34m)\u001b[0m\u001b[0;34m\u001b[0m\u001b[0;34m\u001b[0m\u001b[0m\n\u001b[0m",
      "\u001b[0;31mNameError\u001b[0m: name 'crispri' is not defined"
     ]
    }
   ],
   "source": [
    "visualize_flux(crispri(mutant, \"on\"), new_objective)"
   ]
  },
  {
   "cell_type": "code",
   "execution_count": null,
   "metadata": {},
   "outputs": [],
   "source": [
    "mutant.summary()"
   ]
  },
  {
   "cell_type": "code",
   "execution_count": null,
   "metadata": {},
   "outputs": [],
   "source": [
    "mutant.id = mutant.id+\"_xy_strain_crispr_on\"\n",
    "cobra.io.write_sbml_model(mutant, \"result/model_for_consortia/iML1515_xylitol_strain_crispr_on.xml\")\n",
    "cobra.io.save_json_model(mutant, \"result/model_for_consortia/iML1515_xylitol_strain_crispr_on.json\")\n",
    "mutant.metabolites.ac_c.summary()"
   ]
  }
 ],
 "metadata": {
  "kernelspec": {
   "display_name": "Python 3",
   "language": "python",
   "name": "python3"
  },
  "language_info": {
   "codemirror_mode": {
    "name": "ipython",
    "version": 3
   },
   "file_extension": ".py",
   "mimetype": "text/x-python",
   "name": "python",
   "nbconvert_exporter": "python",
   "pygments_lexer": "ipython3",
   "version": "3.7.8"
  }
 },
 "nbformat": 4,
 "nbformat_minor": 4
}
