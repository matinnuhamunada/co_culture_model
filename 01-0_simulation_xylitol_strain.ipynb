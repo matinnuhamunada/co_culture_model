{
 "cells": [
  {
   "cell_type": "markdown",
   "metadata": {},
   "source": [
    "#### _Matin's Lab Rotation 3 - BCFO_ | [NEXT](01-1_simulation_isobutyric_strain.ipynb) | [PREVIOUS](00-1_build_strain.ipynb)\n",
    "# 03. Simulation of the Xylitol Producing Strain\n",
    "\n",
    "## Load Library"
   ]
  },
  {
   "cell_type": "code",
   "execution_count": 1,
   "metadata": {},
   "outputs": [
    {
     "name": "stderr",
     "output_type": "stream",
     "text": [
      "/home/matinnu/anaconda3/envs/lab_rotation_3/lib/python3.7/site-packages/sympy/__init__.py:676: SymPyDeprecationWarning: \n",
      "\n",
      "importing sympy.core.singleton with 'from sympy import *' has been\n",
      "deprecated since SymPy 1.6. Use import sympy.core.singleton instead.\n",
      "See https://github.com/sympy/sympy/issues/18245 for more info.\n",
      "\n",
      "  deprecated_since_version=\"1.6\").warn()\n"
     ]
    }
   ],
   "source": [
    "from cameo import load_model\n",
    "from cameo import fba\n",
    "from escher import Builder\n",
    "import pandas as pd\n",
    "import cobra"
   ]
  },
  {
   "cell_type": "code",
   "execution_count": 2,
   "metadata": {},
   "outputs": [],
   "source": [
    "def simulate_model(experiment_id, model, objective, target, metabolite):\n",
    "    model.objective = objective\n",
    "    solution = fba(model)\n",
    "    f_data = solution.fluxes\n",
    "    f_data = f_data.rename(experiment_id)\n",
    "    solution_result = []\n",
    "    for i in target:\n",
    "        flux = solution.fluxes.get(i)\n",
    "        solution_result.append(flux)\n",
    "    data = [experiment_id] + solution_result\n",
    "    #print(data)\n",
    "    df_target = pd.DataFrame(columns=[[\"Model\"]+target], data=[data])\n",
    "    print(\"experiment:\", experiment_id, \"| evaluate compound:\", model.metabolites.get_by_id(metabolite).summary())\n",
    "    return df_target, f_data\n",
    "\n",
    "def run_series_simulation(experiment, model, mutant, target, metabolite):\n",
    "    solution_fluxes = pd.DataFrame()\n",
    "    df = pd.DataFrame()\n",
    "    for i in experiment.index:\n",
    "        experiment_id = experiment.loc[i, \"experiment_id\"]\n",
    "        if experiment.loc[i, \"model_id\"] != \"model\":\n",
    "            m = mutant\n",
    "        else:\n",
    "            m = model\n",
    "        objective = experiment.loc[i, \"objective\"]\n",
    "        data, sol = simulate_model(experiment_id, m, objective, target, metabolite)\n",
    "        solution_fluxes = solution_fluxes.append(sol)\n",
    "        df = df.append(data)\n",
    "        print(\"****************************************\", \"\\n\")\n",
    "    return df, solution_fluxes\n",
    "\n",
    "def visualize_flux(model, objective, map_data='map/iJO1366.Central metabolism_rotation3.json'):\n",
    "    model.objective = objective\n",
    "    flux = fba(model).fluxes\n",
    "    builder = Builder(\n",
    "        map_json = map_data,\n",
    "        reaction_data = flux\n",
    "    )\n",
    "    return flux, builder\n",
    "\n",
    "def crispri(mutant, status):\n",
    "    if status == \"on\":\n",
    "        mutant.reactions.get_by_id(\"CYTBDpp\").knock_out()\n",
    "    else:\n",
    "        mutant.reactions.get_by_id(\"CYTBDpp\").bounds = (0.0, 1000.0)\n",
    "    print(\"CYTBDpp: \"+str(mutant.reactions.get_by_id(\"CYTBDpp\").bounds))\n",
    "    return mutant"
   ]
  },
  {
   "cell_type": "markdown",
   "metadata": {},
   "source": [
    "## Load Model"
   ]
  },
  {
   "cell_type": "code",
   "execution_count": 3,
   "metadata": {},
   "outputs": [
    {
     "name": "stdout",
     "output_type": "stream",
     "text": [
      "Using license file /home/matinnu/gurobi.lic\n",
      "Academic license - for non-commercial use only\n"
     ]
    },
    {
     "data": {
      "text/html": [
       "\n",
       "        <table>\n",
       "            <tr>\n",
       "                <td><strong>Name</strong></td>\n",
       "                <td>iML1515</td>\n",
       "            </tr><tr>\n",
       "                <td><strong>Memory address</strong></td>\n",
       "                <td>0x07f830deb3c90</td>\n",
       "            </tr><tr>\n",
       "                <td><strong>Number of metabolites</strong></td>\n",
       "                <td>1877</td>\n",
       "            </tr><tr>\n",
       "                <td><strong>Number of reactions</strong></td>\n",
       "                <td>2712</td>\n",
       "            </tr><tr>\n",
       "                <td><strong>Number of groups</strong></td>\n",
       "                <td>0</td>\n",
       "            </tr><tr>\n",
       "                <td><strong>Objective expression</strong></td>\n",
       "                <td>0.0 + 1.0*BIOMASS_Ec_iML1515_core_75p37M - 1.0*BIOMASS_Ec_iML1515_core_75p37M_reverse_35685</td>\n",
       "            </tr><tr>\n",
       "                <td><strong>Compartments</strong></td>\n",
       "                <td>cytosol, extracellular space, periplasm</td>\n",
       "            </tr>\n",
       "          </table>"
      ],
      "text/plain": [
       "<Model iML1515 at 0x7f830deb3c90>"
      ]
     },
     "execution_count": 3,
     "metadata": {},
     "output_type": "execute_result"
    }
   ],
   "source": [
    "# WT for comparison\n",
    "model1 = load_model('iML1515')\n",
    "model1.solver = 'gurobi'\n",
    "model1"
   ]
  },
  {
   "cell_type": "code",
   "execution_count": 4,
   "metadata": {},
   "outputs": [
    {
     "data": {
      "text/html": [
       "\n",
       "        <table>\n",
       "            <tr>\n",
       "                <td><strong>Name</strong></td>\n",
       "                <td>iML1515_xy_obj</td>\n",
       "            </tr><tr>\n",
       "                <td><strong>Memory address</strong></td>\n",
       "                <td>0x07f830fd08f10</td>\n",
       "            </tr><tr>\n",
       "                <td><strong>Number of metabolites</strong></td>\n",
       "                <td>1880</td>\n",
       "            </tr><tr>\n",
       "                <td><strong>Number of reactions</strong></td>\n",
       "                <td>2715</td>\n",
       "            </tr><tr>\n",
       "                <td><strong>Number of groups</strong></td>\n",
       "                <td>0</td>\n",
       "            </tr><tr>\n",
       "                <td><strong>Objective expression</strong></td>\n",
       "                <td>0.0 + 0.7*BIOMASS_Ec_iML1515_core_75p37M - 0.7*BIOMASS_Ec_iML1515_core_75p37M_reverse_35685 + 0.0...</td>\n",
       "            </tr><tr>\n",
       "                <td><strong>Compartments</strong></td>\n",
       "                <td>cytosol, extracellular space, periplasm</td>\n",
       "            </tr>\n",
       "          </table>"
      ],
      "text/plain": [
       "<Model iML1515_xy_obj at 0x7f830fd08f10>"
      ]
     },
     "execution_count": 4,
     "metadata": {},
     "output_type": "execute_result"
    }
   ],
   "source": [
    "# load mutant\n",
    "mutant = load_model('result/iML1515_xylitol_strain.xml')\n",
    "mutant.solver = 'gurobi'\n",
    "mutant"
   ]
  },
  {
   "cell_type": "markdown",
   "metadata": {},
   "source": [
    "## Define Media: Glucose & Xylose"
   ]
  },
  {
   "cell_type": "code",
   "execution_count": 45,
   "metadata": {},
   "outputs": [],
   "source": [
    "# define media composition\n",
    "media_components = [[\"EX_xyl__D_e\", 75],\n",
    "                    [\"EX_glc__D_e\", 75],\n",
    "                    [\"EX_o2_e\", 1000]\n",
    "                   ]\n",
    "\n",
    "# change the media in the model\n",
    "medium = model1.medium\n",
    "for i in media_components:\n",
    "    medium[i[0]] = i[1]\n",
    "    model1.medium = medium\n",
    "#print(model.medium)\n",
    "\n",
    "# change the media in the mutant\n",
    "medium = mutant.medium\n",
    "for i in media_components:\n",
    "    medium[i[0]] = i[1]\n",
    "    mutant.medium = medium\n",
    "#print(mutant.medium)"
   ]
  },
  {
   "cell_type": "markdown",
   "metadata": {},
   "source": [
    "# WT Grow on Glu & Xyl"
   ]
  },
  {
   "cell_type": "markdown",
   "metadata": {},
   "source": [
    "## WT Biomass Objective"
   ]
  },
  {
   "cell_type": "code",
   "execution_count": 46,
   "metadata": {},
   "outputs": [
    {
     "data": {
      "application/vnd.jupyter.widget-view+json": {
       "model_id": "4f0bd65727f241efa17f71528ccde4ed",
       "version_major": 2,
       "version_minor": 0
      },
      "text/plain": [
       "Builder(reaction_data={'CYTDK2': 0.0, 'XPPT': 0.0, 'HXPRT': 0.0, 'NDPK5': 0.0, 'SHK3Dr': 4.694317150155134, 'N…"
      ]
     },
     "metadata": {},
     "output_type": "display_data"
    }
   ],
   "source": [
    "f1, b = visualize_flux(model1, \"BIOMASS_Ec_iML1515_core_75p37M\")\n",
    "b"
   ]
  },
  {
   "cell_type": "markdown",
   "metadata": {},
   "source": [
    "## WT under Anaerobic Condition"
   ]
  },
  {
   "cell_type": "code",
   "execution_count": 47,
   "metadata": {},
   "outputs": [
    {
     "data": {
      "application/vnd.jupyter.widget-view+json": {
       "model_id": "f6d84d23a54443b592086864e6310dd0",
       "version_major": 2,
       "version_minor": 0
      },
      "text/plain": [
       "Builder(reaction_data={'CYTDK2': 0.0, 'XPPT': 0.0, 'HXPRT': 0.0, 'NDPK5': 0.0, 'SHK3Dr': 1.0530086306905462, '…"
      ]
     },
     "metadata": {},
     "output_type": "display_data"
    }
   ],
   "source": [
    "media_components = [[\"EX_o2_e\", 0]]\n",
    "medium = model1.medium\n",
    "for i in media_components:\n",
    "    medium[i[0]] = i[1]\n",
    "    model1.medium = medium\n",
    "f2, b = visualize_flux(model1, \"BIOMASS_Ec_iML1515_core_75p37M\")\n",
    "b"
   ]
  },
  {
   "cell_type": "markdown",
   "metadata": {},
   "source": [
    "# Mutant Growth on Glu & Xyl\n",
    "## Mt Growth Objective"
   ]
  },
  {
   "cell_type": "code",
   "execution_count": 48,
   "metadata": {},
   "outputs": [
    {
     "name": "stdout",
     "output_type": "stream",
     "text": [
      "CYTBDpp: (0.0, 1000.0)\n"
     ]
    },
    {
     "data": {
      "application/vnd.jupyter.widget-view+json": {
       "model_id": "226ae3d8b49f4363919f020152395170",
       "version_major": 2,
       "version_minor": 0
      },
      "text/plain": [
       "Builder(reaction_data={'CYTDK2': 0.0, 'XPPT': 0.0, 'HXPRT': 0.0, 'NDPK5': 0.0, 'SHK3Dr': 2.299051496444827, 'N…"
      ]
     },
     "metadata": {},
     "output_type": "display_data"
    }
   ],
   "source": [
    "f3, b = visualize_flux(crispri(mutant, \"off\"), \"BIOMASS_Ec_iML1515_core_75p37M\")\n",
    "b"
   ]
  },
  {
   "cell_type": "code",
   "execution_count": 49,
   "metadata": {},
   "outputs": [
    {
     "name": "stdout",
     "output_type": "stream",
     "text": [
      "CYTBDpp: (0, 0)\n"
     ]
    }
   ],
   "source": [
    "f4, b = visualize_flux(crispri(mutant, \"on\"), \"BIOMASS_Ec_iML1515_core_75p37M\")"
   ]
  },
  {
   "cell_type": "markdown",
   "metadata": {},
   "source": [
    "## Mt Xylitol Objective"
   ]
  },
  {
   "cell_type": "code",
   "execution_count": 50,
   "metadata": {},
   "outputs": [
    {
     "name": "stdout",
     "output_type": "stream",
     "text": [
      "CYTBDpp: (0.0, 1000.0)\n"
     ]
    },
    {
     "data": {
      "application/vnd.jupyter.widget-view+json": {
       "model_id": "6314bb5ba09344b1b19d58cc3acaa555",
       "version_major": 2,
       "version_minor": 0
      },
      "text/plain": [
       "Builder(reaction_data={'CYTDK2': 0.0, 'XPPT': 0.0, 'HXPRT': 0.0, 'NDPK5': 0.07397793330128391, 'SHK3Dr': 1.043…"
      ]
     },
     "metadata": {},
     "output_type": "display_data"
    }
   ],
   "source": [
    "f5, b = visualize_flux(crispri(mutant, \"off\"), \"EX_xylt_e\")\n",
    "b"
   ]
  },
  {
   "cell_type": "code",
   "execution_count": 51,
   "metadata": {},
   "outputs": [
    {
     "name": "stdout",
     "output_type": "stream",
     "text": [
      "CYTBDpp: (0, 0)\n"
     ]
    },
    {
     "data": {
      "application/vnd.jupyter.widget-view+json": {
       "model_id": "f0c0cb1de56d4c61a1b19b479b2c243b",
       "version_major": 2,
       "version_minor": 0
      },
      "text/plain": [
       "Builder(reaction_data={'CYTDK2': 0.0, 'XPPT': 0.0, 'HXPRT': 0.0, 'NDPK5': 0.07397793330128358, 'SHK3Dr': 1.043…"
      ]
     },
     "metadata": {},
     "output_type": "display_data"
    }
   ],
   "source": [
    "f6, b = visualize_flux(crispri(mutant, \"on\"), \"EX_xylt_e\")\n",
    "b"
   ]
  },
  {
   "cell_type": "markdown",
   "metadata": {},
   "source": [
    "## Mt Xylitol+Acetate Objective"
   ]
  },
  {
   "cell_type": "code",
   "execution_count": 52,
   "metadata": {},
   "outputs": [
    {
     "name": "stdout",
     "output_type": "stream",
     "text": [
      "CYTBDpp: (0.0, 1000.0)\n"
     ]
    },
    {
     "data": {
      "application/vnd.jupyter.widget-view+json": {
       "model_id": "d1ffae4246074e0a9858fbeb516787a4",
       "version_major": 2,
       "version_minor": 0
      },
      "text/plain": [
       "Builder(reaction_data={'CYTDK2': 0.0, 'XPPT': 0.0, 'HXPRT': 0.0, 'NDPK5': 0.0, 'SHK3Dr': 2.0743909927680764, '…"
      ]
     },
     "metadata": {},
     "output_type": "display_data"
    }
   ],
   "source": [
    "reaction_1 = mutant.reactions.get_by_id('BIOMASS_Ec_iML1515_core_75p37M')\n",
    "#reaction_1 = mutant.reactions.get_by_id('ATPM')\n",
    "reaction_2 = mutant.reactions.get_by_id('EX_xylt_e')\n",
    "reaction_3 = mutant.reactions.get_by_id('EX_ac_e')\n",
    "\n",
    "new_objective = {reaction_1: 0.7, reaction_2:0.29, reaction_3: 0.01}\n",
    "f7, b = visualize_flux(crispri(mutant, \"off\"), new_objective)\n",
    "b"
   ]
  },
  {
   "cell_type": "code",
   "execution_count": 53,
   "metadata": {},
   "outputs": [
    {
     "data": {
      "text/html": [
       "<h3>Objective</h3><p>0.01 EX_ac_e + 0.7 BIOMASS_Ec_iML1515_core_75p37M + 0.29 EX_xylt_e = 25.56002703863523</p><h4>Uptake</h4><table border=\"1\" class=\"dataframe\">\n",
       "  <thead>\n",
       "    <tr style=\"text-align: right;\">\n",
       "      <th>Metabolite</th>\n",
       "      <th>Reaction</th>\n",
       "      <th>Flux</th>\n",
       "      <th>C-Number</th>\n",
       "      <th>C-Flux</th>\n",
       "    </tr>\n",
       "  </thead>\n",
       "  <tbody>\n",
       "    <tr>\n",
       "      <td>ca2_e</td>\n",
       "      <td>EX_ca2_e</td>\n",
       "      <td>0.02833</td>\n",
       "      <td>0</td>\n",
       "      <td>0.00%</td>\n",
       "    </tr>\n",
       "    <tr>\n",
       "      <td>cl_e</td>\n",
       "      <td>EX_cl_e</td>\n",
       "      <td>0.02833</td>\n",
       "      <td>0</td>\n",
       "      <td>0.00%</td>\n",
       "    </tr>\n",
       "    <tr>\n",
       "      <td>cobalt2_e</td>\n",
       "      <td>EX_cobalt2_e</td>\n",
       "      <td>0.0001361</td>\n",
       "      <td>0</td>\n",
       "      <td>0.00%</td>\n",
       "    </tr>\n",
       "    <tr>\n",
       "      <td>cu2_e</td>\n",
       "      <td>EX_cu2_e</td>\n",
       "      <td>0.003859</td>\n",
       "      <td>0</td>\n",
       "      <td>0.00%</td>\n",
       "    </tr>\n",
       "    <tr>\n",
       "      <td>fe2_e</td>\n",
       "      <td>EX_fe2_e</td>\n",
       "      <td>0.08742</td>\n",
       "      <td>0</td>\n",
       "      <td>0.00%</td>\n",
       "    </tr>\n",
       "    <tr>\n",
       "      <td>glc__D_e</td>\n",
       "      <td>EX_glc__D_e</td>\n",
       "      <td>75</td>\n",
       "      <td>6</td>\n",
       "      <td>54.55%</td>\n",
       "    </tr>\n",
       "    <tr>\n",
       "      <td>k_e</td>\n",
       "      <td>EX_k_e</td>\n",
       "      <td>1.062</td>\n",
       "      <td>0</td>\n",
       "      <td>0.00%</td>\n",
       "    </tr>\n",
       "    <tr>\n",
       "      <td>mg2_e</td>\n",
       "      <td>EX_mg2_e</td>\n",
       "      <td>0.04722</td>\n",
       "      <td>0</td>\n",
       "      <td>0.00%</td>\n",
       "    </tr>\n",
       "    <tr>\n",
       "      <td>mn2_e</td>\n",
       "      <td>EX_mn2_e</td>\n",
       "      <td>0.003761</td>\n",
       "      <td>0</td>\n",
       "      <td>0.00%</td>\n",
       "    </tr>\n",
       "    <tr>\n",
       "      <td>mobd_e</td>\n",
       "      <td>EX_mobd_e</td>\n",
       "      <td>3.81E-05</td>\n",
       "      <td>0</td>\n",
       "      <td>0.00%</td>\n",
       "    </tr>\n",
       "    <tr>\n",
       "      <td>nh4_e</td>\n",
       "      <td>EX_nh4_e</td>\n",
       "      <td>58.78</td>\n",
       "      <td>0</td>\n",
       "      <td>0.00%</td>\n",
       "    </tr>\n",
       "    <tr>\n",
       "      <td>ni2_e</td>\n",
       "      <td>EX_ni2_e</td>\n",
       "      <td>0.001758</td>\n",
       "      <td>0</td>\n",
       "      <td>0.00%</td>\n",
       "    </tr>\n",
       "    <tr>\n",
       "      <td>o2_e</td>\n",
       "      <td>EX_o2_e</td>\n",
       "      <td>177.5</td>\n",
       "      <td>0</td>\n",
       "      <td>0.00%</td>\n",
       "    </tr>\n",
       "    <tr>\n",
       "      <td>pi_e</td>\n",
       "      <td>EX_pi_e</td>\n",
       "      <td>5.25</td>\n",
       "      <td>0</td>\n",
       "      <td>0.00%</td>\n",
       "    </tr>\n",
       "    <tr>\n",
       "      <td>so4_e</td>\n",
       "      <td>EX_so4_e</td>\n",
       "      <td>1.371</td>\n",
       "      <td>0</td>\n",
       "      <td>0.00%</td>\n",
       "    </tr>\n",
       "    <tr>\n",
       "      <td>xyl__D_e</td>\n",
       "      <td>EX_xyl__D_e</td>\n",
       "      <td>75</td>\n",
       "      <td>5</td>\n",
       "      <td>45.45%</td>\n",
       "    </tr>\n",
       "    <tr>\n",
       "      <td>zn2_e</td>\n",
       "      <td>EX_zn2_e</td>\n",
       "      <td>0.001856</td>\n",
       "      <td>0</td>\n",
       "      <td>0.00%</td>\n",
       "    </tr>\n",
       "  </tbody>\n",
       "</table><h4>Secretion</h4><table border=\"1\" class=\"dataframe\">\n",
       "  <thead>\n",
       "    <tr style=\"text-align: right;\">\n",
       "      <th>Metabolite</th>\n",
       "      <th>Reaction</th>\n",
       "      <th>Flux</th>\n",
       "      <th>C-Number</th>\n",
       "      <th>C-Flux</th>\n",
       "    </tr>\n",
       "  </thead>\n",
       "  <tbody>\n",
       "    <tr>\n",
       "      <td>4crsol_c</td>\n",
       "      <td>DM_4crsol_c</td>\n",
       "      <td>-0.001214</td>\n",
       "      <td>7</td>\n",
       "      <td>0.00%</td>\n",
       "    </tr>\n",
       "    <tr>\n",
       "      <td>5drib_c</td>\n",
       "      <td>DM_5drib_c</td>\n",
       "      <td>-0.001225</td>\n",
       "      <td>5</td>\n",
       "      <td>0.00%</td>\n",
       "    </tr>\n",
       "    <tr>\n",
       "      <td>amob_c</td>\n",
       "      <td>DM_amob_c</td>\n",
       "      <td>-1.089E-05</td>\n",
       "      <td>15</td>\n",
       "      <td>0.00%</td>\n",
       "    </tr>\n",
       "    <tr>\n",
       "      <td>co2_e</td>\n",
       "      <td>EX_co2_e</td>\n",
       "      <td>-226.6</td>\n",
       "      <td>1</td>\n",
       "      <td>37.66%</td>\n",
       "    </tr>\n",
       "    <tr>\n",
       "      <td>h2o_e</td>\n",
       "      <td>EX_h2o_e</td>\n",
       "      <td>-295.3</td>\n",
       "      <td>0</td>\n",
       "      <td>0.00%</td>\n",
       "    </tr>\n",
       "    <tr>\n",
       "      <td>h_e</td>\n",
       "      <td>EX_h_e</td>\n",
       "      <td>-50.01</td>\n",
       "      <td>0</td>\n",
       "      <td>0.00%</td>\n",
       "    </tr>\n",
       "    <tr>\n",
       "      <td>meoh_e</td>\n",
       "      <td>EX_meoh_e</td>\n",
       "      <td>-1.089E-05</td>\n",
       "      <td>1</td>\n",
       "      <td>0.00%</td>\n",
       "    </tr>\n",
       "    <tr>\n",
       "      <td>xylt_e</td>\n",
       "      <td>EX_xylt_e</td>\n",
       "      <td>-75</td>\n",
       "      <td>5</td>\n",
       "      <td>62.33%</td>\n",
       "    </tr>\n",
       "  </tbody>\n",
       "</table>"
      ],
      "text/plain": [
       "<cobra.summary.model_summary.ModelSummary at 0x7f82f7b8d410>"
      ]
     },
     "execution_count": 53,
     "metadata": {},
     "output_type": "execute_result"
    }
   ],
   "source": [
    "mutant.summary()"
   ]
  },
  {
   "cell_type": "code",
   "execution_count": 54,
   "metadata": {},
   "outputs": [
    {
     "data": {
      "text/html": [
       "<h3>ac_c</h3><p>C2H3O2</p><h4>Producing Reactions</h4><table border=\"1\" class=\"dataframe\">\n",
       "  <thead>\n",
       "    <tr style=\"text-align: right;\">\n",
       "      <th>Percent</th>\n",
       "      <th>Flux</th>\n",
       "      <th>Reaction</th>\n",
       "      <th>Definition</th>\n",
       "    </tr>\n",
       "  </thead>\n",
       "  <tbody>\n",
       "    <tr>\n",
       "      <td>50.81%</td>\n",
       "      <td>1.61</td>\n",
       "      <td>ACODA</td>\n",
       "      <td>acorn_c + h2o_c --&gt; ac_c + orn_c</td>\n",
       "    </tr>\n",
       "    <tr>\n",
       "      <td>42.51%</td>\n",
       "      <td>1.347</td>\n",
       "      <td>CYSS</td>\n",
       "      <td>acser_c + h2s_c --&gt; ac_c + cys__L_c + h_c</td>\n",
       "    </tr>\n",
       "    <tr>\n",
       "      <td>6.68%</td>\n",
       "      <td>0.2118</td>\n",
       "      <td>UHGADA</td>\n",
       "      <td>h2o_c + u3aga_c --&gt; ac_c + u3hga_c</td>\n",
       "    </tr>\n",
       "  </tbody>\n",
       "</table><h4>Consuming Reactions</h4><table border=\"1\" class=\"dataframe\">\n",
       "  <thead>\n",
       "    <tr style=\"text-align: right;\">\n",
       "      <th>Percent</th>\n",
       "      <th>Flux</th>\n",
       "      <th>Reaction</th>\n",
       "      <th>Definition</th>\n",
       "    </tr>\n",
       "  </thead>\n",
       "  <tbody>\n",
       "    <tr>\n",
       "      <td>100.00%</td>\n",
       "      <td>-3.169</td>\n",
       "      <td>ACKr</td>\n",
       "      <td>ac_c + atp_c &lt;=&gt; actp_c + adp_c</td>\n",
       "    </tr>\n",
       "  </tbody>\n",
       "</table>"
      ],
      "text/plain": [
       "<cobra.summary.metabolite_summary.MetaboliteSummary at 0x7f830ab53c50>"
      ]
     },
     "execution_count": 54,
     "metadata": {},
     "output_type": "execute_result"
    }
   ],
   "source": [
    "mutant.id = mutant.id+\"_xy_strain_crispr_off\"\n",
    "cobra.io.write_sbml_model(mutant, \"result/model_for_consortia/iML1515_xylitol_strain_crispr_off.xml\")\n",
    "cobra.io.save_json_model(mutant, \"result/model_for_consortia/iML1515_xylitol_strain_crispr_off.json\")\n",
    "mutant.metabolites.ac_c.summary()"
   ]
  },
  {
   "cell_type": "code",
   "execution_count": 55,
   "metadata": {},
   "outputs": [
    {
     "name": "stdout",
     "output_type": "stream",
     "text": [
      "CYTBDpp: (0, 0)\n"
     ]
    },
    {
     "data": {
      "application/vnd.jupyter.widget-view+json": {
       "model_id": "6d1158f54ac5442596451d65d5b45c68",
       "version_major": 2,
       "version_minor": 0
      },
      "text/plain": [
       "Builder(reaction_data={'CYTDK2': 0.0, 'XPPT': 0.0, 'HXPRT': 0.0, 'NDPK5': -0.08725254557759557, 'SHK3Dr': 1.27…"
      ]
     },
     "metadata": {},
     "output_type": "display_data"
    }
   ],
   "source": [
    "f8, b = visualize_flux(crispri(mutant, \"on\"), new_objective)\n",
    "b"
   ]
  },
  {
   "cell_type": "code",
   "execution_count": 56,
   "metadata": {},
   "outputs": [
    {
     "data": {
      "text/html": [
       "<h3>Objective</h3><p>0.01 EX_ac_e + 0.7 BIOMASS_Ec_iML1515_core_75p37M + 0.29 EX_xylt_e = 24.887914205193404</p><h4>Uptake</h4><table border=\"1\" class=\"dataframe\">\n",
       "  <thead>\n",
       "    <tr style=\"text-align: right;\">\n",
       "      <th>Metabolite</th>\n",
       "      <th>Reaction</th>\n",
       "      <th>Flux</th>\n",
       "      <th>C-Number</th>\n",
       "      <th>C-Flux</th>\n",
       "    </tr>\n",
       "  </thead>\n",
       "  <tbody>\n",
       "    <tr>\n",
       "      <td>ca2_e</td>\n",
       "      <td>EX_ca2_e</td>\n",
       "      <td>0.01736</td>\n",
       "      <td>0</td>\n",
       "      <td>0.00%</td>\n",
       "    </tr>\n",
       "    <tr>\n",
       "      <td>cl_e</td>\n",
       "      <td>EX_cl_e</td>\n",
       "      <td>0.01736</td>\n",
       "      <td>0</td>\n",
       "      <td>0.00%</td>\n",
       "    </tr>\n",
       "    <tr>\n",
       "      <td>cobalt2_e</td>\n",
       "      <td>EX_cobalt2_e</td>\n",
       "      <td>8.336E-05</td>\n",
       "      <td>0</td>\n",
       "      <td>0.00%</td>\n",
       "    </tr>\n",
       "    <tr>\n",
       "      <td>cu2_e</td>\n",
       "      <td>EX_cu2_e</td>\n",
       "      <td>0.002364</td>\n",
       "      <td>0</td>\n",
       "      <td>0.00%</td>\n",
       "    </tr>\n",
       "    <tr>\n",
       "      <td>fe2_e</td>\n",
       "      <td>EX_fe2_e</td>\n",
       "      <td>0.05356</td>\n",
       "      <td>0</td>\n",
       "      <td>0.00%</td>\n",
       "    </tr>\n",
       "    <tr>\n",
       "      <td>glc__D_e</td>\n",
       "      <td>EX_glc__D_e</td>\n",
       "      <td>75</td>\n",
       "      <td>6</td>\n",
       "      <td>54.55%</td>\n",
       "    </tr>\n",
       "    <tr>\n",
       "      <td>k_e</td>\n",
       "      <td>EX_k_e</td>\n",
       "      <td>0.6509</td>\n",
       "      <td>0</td>\n",
       "      <td>0.00%</td>\n",
       "    </tr>\n",
       "    <tr>\n",
       "      <td>mg2_e</td>\n",
       "      <td>EX_mg2_e</td>\n",
       "      <td>0.02893</td>\n",
       "      <td>0</td>\n",
       "      <td>0.00%</td>\n",
       "    </tr>\n",
       "    <tr>\n",
       "      <td>mn2_e</td>\n",
       "      <td>EX_mn2_e</td>\n",
       "      <td>0.002304</td>\n",
       "      <td>0</td>\n",
       "      <td>0.00%</td>\n",
       "    </tr>\n",
       "    <tr>\n",
       "      <td>mobd_e</td>\n",
       "      <td>EX_mobd_e</td>\n",
       "      <td>2.334E-05</td>\n",
       "      <td>0</td>\n",
       "      <td>0.00%</td>\n",
       "    </tr>\n",
       "    <tr>\n",
       "      <td>nh4_e</td>\n",
       "      <td>EX_nh4_e</td>\n",
       "      <td>36.01</td>\n",
       "      <td>0</td>\n",
       "      <td>0.00%</td>\n",
       "    </tr>\n",
       "    <tr>\n",
       "      <td>ni2_e</td>\n",
       "      <td>EX_ni2_e</td>\n",
       "      <td>0.001077</td>\n",
       "      <td>0</td>\n",
       "      <td>0.00%</td>\n",
       "    </tr>\n",
       "    <tr>\n",
       "      <td>o2_e</td>\n",
       "      <td>EX_o2_e</td>\n",
       "      <td>107.8</td>\n",
       "      <td>0</td>\n",
       "      <td>0.00%</td>\n",
       "    </tr>\n",
       "    <tr>\n",
       "      <td>pi_e</td>\n",
       "      <td>EX_pi_e</td>\n",
       "      <td>3.217</td>\n",
       "      <td>0</td>\n",
       "      <td>0.00%</td>\n",
       "    </tr>\n",
       "    <tr>\n",
       "      <td>so4_e</td>\n",
       "      <td>EX_so4_e</td>\n",
       "      <td>0.8397</td>\n",
       "      <td>0</td>\n",
       "      <td>0.00%</td>\n",
       "    </tr>\n",
       "    <tr>\n",
       "      <td>xyl__D_e</td>\n",
       "      <td>EX_xyl__D_e</td>\n",
       "      <td>75</td>\n",
       "      <td>5</td>\n",
       "      <td>45.45%</td>\n",
       "    </tr>\n",
       "    <tr>\n",
       "      <td>zn2_e</td>\n",
       "      <td>EX_zn2_e</td>\n",
       "      <td>0.001137</td>\n",
       "      <td>0</td>\n",
       "      <td>0.00%</td>\n",
       "    </tr>\n",
       "  </tbody>\n",
       "</table><h4>Secretion</h4><table border=\"1\" class=\"dataframe\">\n",
       "  <thead>\n",
       "    <tr style=\"text-align: right;\">\n",
       "      <th>Metabolite</th>\n",
       "      <th>Reaction</th>\n",
       "      <th>Flux</th>\n",
       "      <th>C-Number</th>\n",
       "      <th>C-Flux</th>\n",
       "    </tr>\n",
       "  </thead>\n",
       "  <tbody>\n",
       "    <tr>\n",
       "      <td>4crsol_c</td>\n",
       "      <td>DM_4crsol_c</td>\n",
       "      <td>-0.0007436</td>\n",
       "      <td>7</td>\n",
       "      <td>0.00%</td>\n",
       "    </tr>\n",
       "    <tr>\n",
       "      <td>5drib_c</td>\n",
       "      <td>DM_5drib_c</td>\n",
       "      <td>-0.0007503</td>\n",
       "      <td>5</td>\n",
       "      <td>0.00%</td>\n",
       "    </tr>\n",
       "    <tr>\n",
       "      <td>amob_c</td>\n",
       "      <td>DM_amob_c</td>\n",
       "      <td>-6.669E-06</td>\n",
       "      <td>15</td>\n",
       "      <td>0.00%</td>\n",
       "    </tr>\n",
       "    <tr>\n",
       "      <td>ac_e</td>\n",
       "      <td>EX_ac_e</td>\n",
       "      <td>-80.37</td>\n",
       "      <td>2</td>\n",
       "      <td>23.36%</td>\n",
       "    </tr>\n",
       "    <tr>\n",
       "      <td>co2_e</td>\n",
       "      <td>EX_co2_e</td>\n",
       "      <td>-152.4</td>\n",
       "      <td>1</td>\n",
       "      <td>22.15%</td>\n",
       "    </tr>\n",
       "    <tr>\n",
       "      <td>h2o_e</td>\n",
       "      <td>EX_h2o_e</td>\n",
       "      <td>-165.4</td>\n",
       "      <td>0</td>\n",
       "      <td>0.00%</td>\n",
       "    </tr>\n",
       "    <tr>\n",
       "      <td>h_e</td>\n",
       "      <td>EX_h_e</td>\n",
       "      <td>-111</td>\n",
       "      <td>0</td>\n",
       "      <td>0.00%</td>\n",
       "    </tr>\n",
       "    <tr>\n",
       "      <td>meoh_e</td>\n",
       "      <td>EX_meoh_e</td>\n",
       "      <td>-6.669E-06</td>\n",
       "      <td>1</td>\n",
       "      <td>0.00%</td>\n",
       "    </tr>\n",
       "    <tr>\n",
       "      <td>xylt_e</td>\n",
       "      <td>EX_xylt_e</td>\n",
       "      <td>-75</td>\n",
       "      <td>5</td>\n",
       "      <td>54.49%</td>\n",
       "    </tr>\n",
       "  </tbody>\n",
       "</table>"
      ],
      "text/plain": [
       "<cobra.summary.model_summary.ModelSummary at 0x7f82f65a7750>"
      ]
     },
     "execution_count": 56,
     "metadata": {},
     "output_type": "execute_result"
    }
   ],
   "source": [
    "mutant.summary()"
   ]
  },
  {
   "cell_type": "code",
   "execution_count": 57,
   "metadata": {},
   "outputs": [
    {
     "data": {
      "text/html": [
       "<h3>ac_c</h3><p>C2H3O2</p><h4>Producing Reactions</h4><table border=\"1\" class=\"dataframe\">\n",
       "  <thead>\n",
       "    <tr style=\"text-align: right;\">\n",
       "      <th>Percent</th>\n",
       "      <th>Flux</th>\n",
       "      <th>Reaction</th>\n",
       "      <th>Definition</th>\n",
       "    </tr>\n",
       "  </thead>\n",
       "  <tbody>\n",
       "    <tr>\n",
       "      <td>97.56%</td>\n",
       "      <td>78.43</td>\n",
       "      <td>ACKr</td>\n",
       "      <td>ac_c + atp_c &lt;=&gt; actp_c + adp_c</td>\n",
       "    </tr>\n",
       "    <tr>\n",
       "      <td>1.23%</td>\n",
       "      <td>0.9863</td>\n",
       "      <td>ACODA</td>\n",
       "      <td>acorn_c + h2o_c --&gt; ac_c + orn_c</td>\n",
       "    </tr>\n",
       "    <tr>\n",
       "      <td>0.02%</td>\n",
       "      <td>0.01736</td>\n",
       "      <td>ACt4pp</td>\n",
       "      <td>ac_p + na1_p --&gt; ac_c + na1_c</td>\n",
       "    </tr>\n",
       "    <tr>\n",
       "      <td>1.03%</td>\n",
       "      <td>0.8252</td>\n",
       "      <td>CYSS</td>\n",
       "      <td>acser_c + h2s_c --&gt; ac_c + cys__L_c + h_c</td>\n",
       "    </tr>\n",
       "    <tr>\n",
       "      <td>0.16%</td>\n",
       "      <td>0.1298</td>\n",
       "      <td>UHGADA</td>\n",
       "      <td>h2o_c + u3aga_c --&gt; ac_c + u3hga_c</td>\n",
       "    </tr>\n",
       "  </tbody>\n",
       "</table><h4>Consuming Reactions</h4><table border=\"1\" class=\"dataframe\">\n",
       "  <thead>\n",
       "    <tr style=\"text-align: right;\">\n",
       "      <th>Percent</th>\n",
       "      <th>Flux</th>\n",
       "      <th>Reaction</th>\n",
       "      <th>Definition</th>\n",
       "    </tr>\n",
       "  </thead>\n",
       "  <tbody>\n",
       "    <tr>\n",
       "      <td>100.00%</td>\n",
       "      <td>-80.39</td>\n",
       "      <td>ACt2rpp</td>\n",
       "      <td>ac_p + h_p &lt;=&gt; ac_c + h_c</td>\n",
       "    </tr>\n",
       "  </tbody>\n",
       "</table>"
      ],
      "text/plain": [
       "<cobra.summary.metabolite_summary.MetaboliteSummary at 0x7f82f6ddc110>"
      ]
     },
     "execution_count": 57,
     "metadata": {},
     "output_type": "execute_result"
    }
   ],
   "source": [
    "mutant.metabolites.ac_c.summary()"
   ]
  },
  {
   "cell_type": "code",
   "execution_count": 184,
   "metadata": {},
   "outputs": [
    {
     "data": {
      "text/html": [
       "<div>\n",
       "<style scoped>\n",
       "    .dataframe tbody tr th:only-of-type {\n",
       "        vertical-align: middle;\n",
       "    }\n",
       "\n",
       "    .dataframe tbody tr th {\n",
       "        vertical-align: top;\n",
       "    }\n",
       "\n",
       "    .dataframe thead th {\n",
       "        text-align: right;\n",
       "    }\n",
       "</style>\n",
       "<table border=\"1\" class=\"dataframe\">\n",
       "  <thead>\n",
       "    <tr style=\"text-align: right;\">\n",
       "      <th></th>\n",
       "      <th>index</th>\n",
       "      <th>CYTDK2</th>\n",
       "      <th>XPPT</th>\n",
       "      <th>HXPRT</th>\n",
       "      <th>NDPK5</th>\n",
       "      <th>SHK3Dr</th>\n",
       "      <th>NDPK6</th>\n",
       "      <th>NDPK8</th>\n",
       "      <th>DHORTS</th>\n",
       "      <th>OMPDC</th>\n",
       "      <th>...</th>\n",
       "      <th>MPTS</th>\n",
       "      <th>MOCOS</th>\n",
       "      <th>BMOGDS2</th>\n",
       "      <th>FESD2s</th>\n",
       "      <th>OCTNLL</th>\n",
       "      <th>XYLR</th>\n",
       "      <th>XYLTt</th>\n",
       "      <th>EX_xylt_e</th>\n",
       "      <th>Strain</th>\n",
       "      <th>Experiment</th>\n",
       "    </tr>\n",
       "  </thead>\n",
       "  <tbody>\n",
       "    <tr>\n",
       "      <th>wt_biomass</th>\n",
       "      <td>wt_biomass</td>\n",
       "      <td>0.0</td>\n",
       "      <td>0.0</td>\n",
       "      <td>0.0</td>\n",
       "      <td>0.000000</td>\n",
       "      <td>4.694317</td>\n",
       "      <td>0.000000</td>\n",
       "      <td>-0.322292</td>\n",
       "      <td>-4.074467</td>\n",
       "      <td>4.074467</td>\n",
       "      <td>...</td>\n",
       "      <td>0.0</td>\n",
       "      <td>0.0</td>\n",
       "      <td>0.0</td>\n",
       "      <td>0.0</td>\n",
       "      <td>0.0</td>\n",
       "      <td>NaN</td>\n",
       "      <td>NaN</td>\n",
       "      <td>NaN</td>\n",
       "      <td>wt</td>\n",
       "      <td>biomass</td>\n",
       "    </tr>\n",
       "    <tr>\n",
       "      <th>wt_biomass_anaerobic</th>\n",
       "      <td>wt_biomass_anaerobic</td>\n",
       "      <td>0.0</td>\n",
       "      <td>0.0</td>\n",
       "      <td>0.0</td>\n",
       "      <td>0.000000</td>\n",
       "      <td>1.053009</td>\n",
       "      <td>0.000000</td>\n",
       "      <td>0.000000</td>\n",
       "      <td>-0.913966</td>\n",
       "      <td>0.913966</td>\n",
       "      <td>...</td>\n",
       "      <td>0.0</td>\n",
       "      <td>0.0</td>\n",
       "      <td>0.0</td>\n",
       "      <td>0.0</td>\n",
       "      <td>0.0</td>\n",
       "      <td>NaN</td>\n",
       "      <td>NaN</td>\n",
       "      <td>NaN</td>\n",
       "      <td>wt</td>\n",
       "      <td>biomass_anaerobic</td>\n",
       "    </tr>\n",
       "    <tr>\n",
       "      <th>mt_biomass_off</th>\n",
       "      <td>mt_biomass_off</td>\n",
       "      <td>0.0</td>\n",
       "      <td>0.0</td>\n",
       "      <td>0.0</td>\n",
       "      <td>0.000000</td>\n",
       "      <td>2.299051</td>\n",
       "      <td>0.000000</td>\n",
       "      <td>0.000000</td>\n",
       "      <td>-1.995478</td>\n",
       "      <td>1.995478</td>\n",
       "      <td>...</td>\n",
       "      <td>0.0</td>\n",
       "      <td>0.0</td>\n",
       "      <td>0.0</td>\n",
       "      <td>0.0</td>\n",
       "      <td>0.0</td>\n",
       "      <td>0.0</td>\n",
       "      <td>0.0</td>\n",
       "      <td>0.0</td>\n",
       "      <td>mt</td>\n",
       "      <td>biomass_off</td>\n",
       "    </tr>\n",
       "    <tr>\n",
       "      <th>mt_biomass_on</th>\n",
       "      <td>mt_biomass_on</td>\n",
       "      <td>0.0</td>\n",
       "      <td>0.0</td>\n",
       "      <td>0.0</td>\n",
       "      <td>0.133893</td>\n",
       "      <td>1.888781</td>\n",
       "      <td>0.129676</td>\n",
       "      <td>0.129676</td>\n",
       "      <td>-1.639381</td>\n",
       "      <td>1.639381</td>\n",
       "      <td>...</td>\n",
       "      <td>0.0</td>\n",
       "      <td>0.0</td>\n",
       "      <td>0.0</td>\n",
       "      <td>0.0</td>\n",
       "      <td>0.0</td>\n",
       "      <td>0.0</td>\n",
       "      <td>0.0</td>\n",
       "      <td>0.0</td>\n",
       "      <td>mt</td>\n",
       "      <td>biomass_on</td>\n",
       "    </tr>\n",
       "    <tr>\n",
       "      <th>mt_xylitol_off</th>\n",
       "      <td>mt_xylitol_off</td>\n",
       "      <td>0.0</td>\n",
       "      <td>0.0</td>\n",
       "      <td>0.0</td>\n",
       "      <td>0.073978</td>\n",
       "      <td>1.043580</td>\n",
       "      <td>0.071648</td>\n",
       "      <td>0.071648</td>\n",
       "      <td>-0.905783</td>\n",
       "      <td>0.905783</td>\n",
       "      <td>...</td>\n",
       "      <td>0.0</td>\n",
       "      <td>0.0</td>\n",
       "      <td>0.0</td>\n",
       "      <td>0.0</td>\n",
       "      <td>0.0</td>\n",
       "      <td>75.0</td>\n",
       "      <td>-75.0</td>\n",
       "      <td>75.0</td>\n",
       "      <td>mt</td>\n",
       "      <td>xylitol_off</td>\n",
       "    </tr>\n",
       "    <tr>\n",
       "      <th>mt_xylitol_on</th>\n",
       "      <td>mt_xylitol_on</td>\n",
       "      <td>0.0</td>\n",
       "      <td>0.0</td>\n",
       "      <td>0.0</td>\n",
       "      <td>0.073978</td>\n",
       "      <td>1.043580</td>\n",
       "      <td>0.071648</td>\n",
       "      <td>0.071648</td>\n",
       "      <td>-0.905783</td>\n",
       "      <td>0.905783</td>\n",
       "      <td>...</td>\n",
       "      <td>0.0</td>\n",
       "      <td>0.0</td>\n",
       "      <td>0.0</td>\n",
       "      <td>0.0</td>\n",
       "      <td>0.0</td>\n",
       "      <td>75.0</td>\n",
       "      <td>-75.0</td>\n",
       "      <td>75.0</td>\n",
       "      <td>mt</td>\n",
       "      <td>xylitol_on</td>\n",
       "    </tr>\n",
       "    <tr>\n",
       "      <th>mt_xyl+ace_off</th>\n",
       "      <td>mt_xyl+ace_off</td>\n",
       "      <td>0.0</td>\n",
       "      <td>0.0</td>\n",
       "      <td>0.0</td>\n",
       "      <td>0.000000</td>\n",
       "      <td>2.074391</td>\n",
       "      <td>0.000000</td>\n",
       "      <td>0.000000</td>\n",
       "      <td>-1.800483</td>\n",
       "      <td>1.800483</td>\n",
       "      <td>...</td>\n",
       "      <td>0.0</td>\n",
       "      <td>0.0</td>\n",
       "      <td>0.0</td>\n",
       "      <td>0.0</td>\n",
       "      <td>0.0</td>\n",
       "      <td>75.0</td>\n",
       "      <td>-75.0</td>\n",
       "      <td>75.0</td>\n",
       "      <td>mt</td>\n",
       "      <td>xyl+ace_off</td>\n",
       "    </tr>\n",
       "    <tr>\n",
       "      <th>mt_xyl+ace_on</th>\n",
       "      <td>mt_xyl+ace_on</td>\n",
       "      <td>0.0</td>\n",
       "      <td>0.0</td>\n",
       "      <td>0.0</td>\n",
       "      <td>-0.087253</td>\n",
       "      <td>1.270871</td>\n",
       "      <td>0.000000</td>\n",
       "      <td>0.000000</td>\n",
       "      <td>-1.103061</td>\n",
       "      <td>1.103061</td>\n",
       "      <td>...</td>\n",
       "      <td>0.0</td>\n",
       "      <td>0.0</td>\n",
       "      <td>0.0</td>\n",
       "      <td>0.0</td>\n",
       "      <td>0.0</td>\n",
       "      <td>75.0</td>\n",
       "      <td>-75.0</td>\n",
       "      <td>75.0</td>\n",
       "      <td>mt</td>\n",
       "      <td>xyl+ace_on</td>\n",
       "    </tr>\n",
       "  </tbody>\n",
       "</table>\n",
       "<p>8 rows × 2718 columns</p>\n",
       "</div>"
      ],
      "text/plain": [
       "                                     index  CYTDK2  XPPT  HXPRT     NDPK5  \\\n",
       "wt_biomass                      wt_biomass     0.0   0.0    0.0  0.000000   \n",
       "wt_biomass_anaerobic  wt_biomass_anaerobic     0.0   0.0    0.0  0.000000   \n",
       "mt_biomass_off              mt_biomass_off     0.0   0.0    0.0  0.000000   \n",
       "mt_biomass_on                mt_biomass_on     0.0   0.0    0.0  0.133893   \n",
       "mt_xylitol_off              mt_xylitol_off     0.0   0.0    0.0  0.073978   \n",
       "mt_xylitol_on                mt_xylitol_on     0.0   0.0    0.0  0.073978   \n",
       "mt_xyl+ace_off              mt_xyl+ace_off     0.0   0.0    0.0  0.000000   \n",
       "mt_xyl+ace_on                mt_xyl+ace_on     0.0   0.0    0.0 -0.087253   \n",
       "\n",
       "                        SHK3Dr     NDPK6     NDPK8    DHORTS     OMPDC  ...  \\\n",
       "wt_biomass            4.694317  0.000000 -0.322292 -4.074467  4.074467  ...   \n",
       "wt_biomass_anaerobic  1.053009  0.000000  0.000000 -0.913966  0.913966  ...   \n",
       "mt_biomass_off        2.299051  0.000000  0.000000 -1.995478  1.995478  ...   \n",
       "mt_biomass_on         1.888781  0.129676  0.129676 -1.639381  1.639381  ...   \n",
       "mt_xylitol_off        1.043580  0.071648  0.071648 -0.905783  0.905783  ...   \n",
       "mt_xylitol_on         1.043580  0.071648  0.071648 -0.905783  0.905783  ...   \n",
       "mt_xyl+ace_off        2.074391  0.000000  0.000000 -1.800483  1.800483  ...   \n",
       "mt_xyl+ace_on         1.270871  0.000000  0.000000 -1.103061  1.103061  ...   \n",
       "\n",
       "                      MPTS  MOCOS  BMOGDS2  FESD2s  OCTNLL  XYLR  XYLTt  \\\n",
       "wt_biomass             0.0    0.0      0.0     0.0     0.0   NaN    NaN   \n",
       "wt_biomass_anaerobic   0.0    0.0      0.0     0.0     0.0   NaN    NaN   \n",
       "mt_biomass_off         0.0    0.0      0.0     0.0     0.0   0.0    0.0   \n",
       "mt_biomass_on          0.0    0.0      0.0     0.0     0.0   0.0    0.0   \n",
       "mt_xylitol_off         0.0    0.0      0.0     0.0     0.0  75.0  -75.0   \n",
       "mt_xylitol_on          0.0    0.0      0.0     0.0     0.0  75.0  -75.0   \n",
       "mt_xyl+ace_off         0.0    0.0      0.0     0.0     0.0  75.0  -75.0   \n",
       "mt_xyl+ace_on          0.0    0.0      0.0     0.0     0.0  75.0  -75.0   \n",
       "\n",
       "                      EX_xylt_e  Strain         Experiment  \n",
       "wt_biomass                  NaN      wt            biomass  \n",
       "wt_biomass_anaerobic        NaN      wt  biomass_anaerobic  \n",
       "mt_biomass_off              0.0      mt        biomass_off  \n",
       "mt_biomass_on               0.0      mt         biomass_on  \n",
       "mt_xylitol_off             75.0      mt        xylitol_off  \n",
       "mt_xylitol_on              75.0      mt         xylitol_on  \n",
       "mt_xyl+ace_off             75.0      mt        xyl+ace_off  \n",
       "mt_xyl+ace_on              75.0      mt         xyl+ace_on  \n",
       "\n",
       "[8 rows x 2718 columns]"
      ]
     },
     "execution_count": 184,
     "metadata": {},
     "output_type": "execute_result"
    }
   ],
   "source": [
    "experiment = [\"wt_biomass\", \"wt_biomass_anaerobic\", \"mt_biomass_off\", \"mt_biomass_on\", \"mt_xylitol_off\", \"mt_xylitol_on\", \"mt_xyl+ace_off\", \"mt_xyl+ace_on\"]\n",
    "flux_data_all = pd.DataFrame(data=[f1, f2, f3, f4, f5, f6, f7, f8])\n",
    "flux_data_all.index = experiment\n",
    "flux_data_all.fillna(0)\n",
    "flux_data_all.reset_index(inplace=True)\n",
    "\n",
    "# new data frame with split value columns \n",
    "new = flux_data_all[\"index\"].str.split(\"_\", n = 1, expand = True) \n",
    "  \n",
    "# making separate first name column from new data frame \n",
    "flux_data_all[\"Strain\"]= new[0] \n",
    "  \n",
    "# making separate last name column from new data frame \n",
    "flux_data_all[\"Experiment\"]= new[1] \n",
    "  \n",
    "# Dropping old Name columns \n",
    "#flux_data_all.drop(columns =[\"index\"], inplace = True)\n",
    "flux_data_all.index = experiment\n",
    "flux_data_all"
   ]
  },
  {
   "cell_type": "code",
   "execution_count": 192,
   "metadata": {},
   "outputs": [
    {
     "data": {
      "image/png": "[encoded data removed]",
      "text/plain": [
       "<Figure size 432x288 with 1 Axes>"
      ]
     },
     "metadata": {},
     "output_type": "display_data"
    }
   ],
   "source": [
    "import matplotlib.pyplot as plt\n",
    "sns.set_theme(style=\"whitegrid\")\n",
    "sns.color_palette(\"pastel\")\n",
    "#flux_data_all.rename(columns = {'index':'experiment'})\n",
    "sns_plot = sns.scatterplot(size = \"EX_ac_e\",\n",
    "                y = \"EX_xylt_e\",\n",
    "                x = \"BIOMASS_Ec_iML1515_core_75p37M\",\n",
    "                hue = \"index\",\n",
    "                #style = \"Strain\",\n",
    "                sizes=(40, 400), \n",
    "                alpha=.5, \n",
    "                palette=\"dark\",\n",
    "               data=flux_data_all)\n",
    "plt.legend(bbox_to_anchor=(1.05, 1), loc=2, borderaxespad=0.)\n",
    "fig = sns_plot.get_figure()\n",
    "fig.savefig(\"output.png\")"
   ]
  },
  {
   "cell_type": "code",
   "execution_count": 151,
   "metadata": {},
   "outputs": [],
   "source": [
    "df_heatmap = flux_data_all.loc[:, [\"BIOMASS_Ec_iML1515_core_75p37M\", \"EX_glc__D_e\", \"EX_xyl__D_e\", \"EX_ac_e\", \"EX_xylt_e\"]]#, \"ACKr\", \"ACODA\", \"ACt4pp\", \"CYSS\", \"UHGADA\", \"ACt2rpp\"]]"
   ]
  },
  {
   "cell_type": "code",
   "execution_count": 188,
   "metadata": {},
   "outputs": [
    {
     "data": {
      "image/png": "[encoded data removed]",
      "text/plain": [
       "<Figure size 432x288 with 2 Axes>"
      ]
     },
     "metadata": {},
     "output_type": "display_data"
    }
   ],
   "source": [
    "df_heatmap.index = experiment\n",
    "g = sns.heatmap(df_heatmap.fillna(0).transpose(), \n",
    "                center=0, linewidths=.5, annot=True, cmap=\"YlGnBu\", annot_kws={\"fontsize\":8})\n",
    "g.set_xticklabels(g.get_xticklabels(), rotation=45, horizontalalignment='right')\n",
    "fig = g.get_figure()\n",
    "fig.savefig(\"heatmap.png\")"
   ]
  },
  {
   "cell_type": "code",
   "execution_count": null,
   "metadata": {},
   "outputs": [],
   "source": []
  }
 ],
 "metadata": {
  "kernelspec": {
   "display_name": "Python 3",
   "language": "python",
   "name": "python3"
  },
  "language_info": {
   "codemirror_mode": {
    "name": "ipython",
    "version": 3
   },
   "file_extension": ".py",
   "mimetype": "text/x-python",
   "name": "python",
   "nbconvert_exporter": "python",
   "pygments_lexer": "ipython3",
   "version": "3.7.8"
  }
 },
 "nbformat": 4,
 "nbformat_minor": 4
}
